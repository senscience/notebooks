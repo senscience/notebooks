{
  "cells": [
    {
      "cell_type": "markdown",
      "metadata": {
        "id": "Ow7g8UyK9_g8"
      },
      "source": [
        "# Explore the MomCare Data Package with `mlcroissant`\n",
        "\n",
        "## Introduction\n",
        "\n",
        "This document explores the MomCare Data Package, a rich dataset containing longitudinal maternal health data from value-based digital care in Tanzania. Leveraging the power of `mlcroissant`, a Python library for working with datasets in the MLCommons Croissant format, we will load, analyze, and visualize key aspects of this FAIR² data resource.\n",
        "\n",
        "\n",
        "Learn more:\n",
        "- Data Package doi: [10.71728/senscience.tyq3-fnvr](https://sen.science/doi/10.71728/senscience.tyq3-fnvr)\n",
        "- Frontiers Data Article doi: [xx.xxxxx/xxxxxx]()\n",
        "\n",
        "As a FAIR² Data Package, it ensures accessibility, interoperability, and AI-readiness, supporting research and policy aligned with European directives. FAIR² datasets follow the MLCommons **Croissant** 🥐 format for machine learning datasets. See the [MLCommons Croissant Format Specification](https://docs.mlcommons.org/croissant/docs/croissant-spec.html).\n",
        "\n",
        "Through a series of steps, we will:\n",
        "\n",
        "- Load the dataset and explore its structure using `mlcroissant`.\n",
        "- Examine the available record sets, which represent different facets of the maternal care journey, such as encounters, patients, and locations.\n",
        "- Extract data from specific record sets into pandas DataFrames for detailed analysis.\n",
        "- Visualize patient demographics, including age distribution across different cohorts.\n",
        "- Construct and visualize a patient-clinic network to understand patient engagement and the flow of care across different clinics.\n",
        "\n",
        "\n",
        "This exploration aims to provide insights into the MomCare dataset, demonstrating how FAIR² data principles and tools like `mlcroissant` can facilitate reproducible research and data-driven decision-making in maternal health."
      ]
    },
    {
      "cell_type": "markdown",
      "metadata": {
        "id": "Q5e9wHsd_u8l"
      },
      "source": [
        "### Install and import required libraries"
      ]
    },
    {
      "cell_type": "code",
      "source": [
        "# Install mlcroissant from the source\n",
        "!sudo apt-get install python3-dev graphviz libgraphviz-dev pkg-config\n",
        "!pip install \"git+https://github.com/crisely09/croissant.git@read-fhir#subdirectory=python/mlcroissant&egg=mlcroissant[dev]\""
      ],
      "metadata": {
        "id": "rnxPGlRid7_h"
      },
      "execution_count": null,
      "outputs": []
    },
    {
      "cell_type": "code",
      "execution_count": null,
      "metadata": {
        "id": "vmqyOu_29_hC"
      },
      "outputs": [],
      "source": [
        "import mlcroissant as mlc\n",
        "import pandas as pd\n",
        "import seaborn as sns\n",
        "import matplotlib.pyplot as plt\n",
        "\n",
        "from tabulate import tabulate\n",
        "from IPython.display import Markdown"
      ]
    },
    {
      "cell_type": "markdown",
      "metadata": {
        "id": "UCfCQUpK9_hE"
      },
      "source": [
        "## 1. Data Loading\n",
        "Load metadata and records from the dataset using `mlcroissant` and the URL of the FAIR<sup>2</sup> Data Package."
      ]
    },
    {
      "cell_type": "code",
      "execution_count": null,
      "metadata": {
        "id": "-Y6BD-1E9_hE"
      },
      "outputs": [],
      "source": [
        "# Provide the dataset URL\n",
        "url = 'https://sen.science/doi/10.71728/senscience.tyq3-fnvr/fair2.json'\n",
        "\n",
        "# Load the dataset metadata\n",
        "dataset = mlc.Dataset(url)\n",
        "metadata = dataset.metadata.to_json()\n",
        "print(f\"{metadata['name']}: {metadata['description']}\")"
      ]
    },
    {
      "cell_type": "markdown",
      "metadata": {
        "id": "hWb1iejO9_hF"
      },
      "source": [
        "## 2. Data Overview\n",
        "\n",
        "In the **Croissant** format, a RecordSet represents a structured collection of records, where each record is a granular dataset unit (e.g., an image, text file, or table row). It defines the structure of these records using a set of fields, such as the columns in a table or sheet, as seen in this example."
      ]
    },
    {
      "cell_type": "markdown",
      "metadata": {
        "id": "62UvJtS3dl32"
      },
      "source": [
        "### 2.1 Review available RecordSets"
      ]
    },
    {
      "cell_type": "code",
      "execution_count": null,
      "metadata": {
        "id": "yXd4zEhl9_hF"
      },
      "outputs": [],
      "source": [
        "# Format the list column as a Markdown-compatible string\n",
        "def format_list_column(row):\n",
        "    if isinstance(row, list):\n",
        "        return \"\\n\".join(f\"- {item}\" for item in row)  # Bullet point list\n",
        "    return str(row)"
      ]
    },
    {
      "cell_type": "code",
      "execution_count": null,
      "metadata": {
        "id": "ue7-uq0V9_hG"
      },
      "outputs": [],
      "source": [
        "# List all the record sets available in the dataset\n",
        "df = pd.DataFrame(metadata[\"recordSet\"])\n",
        "columns_to_keep = {\n",
        "    \"@id\": \"Record Set ID\",\n",
        "    \"description\": \"Description\"\n",
        "}\n",
        "df = df[list(columns_to_keep.keys())]\n",
        "df = df.rename(columns=columns_to_keep)\n",
        "\n",
        "# Convert DataFrame to Markdown table\n",
        "markdown_table = tabulate(df, headers=\"keys\", tablefmt=\"pipe\", showindex=False)\n",
        "\n",
        "# Render the table as Markdown in Jupyter\n",
        "display(Markdown(markdown_table))"
      ]
    },
    {
      "cell_type": "markdown",
      "metadata": {
        "id": "EOhaQDGn9_hG"
      },
      "source": [
        "## 3. Data Extraction\n",
        "\n",
        "#### 3.1 Load data from a specific record set into a DataFrame for analysis."
      ]
    },
    {
      "cell_type": "code",
      "execution_count": null,
      "metadata": {
        "id": "oSbAORrKdl33"
      },
      "outputs": [],
      "source": [
        "# Generate a dataframe for each record set in the metadata\n",
        "record_set_ids = df[\"Record Set ID\"].tolist()\n",
        "\n",
        "dataframes = {\n",
        "    record_set_id: pd.DataFrame(list(dataset.records(record_set=record_set_id)))\n",
        "    for record_set_id in record_set_ids\n",
        "}"
      ]
    },
    {
      "cell_type": "code",
      "execution_count": null,
      "metadata": {
        "id": "JvrQS6MGdl33"
      },
      "outputs": [],
      "source": [
        "prefix = \"https://sen.science/core/\"\n",
        "\n",
        "for name, df in dataframes.items():\n",
        "    df.rename(columns=lambda x: x.replace(prefix, \"\").split(\"/\")[-1], inplace=True)"
      ]
    },
    {
      "cell_type": "code",
      "execution_count": null,
      "metadata": {
        "id": "0_DPIbsfdl33"
      },
      "outputs": [],
      "source": [
        "# Display the first rows of each dataframe\n",
        "for name, df in dataframes.items():\n",
        "    display(Markdown(f\"#### {name}\"))\n",
        "    display(df.head())\n",
        "    display(Markdown(\"---\"))"
      ]
    },
    {
      "cell_type": "markdown",
      "metadata": {
        "id": "42095090"
      },
      "source": [
        "## 🧪 Patient Demographics and Engagement"
      ]
    },
    {
      "cell_type": "code",
      "execution_count": null,
      "metadata": {
        "id": "PWhqAFBAdl33"
      },
      "outputs": [],
      "source": [
        "# Reload episode and patient data\n",
        "episode_df = dataframes[\"https://sen.science/core/record-sets/episodeOfCare\"]\n",
        "episode_df[\"patient_id\"] = episode_df[\"patient_reference\"].apply(lambda x: x.decode() if isinstance(x, bytes) else x)\n",
        "# Ensure period_start is decoded from bytes if necessary before extracting date\n",
        "episode_df[\"period_start\"] = episode_df[\"period_start\"].apply(lambda x: x.decode() if isinstance(x, bytes) else x)\n",
        "episode_df[\"start_date\"] = pd.to_datetime(episode_df[\"period_start\"].str.extract(r\"(?:b')?(.*?)'?\\Z\", expand=False), errors=\"coerce\")\n",
        "\n",
        "patient_df = dataframes[\"https://sen.science/core/record-sets/patient\"]\n",
        "# Ensure patient_id is decoded from bytes if necessary\n",
        "patient_df[\"patient_id\"] = patient_df[\"identifier_value\"].apply(lambda x: x.decode() if isinstance(x, bytes) else x)\n",
        "# Decode bytes to string if necessary for birthDate and org_name columns\n",
        "def decode_if_bytes(val):\n",
        "    if isinstance(val, bytes):\n",
        "        return val.decode(errors=\"ignore\")\n",
        "    return val\n",
        "\n",
        "patient_df[\"birthDate\"] = patient_df[\"birthDate\"].apply(decode_if_bytes)\n",
        "patient_df[\"org_name\"] = patient_df[\"contact_organization_display\"].apply(decode_if_bytes)\n",
        "\n",
        "# Convert columns used for merging to string type to handle potential lists\n",
        "episode_df[\"patient_id\"] = episode_df[\"patient_id\"].astype(str)\n",
        "patient_df[\"patient_id\"] = patient_df[\"patient_id\"].astype(str)\n",
        "\n",
        "# Define cohort windows\n",
        "cohorts = [\n",
        "    (\"Cohort 1\", \"2020-11-01\", \"2021-02-28\"),\n",
        "    (\"Cohort 2\", \"2021-03-01\", \"2021-06-30\"),\n",
        "    (\"Cohort 3\", \"2021-07-01\", \"2021-10-31\"),\n",
        "    (\"Cohort 4\", \"2021-11-01\", \"2022-02-28\"),\n",
        "    (\"Cohort 5\", \"2022-03-01\", \"2022-06-30\"),\n",
        "    (\"Cohort 6\", \"2022-07-01\", \"2022-10-31\"),\n",
        "    (\"Cohort 7\", \"2022-11-01\", \"2023-02-28\"),\n",
        "    (\"Cohort 8\", \"2023-03-01\", \"2023-06-30\"),\n",
        "    (\"Cohort 9\", \"2023-07-01\", \"2023-10-31\")\n",
        "]\n",
        "\n",
        "def assign_cohort(date):\n",
        "    if pd.isnull(date): return \"Unassigned\"\n",
        "    for label, start, end in cohorts:\n",
        "        if pd.to_datetime(start) <= date <= pd.to_datetime(end):\n",
        "            return label\n",
        "    return \"Unassigned\"\n",
        "\n",
        "episode_df[\"cohort\"] = episode_df[\"start_date\"].apply(assign_cohort)\n",
        "\n",
        "# Merge to create cohort map\n",
        "cohort_map = episode_df[[\"patient_id\", \"cohort\", \"start_date\"]].merge(\n",
        "    patient_df[[\"patient_id\", \"birthDate\", \"org_name\"]], on=\"patient_id\", how=\"left\"\n",
        ")"
      ]
    },
    {
      "cell_type": "code",
      "execution_count": null,
      "metadata": {
        "id": "cbbb5eb8"
      },
      "outputs": [],
      "source": [
        "# Age distribution by cohort\n",
        "cohort_map['age'] = pd.to_datetime('today').year - pd.to_datetime(cohort_map['birthDate'], errors='coerce').dt.year\n",
        "sns.histplot(data=cohort_map, x='age', bins=20, hue='cohort', multiple='stack')\n",
        "plt.title('Age Distribution by Cohort')\n",
        "plt.xlabel('Age')\n",
        "plt.ylabel('Number of Patients')\n",
        "plt.tight_layout()\n",
        "plt.show()"
      ]
    },
    {
      "cell_type": "markdown",
      "source": [
        "The histogram shows the age distribution of patients across different cohorts. Each colored bar represents a cohort, and the height of the stacked bars indicates the number of patients in each age group within that cohort.\n",
        "\n",
        "From the figure, we can observe:\n",
        "\n",
        "Overall Age Distribution: The majority of patients appear to be in their 20s and 30s, which aligns with a population receiving maternal care.\n",
        "Cohort Variations: While the general age distribution is similar across cohorts, there might be slight shifts or variations in the peak age groups for different cohorts. This could suggest changes in the patient population over time or differences in how cohorts were defined or captured.\n",
        "Cohort Size: The height of the stacked bars also gives an indication of the relative size of each cohort in terms of patient numbers. Some cohorts appear to have more patients than others.\n",
        "This visualization helps us understand the demographic characteristics of the patient population within each cohort and how age is distributed over time."
      ],
      "metadata": {
        "id": "87U9QsQO5tUM"
      }
    },
    {
      "cell_type": "markdown",
      "metadata": {
        "id": "20c5f56c"
      },
      "source": [
        "## 🧭 Patient–Clinic Network Visualization"
      ]
    },
    {
      "cell_type": "code",
      "source": [
        "# prompt: show the network of patients and clinics of the top 10 clinics (with more patients assigned) use plotly to make it interactive\n",
        "\n",
        "import plotly.graph_objects as go\n",
        "import networkx as nx\n",
        "\n",
        "# Count patients per clinic\n",
        "clinic_patient_counts = cohort_map['org_name'].value_counts().reset_index()\n",
        "clinic_patient_counts.columns = ['org_name', 'patient_count']\n",
        "\n",
        "# Get the top 10 clinics\n",
        "top_clinics = clinic_patient_counts.head(10)['org_name'].tolist()\n",
        "\n",
        "# Filter cohort_map to include only patients from top clinics\n",
        "cohort_map_top_clinics = cohort_map[cohort_map['org_name'].isin(top_clinics)].copy()\n",
        "\n",
        "# Create a graph\n",
        "G = nx.Graph()\n",
        "\n",
        "# Add nodes for clinics (using original names from the top 10 list for node names)\n",
        "G.add_nodes_from(top_clinics, node_type='clinic')\n",
        "\n",
        "# Add nodes for patients\n",
        "unique_patients = cohort_map_top_clinics['patient_id'].unique()\n",
        "G.add_nodes_from(unique_patients, node_type='patient')\n",
        "\n",
        "# Add edges between patients and their respective clinics\n",
        "for index, row in cohort_map_top_clinics.iterrows():\n",
        "    G.add_edge(row['patient_id'], row['org_name'])\n",
        "\n",
        "# Define positions for nodes\n",
        "# Using a layout like spring_layout can help visualize the network structure\n",
        "pos = nx.spring_layout(G, seed=42) # for reproducible layout\n",
        "\n",
        "# Create edge trace\n",
        "edge_x = []\n",
        "edge_y = []\n",
        "for edge in G.edges():\n",
        "    x0, y0 = pos[edge[0]]\n",
        "    x1, y1 = pos[edge[1]]\n",
        "    edge_x.append(x0)\n",
        "    edge_x.append(x1)\n",
        "    edge_x.append(None) # Add None to separate lines\n",
        "    edge_y.append(y0)\n",
        "    edge_y.append(y1)\n",
        "    edge_y.append(None)\n",
        "\n",
        "edge_trace = go.Scatter(\n",
        "    x=edge_x, y=edge_y,\n",
        "    line=dict(width=0.5, color='#888'),\n",
        "    hoverinfo='none',\n",
        "    mode='lines')\n",
        "\n",
        "# Create node trace\n",
        "node_x = []\n",
        "node_y = []\n",
        "node_text = []\n",
        "node_color = []\n",
        "node_size = []\n",
        "\n",
        "for node in G.nodes():\n",
        "    x, y = pos[node]\n",
        "    node_x.append(x)\n",
        "    node_y.append(y)\n",
        "\n",
        "    if G.nodes[node]['node_type'] == 'clinic':\n",
        "        # Find the patient count for this clinic\n",
        "        clinic_name = node\n",
        "        patient_count = clinic_patient_counts[clinic_patient_counts['org_name'] == clinic_name]['patient_count'].iloc[0]\n",
        "        node_text.append(f'Clinic: {node}<br>Patients: {patient_count}')\n",
        "        node_color.append('red') # Clinics in red\n",
        "        # Scale size based on patient count, adjust scaling factor as needed\n",
        "        node_size.append(patient_count * 0.5) # Adjust multiplier for visual clarity\n",
        "    else:\n",
        "        # For patients\n",
        "        patient_id = node\n",
        "        patient_info = cohort_map_top_clinics[cohort_map_top_clinics['patient_id'] == patient_id].iloc[0]\n",
        "        node_text.append(f'Patient ID: {patient_id}<br>Clinic: {patient_info[\"org_name\"]}<br>Age: {patient_info[\"age\"]}')\n",
        "        node_color.append('blue') # Patients in blue\n",
        "        node_size.append(5) # Smaller size for patients\n",
        "\n",
        "\n",
        "node_trace = go.Scatter(\n",
        "    x=node_x, y=node_y,\n",
        "    mode='markers',\n",
        "    hoverinfo='text',\n",
        "    text=node_text,\n",
        "    marker=dict(\n",
        "        showscale=False,\n",
        "        colorscale='YlGnBu',\n",
        "        reversescale=True,\n",
        "        color=node_color,\n",
        "        size=node_size,\n",
        "        line_width=2))\n",
        "\n",
        "# Create figure\n",
        "fig = go.Figure(data=[edge_trace, node_trace],\n",
        "                layout=go.Layout(\n",
        "                    title='<br>Patient-Clinic Network (Top 10 Clinics)',\n",
        "                    titlefont_size=16,\n",
        "                    showlegend=False,\n",
        "                    hovermode='closest',\n",
        "                    margin=dict(b=20,l=5,r=5,t=40),\n",
        "                    annotations=[ dict(\n",
        "                        text=\"Network of patients connected to the top 10 clinics by patient count\",\n",
        "                        showarrow=False,\n",
        "                        xref=\"paper\", yref=\"paper\",\n",
        "                        x=0.005, y=-0.002 ) ],\n",
        "                    xaxis=dict(showgrid=False, zeroline=False, showticklabels=False),\n",
        "                    yaxis=dict(showgrid=False, zeroline=False, showticklabels=False))\n",
        "                )\n",
        "\n",
        "fig.show()\n"
      ],
      "metadata": {
        "id": "Lk2IiI3MuLAa"
      },
      "execution_count": null,
      "outputs": []
    },
    {
      "cell_type": "markdown",
      "source": [
        "The network graph visualizes the connections between patients (represented by blue nodes) and the top 10 clinics by patient count (represented by red nodes). An edge between a patient and a clinic indicates that the patient had at least one encounter at that clinic.\n",
        "\n",
        "From the figure, we can observe:\n",
        "\n",
        "Network Structure: The graph shows a bipartite-like structure, with patients connected to clinics. The density of connections around a clinic node indicates the number of unique patients who have visited that clinic.\n",
        "Clinic Centrality: The red clinic nodes with more connections (more edges emanating from them) are the clinics that have served a larger number of unique patients among the top 10.\n",
        "Patient Connections: The blue patient nodes are connected to one or more clinic nodes, showing which clinics each patient has visited.\n",
        "Connectivity: The graph illustrates the patient flow between patients and clinics.\n",
        "This visualization provides insights into which clinics are most frequently visited and how patients are distributed across these top clinics."
      ],
      "metadata": {
        "id": "-qnUblyt6tmh"
      }
    },
    {
      "cell_type": "markdown",
      "metadata": {
        "id": "27898eac"
      },
      "source": [
        "## Discussion\n",
        "\n",
        "Based on the analysis performed in this notebook, we can discuss the following key findings:\n",
        "\n",
        "*   **Patient Demographics:** Summarize the age distribution by cohort and any notable trends or variations observed.\n",
        "*   **Patient-Clinic Network:** Discuss the structure of the network, the most central clinics (those with the highest patient counts), and any insights into patient movement or engagement.\n",
        "\n",
        "Consider the implications of these findings for maternal health care in Tanzania and how the FAIR² nature of the dataset and the use of tools like `mlcroissant` facilitated this analysis."
      ]
    },
    {
      "cell_type": "markdown",
      "metadata": {
        "id": "ebc78638"
      },
      "source": [
        "## Conclusion\n",
        "\n",
        "In this notebook, we successfully loaded, analyzed, and visualized key aspects of the MomCare Data Package using `mlcroissant`. We explored patient demographics, visualized the patient-clinic network for the top clinics, and mapped clinic locations with patient counts.\n",
        "\n",
        "This analysis demonstrated the value of using FAIR² data and tools like `mlcroissant` for exploring complex health datasets. The insights gained from this initial exploration can serve as a foundation for further research into maternal health outcomes, care patterns, and the impact of digital health interventions in low-resource settings.\n",
        "\n",
        "Future work could involve deeper analysis of specific patient pathways, investigating the correlation between clinic characteristics and patient outcomes, or applying machine learning models to predict key health indicators using this dataset."
      ]
    }
  ],
  "metadata": {
    "colab": {
      "provenance": []
    },
    "kernelspec": {
      "display_name": "croissant",
      "language": "python",
      "name": "python3"
    },
    "language_info": {
      "codemirror_mode": {
        "name": "ipython",
        "version": 3
      },
      "file_extension": ".py",
      "mimetype": "text/x-python",
      "name": "python",
      "nbconvert_exporter": "python",
      "pygments_lexer": "ipython3",
      "version": "3.10.16"
    }
  },
  "nbformat": 4,
  "nbformat_minor": 0
}