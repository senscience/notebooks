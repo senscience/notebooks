{
 "cells": [
  {
   "cell_type": "markdown",
   "metadata": {},
   "source": [
    "# Explore the National-Scale Environmental Pressure Indicators Dataset\n",
    "\n",
    "## Introduction\n",
    "This notebook provides an exploratory data analysis (EDA) of the \"National-Scale Environmental Pressure Indicators from 1990 to 2050\" dataset. This dataset contains historical (1990–2020) and forecasted (2021–2050) national-level data for key environmental and socioeconomic indicators, including Municipal Solid Waste (MSW) generation, greenhouse gas emissions (CO₂, CH₄, N₂O), GDP per capita (PPP), and population for 43 countries.\n",
    "\n",
    "Learn more:\n",
    "- Data Package doi: [10.71728/senscience.k2f7-p5v9](https://doi.org/10.71728/senscience.k2f7-p5v9)\n",
    "\n",
    "This notebook will guide you through loading, exploring, and visualizing the data to uncover key trends and insights."
   ]
  },
  {
   "cell_type": "markdown",
   "metadata": {},
   "source": [
    "### Install and import required libraries"
   ]
  },
  {
   "cell_type": "code",
   "execution_count": null,
   "metadata": {},
   "outputs": [],
   "source": [
    "# Install mlcroissant from the source\n",
    "!sudo apt-get install python3-dev graphviz libgraphviz-dev pkg-config\n",
    "!pip install mlcroissant[dev]"
   ]
  },
  {
   "cell_type": "code",
   "execution_count": null,
   "metadata": {},
   "outputs": [],
   "source": [
    "import mlcroissant as mlc\n",
    "import pandas as pd\n",
    "import seaborn as sns\n",
    "import matplotlib.pyplot as plt\n",
    "from tabulate import tabulate\n",
    "\n",
    "from IPython.display import Markdown, display"
   ]
  },
  {
   "cell_type": "markdown",
   "metadata": {},
   "source": [
    "## 1. Data Loading\n",
    "First, we'll load the historical and forecasted data from the provided CSV files into pandas DataFrames. We've also included a commented-out section for loading the data using `mlcroissant` from a `fair2.json` file for future use."
   ]
  },
  {
   "cell_type": "code",
   "execution_count": null,
   "metadata": {},
   "outputs": [],
   "source": [
    "# --- For Future Use: Loading from FAIR² JSON --- #\n",
    "\n",
    "url = 'https://sen.science/doi/10.71728/senscience.k2f7-p5v9/fair2.json'\n",
    "dataset = mlc.Dataset(url)\n",
    "metadata = dataset.metadata.to_json()\n",
    "print(f\"{metadata['name']}: {metadata['description']}\")"
   ]
  },
  {
   "cell_type": "code",
   "execution_count": null,
   "metadata": {},
   "outputs": [],
   "source": [
    "# List all the record sets available in the dataset\n",
    "df_record_sets = pd.DataFrame(metadata[\"recordSet\"])\n",
    "columns_to_keep = {\n",
    "    \"@id\": \"Record Set ID\",\n",
    "    \"description\": \"Description\"\n",
    "}\n",
    "df_record_sets = df_record_sets[list(columns_to_keep.keys())]\n",
    "df_record_sets = df_record_sets.rename(columns=columns_to_keep)\n",
    "\n",
    "# Convert DataFrame to Markdown table\n",
    "markdown_table = tabulate(df_record_sets, headers=\"keys\", tablefmt=\"pipe\", showindex=False)\n",
    "# Render the table as Markdown in Jupyter\n",
    "display(Markdown(markdown_table))"
   ]
  },
  {
   "cell_type": "code",
   "execution_count": null,
   "metadata": {},
   "outputs": [],
   "source": [
    "# Assuming the record sets are named 'historical' and 'forecast'\n",
    "historical_records = dataset.records(record_set='https://sen.science/doi/10.71728/senscience.k2f7-p5v9/recordsets/Historical')\n",
    "forecast_records = dataset.records(record_set='https://sen.science/doi/10.71728/senscience.k2f7-p5v9/recordsets/Forecast')\n",
    "\n",
    "historical_df = pd.DataFrame(historical_records)\n",
    "forecast_df = pd.DataFrame(forecast_records)\n",
    "\n",
    "print(\"Data loaded successfully from FAIR² JSON.\")"
   ]
  },
  {
   "cell_type": "markdown",
   "metadata": {},
   "source": [
    "## 2. Data Overview\n",
    "Let's get a basic understanding of our datasets, including their shapes and data types."
   ]
  },
  {
   "cell_type": "code",
   "execution_count": null,
   "metadata": {},
   "outputs": [],
   "source": [
    "print(\"Historical Data Info:\")\n",
    "historical_df.info()\n",
    "print(\"\\n\" + \"-\"*50 + \"\\n\")\n",
    "print(\"Forecast Data Info:\")\n",
    "forecast_df.info()"
   ]
  },
  {
   "cell_type": "markdown",
   "metadata": {},
   "source": [
    "## 3. Exploratory Data Analysis (EDA)\n",
    "Now, let's dive deeper into the data to find patterns, anomalies, and relationships."
   ]
  },
  {
   "cell_type": "markdown",
   "metadata": {},
   "source": [
    "### 3.1 Check for Missing Values"
   ]
  },
  {
   "cell_type": "code",
   "execution_count": null,
   "metadata": {},
   "outputs": [],
   "source": [
    "print(\"Missing values in Historical Data:\")\n",
    "print(historical_df.isnull().sum())\n",
    "print(\"\\n\" + \"-\"*50 + \"\\n\")\n",
    "print(\"Missing values in Forecast Data:\")\n",
    "print(forecast_df.isnull().sum())"
   ]
  },
  {
   "cell_type": "markdown",
   "metadata": {},
   "source": [
    "The forecast data has missing values for emissions. This is expected as these are the values to be predicted. For our EDA, we will focus on the variables that are present."
   ]
  },
  {
   "cell_type": "markdown",
   "metadata": {},
   "source": [
    "### 3.2 Summary Statistics"
   ]
  },
  {
   "cell_type": "code",
   "execution_count": null,
   "metadata": {},
   "outputs": [],
   "source": [
    "display(Markdown(\"### Historical Data Summary Statistics\"))\n",
    "display(historical_df.describe())\n",
    "display(Markdown(\"### Forecast Data Summary Statistics\"))\n",
    "display(forecast_df.describe())"
   ]
  },
  {
   "cell_type": "code",
   "execution_count": null,
   "metadata": {},
   "outputs": [],
   "source": [
    "def clean_column_names(df):\n",
    "    prefix = \"https://sen.science/doi/10.71728/senscience.k2f7-p5v9/recordsets/Historical/fields/\"\n",
    "    def prettify(col):\n",
    "        if col.startswith(prefix):\n",
    "            col = col[len(prefix):]\n",
    "        # Insert spaces before capital letters and numbers\n",
    "        col = col.replace(\"CO₂\", \"CO2\").replace(\"CH₄\", \"CH4\").replace(\"N₂O\", \"N2O\")\n",
    "        col = ''.join([' ' + c if c.isupper() and i > 0 and col[i-1].islower() else c for i, c in enumerate(col)])\n",
    "        col = col.replace(\"GDPPPPcapita\", \"GDP PPP/capita\")\n",
    "        col = col.replace(\"MSWgeneration\", \"MSW generation\")\n",
    "        col = col.replace(\"CO2emissions\", \"CO₂ emissions\")\n",
    "        col = col.replace(\"CH4emissions\", \"CH₄ emissions\")\n",
    "        col = col.replace(\"N2Oemissions\", \"N₂O emissions\")\n",
    "        col = col.replace(\"CountryName\", \"Country Name\")\n",
    "        col = col.replace(\"Attribute\", \"Attribute\")\n",
    "        col = col.strip()\n",
    "        return col\n",
    "    df.columns = [prettify(col) for col in df.columns]\n",
    "    return df\n",
    "\n",
    "historical_df = clean_column_names(historical_df)\n",
    "def clean_forecast_column_names(df):\n",
    "    prefix = \"https://sen.science/doi/10.71728/senscience.k2f7-p5v9/recordsets/Forecast/fields/\"\n",
    "    def prettify(col):\n",
    "        if col.startswith(prefix):\n",
    "            col = col[len(prefix):]\n",
    "        col = col.replace(\"CO₂\", \"CO2\").replace(\"CH₄\", \"CH4\").replace(\"N₂O\", \"N2O\")\n",
    "        col = ''.join([' ' + c if c.isupper() and i > 0 and col[i-1].islower() else c for i, c in enumerate(col)])\n",
    "        col = col.replace(\"GDPPPPcapita\", \"GDP PPP/capita\")\n",
    "        col = col.replace(\"MSWgeneration\", \"MSW generation\")\n",
    "        col = col.replace(\"CO2emissions\", \"CO₂ emissions\")\n",
    "        col = col.replace(\"CH4emissions\", \"CH₄ emissions\")\n",
    "        col = col.replace(\"N2Oemissions\", \"N₂O emissions\")\n",
    "        col = col.replace(\"CountryName\", \"Country Name\")\n",
    "        col = col.replace(\"Attribute\", \"Attribute\")\n",
    "        col = col.strip()\n",
    "        return col\n",
    "    df.columns = [prettify(col) for col in df.columns]\n",
    "    return df\n",
    "\n",
    "forecast_df = clean_forecast_column_names(forecast_df)"
   ]
  },
  {
   "cell_type": "code",
   "execution_count": null,
   "metadata": {},
   "outputs": [],
   "source": [
    "import re\n",
    "\n",
    "def clean_binary_columns(df):\n",
    "    # Helper to decode binary strings and convert to appropriate types\n",
    "    def decode_value(val):\n",
    "        if isinstance(val, bytes):\n",
    "            val = val.decode('utf-8')\n",
    "        elif isinstance(val, str) and val.startswith(\"b'\") and val.endswith(\"'\"):\n",
    "            val = val[2:-1]\n",
    "        # Try to convert to float or int if possible\n",
    "        if isinstance(val, str):\n",
    "            # Remove commas and whitespace\n",
    "            val = val.replace(',', '').strip()\n",
    "            # Check for float\n",
    "            try:\n",
    "                if re.match(r'^-?\\d+\\.\\d+$', val):\n",
    "                    return float(val)\n",
    "                elif re.match(r'^-?\\d+$', val):\n",
    "                    return int(val)\n",
    "            except Exception:\n",
    "                pass\n",
    "        return val\n",
    "\n",
    "    for col in df.columns:\n",
    "        df[col] = df[col].apply(decode_value)\n",
    "    return df\n",
    "\n",
    "historical_df = clean_binary_columns(historical_df)\n",
    "forecast_df = clean_binary_columns(forecast_df)"
   ]
  },
  {
   "cell_type": "markdown",
   "metadata": {},
   "source": [
    "### 3.3 Data Visualization"
   ]
  },
  {
   "cell_type": "markdown",
   "metadata": {},
   "source": [
    "#### Global Distribution of Latest MSW Generation (Choropleth Map)"
   ]
  },
  {
   "cell_type": "code",
   "execution_count": null,
   "metadata": {},
   "outputs": [],
   "source": [
    "import plotly.graph_objects as go\n",
    "import numpy as np\n",
    "# Combine historical and forecast data for plotting\n",
    "historical_df_subset = historical_df[['Country Name', 'Attribute', 'MSW generation']]\n",
    "historical_df_subset = historical_df_subset.rename(columns={'Attribute': 'Year'})\n",
    "\n",
    "forecast_df['Year'] = forecast_df['Attribute'].str.split('_').str[1]\n",
    "forecast_df_subset = forecast_df[['Country Name', 'Year', 'MSW generation']]\n",
    "\n",
    "combined_df = pd.concat([historical_df_subset, forecast_df_subset])\n",
    "combined_df['Year'] = pd.to_numeric(combined_df['Year'])\n",
    "\n",
    "# Prepare the latest available data for each country using combined_df\n",
    "latest_year = combined_df.groupby('Country Name')['Year'].max().reset_index()\n",
    "latest_data = pd.merge(combined_df, latest_year, on=['Country Name', 'Year'], how='inner')\n",
    "\n",
    "# Log-transform and cap MSW generation for better visualization\n",
    "latest_data['log10_MSW_capped'] = np.log10(latest_data['MSW generation'].clip(lower=1))\n",
    "\n",
    "vmin = latest_data['log10_MSW_capped'].min()\n",
    "vmax = latest_data['log10_MSW_capped'].max()\n",
    "\n",
    "fig = go.Figure(go.Choropleth(\n",
    "    locations=latest_data[\"Country Name\"],\n",
    "    locationmode=\"country names\",\n",
    "    z=latest_data[\"log10_MSW_capped\"],\n",
    "    colorscale=\"Viridis\",\n",
    "    zmin=vmin,\n",
    "    zmax=vmax,\n",
    "    marker_line_color=\"gray\",\n",
    "    marker_line_width=0.7,\n",
    "    hovertext=latest_data[\"Country Name\"] + \"<br>MSW: \" + latest_data[\"MSW generation\"].round(0).astype(str),\n",
    "    hoverinfo=\"text\",\n",
    "    showscale=True,\n",
    "))\n",
    "\n",
    "fig.update_layout(\n",
    "    title_text=\"Latest MSW Generation by Country (log₁₀ scale)\",\n",
    "    geo=dict(showframe=False, showcoastlines=True)\n",
    ")\n",
    "fig.show()"
   ]
  },
  {
   "cell_type": "markdown",
   "metadata": {},
   "source": [
    "The figure below presents a choropleth map visualizing the latest available Municipal Solid Waste (MSW) generation for each country in the dataset, using a logarithmic (log₁₀) scale for improved clarity across a wide range of values. Countries are colored according to their MSW generation, allowing for quick comparison of waste generation levels globally. Hovering over each country reveals its name and the corresponding MSW value."
   ]
  },
  {
   "cell_type": "markdown",
   "metadata": {},
   "source": [
    "#### MSW Generation Trends for Selected Countries"
   ]
  },
  {
   "cell_type": "code",
   "execution_count": null,
   "metadata": {},
   "outputs": [],
   "source": [
    "# Combine historical and forecast data for plotting\n",
    "historical_df_subset = historical_df[['Country Name', 'Attribute', 'MSW generation']]\n",
    "historical_df_subset = historical_df_subset.rename(columns={'Attribute': 'Year'})\n",
    "\n",
    "forecast_df['Year'] = forecast_df['Attribute'].str.split('_').str[1]\n",
    "forecast_df_subset = forecast_df[['Country Name', 'Year', 'MSW generation']]\n",
    "\n",
    "combined_df = pd.concat([historical_df_subset, forecast_df_subset])\n",
    "combined_df['Year'] = pd.to_numeric(combined_df['Year'])\n",
    "\n",
    "selected_countries = ['United States', 'China', 'India', 'Brazil']\n",
    "plot_df = combined_df[combined_df['Country Name'].isin(selected_countries)]\n",
    "\n",
    "plt.figure(figsize=(14, 8))\n",
    "sns.lineplot(data=plot_df, x='Year', y='MSW generation', hue='Country Name')\n",
    "plt.title('Historical and Forecasted MSW Generation for Selected Countries')\n",
    "plt.ylabel('MSW Generation (tonnes/year)')\n",
    "plt.xlabel('Year')\n",
    "plt.grid(True)\n",
    "plt.show()"
   ]
  },
  {
   "cell_type": "markdown",
   "metadata": {},
   "source": [
    "The figure above shows the historical and forecasted Municipal Solid Waste (MSW) generation trends for selected countries (United States, China, India, Brazil) from 1990 to 2050. Each line represents a country, illustrating changes in annual MSW generation over time. This visualization highlights both past growth and future projections, allowing for comparison of waste generation trajectories among major economies."
   ]
  },
  {
   "cell_type": "markdown",
   "metadata": {},
   "source": [
    "#### Correlation Matrix of Historical Data"
   ]
  },
  {
   "cell_type": "code",
   "execution_count": null,
   "metadata": {},
   "outputs": [],
   "source": [
    "plt.figure(figsize=(10, 8))\n",
    "corr_matrix = historical_df[['Population', 'GDP PPP/capita', 'MSW generation', 'CO₂ emissions', 'CH₄ emissions', 'N₂O emissions']].corr()\n",
    "sns.heatmap(corr_matrix, annot=True, cmap='coolwarm', fmt='.2f')\n",
    "plt.title('Correlation Matrix of Historical Environmental Indicators')\n",
    "plt.show()"
   ]
  },
  {
   "cell_type": "markdown",
   "metadata": {},
   "source": [
    "## 4. Conclusion\n",
    "This notebook provided a preliminary exploratory data analysis of the National-Scale Environmental Pressure Indicators dataset. We loaded the historical and forecast data, checked for completeness, and generated summary statistics. \n",
    "\n",
    "Our visualizations revealed:\n",
    "- **Global Distribution of Latest MSW Generation**: The choropleth map illustrated the latest available Municipal Solid Waste (MSW) generation for each country, using a log₁₀ scale. This visualization highlighted stark differences in waste generation across countries, with major economies and populous nations producing the most waste.\n",
    "- **MSW Generation Trends**: We observed the historical and projected trends in MSW generation for key countries, highlighting significant increases over time, particularly for developing nations.\n",
    "- **Correlations**: The correlation matrix of the historical data showed strong positive correlations between MSW generation and all three greenhouse gas emissions, as well as between GDP per capita and CO₂ emissions. This suggests a strong link between economic activity, consumption, and environmental impact.\n",
    "This initial analysis sets the stage for more advanced modeling, such as forecasting future emissions based on socioeconomic drivers or analyzing the decoupling of economic growth from environmental pressures."
   ]
  }
 ],
 "metadata": {
  "kernelspec": {
   "display_name": "croissant",
   "language": "python",
   "name": "python3"
  },
  "language_info": {
   "codemirror_mode": {
    "name": "ipython",
    "version": 3
   },
   "file_extension": ".py",
   "mimetype": "text/x-python",
   "name": "python",
   "nbconvert_exporter": "python",
   "pygments_lexer": "ipython3",
   "version": "3.10.16"
  }
 },
 "nbformat": 4,
 "nbformat_minor": 2
}
