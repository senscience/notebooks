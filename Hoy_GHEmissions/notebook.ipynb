{
 "cells": [
  {
   "cell_type": "markdown",
   "metadata": {},
   "source": [
    "# Explore the National-Scale Environmental Pressure Indicators Dataset\n",
    "\n",
    "## Introduction\n",
    "This notebook provides an exploratory data analysis (EDA) of the \"National-Scale Environmental Pressure Indicators from 1990 to 2050\" dataset. This dataset contains historical (1990–2020) and forecasted (2021–2050) national-level data for key environmental and socioeconomic indicators, including Municipal Solid Waste (MSW) generation, greenhouse gas emissions (CO₂, CH₄, N₂O), GDP per capita (PPP), and population for 43 countries.\n",
    "\n",
    "Learn more:\n",
    "- Data Package doi: [10.71728/senscience.k2f7-p5v9](https://doi.org/10.71728/senscience.k2f7-p5v9)\n",
    "\n",
    "This notebook will guide you through loading, exploring, and visualizing the data to uncover key trends and insights."
   ]
  },
  {
   "cell_type": "markdown",
   "metadata": {},
   "source": [
    "### Install and import required libraries"
   ]
  },
  {
   "cell_type": "code",
   "execution_count": null,
   "metadata": {},
   "outputs": [],
   "source": [
    "# Install mlcroissant from the source\n",
    "!sudo apt-get install python3-dev graphviz libgraphviz-dev pkg-config\n",
    "!pip install mlcroissant[dev]"
   ]
  },
  {
   "cell_type": "code",
   "execution_count": 1,
   "metadata": {},
   "outputs": [],
   "source": [
    "from mlcroissant import Dataset\n",
    "import pandas as pd\n",
    "import numpy as np\n",
    "import matplotlib.pyplot as plt\n",
    "import seaborn as sns\n",
    "import plotly.express as px"
   ]
  },
  {
   "cell_type": "markdown",
   "metadata": {},
   "source": [
    "### Load and Preprocess the Data\n",
    "We will now use `mlcroissant` and the `fair2.json` metadata file to load the historical and forecast data from their respective record sets."
   ]
  },
  {
   "cell_type": "code",
   "execution_count": null,
   "metadata": {},
   "outputs": [
    {
     "name": "stderr",
     "output_type": "stream",
     "text": [
      "WARNING:absl:WARNING: The JSON-LD `@context` is not standard. Refer to the official @context (e.g., from the example datasets in https://github.com/mlcommons/croissant/tree/main/datasets/1.0). The different keys are: {'references', 'fileProperty', 'fileSet', 'replace', 'transform', 'path', 'parentField', 'data', 'sc', 'includes', 'jsonPath', 'md5', 'regex', 'format', 'isLiveDataset', 'examples', 'separator', 'repeated', 'key', 'subField'}\n",
      "WARNING:absl:Found the following 1 warning(s) during the validation:\n",
      "  -  [Metadata(National-Scale Environmental Pressure Indicators from 1990 to 2050: A Dataset for Emissions, Waste, and Socioeconomic Drivers)] Property \"https://schema.org/version\" is recommended, but does not exist.\n"
     ]
    },
    {
     "name": "stdout",
     "output_type": "stream",
     "text": [
      "Preprocessing complete. DataFrames are ready for analysis.\n"
     ]
    },
    {
     "name": "stderr",
     "output_type": "stream",
     "text": [
      "/var/folders/sr/rb0fdyrd6mj5vn4v5zcgw8vm0000gp/T/ipykernel_18134/4047612580.py:18: FutureWarning: DataFrame.applymap has been deprecated. Use DataFrame.map instead.\n",
      "  historical_df = historical_df.applymap(decode_bytes)\n",
      "/var/folders/sr/rb0fdyrd6mj5vn4v5zcgw8vm0000gp/T/ipykernel_18134/4047612580.py:19: FutureWarning: DataFrame.applymap has been deprecated. Use DataFrame.map instead.\n",
      "  forecast_df = forecast_df.applymap(decode_bytes)\n"
     ]
    }
   ],
   "source": [
    "# Load the dataset using mlcroissant and the fair2.json metadata file\n",
    "ds = Dataset(jsonld='https://sen.science/doi/10.71728/senscience.k2f7-p5v9/fair2.json')\n",
    "\n",
    "# Load historical and forecast records as DataFrames\n",
    "historical_records = ds.records('https://sen.science/doi/10.71728/senscience.k2f7-p5v9/recordsets/Historical')\n",
    "forecast_records = ds.records('https://sen.science/doi/10.71728/senscience.k2f7-p5v9/recordsets/Forecast')\n",
    "\n",
    "\n",
    "# 1. Clean up byte strings in both DataFrames and ensure numeric columns are read as numbers\n",
    "def decode_bytes(val):\n",
    "    if isinstance(val, bytes):\n",
    "        return val.decode('utf-8')\n",
    "    return val\n",
    "\n",
    "historical_df = pd.DataFrame(historical_records)\n",
    "forecast_df = pd.DataFrame(forecast_records)\n",
    "\n",
    "historical_df = historical_df.applymap(decode_bytes)\n",
    "forecast_df = forecast_df.applymap(decode_bytes)\n",
    "\n",
    "# Convert columns that should be numeric to numbers (before renaming, use original column names)\n",
    "numeric_cols_hist = ['Year', 'Population', 'GDPcapitaPPPcurrentinternational$', 'MSWgenerationtyear',\n",
    "                     'CO2emissionstCO2-eqyear', 'CH4emissionstCO2-eqyear', 'N2OemissionstCO2-eqyear']\n",
    "numeric_cols_fore = ['Year', 'Population', 'GDPcapitaPPPcurrentinternational$', 'MSWgenerationtyear',\n",
    "                     'CO2emissionstCO2-eqyear', 'CH4emissionstCO2-eqyear', 'N2OemissionstCO2-eqyear']\n",
    "\n",
    "for col in numeric_cols_hist:\n",
    "    if col in historical_df.columns:\n",
    "        historical_df[col] = pd.to_numeric(historical_df[col], errors='coerce')\n",
    "for col in numeric_cols_fore:\n",
    "    if col in forecast_df.columns:\n",
    "        forecast_df[col] = pd.to_numeric(forecast_df[col], errors='coerce')\n",
    "\n",
    "# 2. Rename columns to standard names using the provided mapping\n",
    "common_columns_rename = {\n",
    "    'https://sen.science/doi/10.71728/senscience.k2f7-p5v9/recordsets/Historical/fields/CountryRegionName': 'Country',\n",
    "    'https://sen.science/doi/10.71728/senscience.k2f7-p5v9/recordsets/Historical/fields/Year': 'Year',\n",
    "    'https://sen.science/doi/10.71728/senscience.k2f7-p5v9/recordsets/Historical/fields/Population': 'Population',\n",
    "    'https://sen.science/doi/10.71728/senscience.k2f7-p5v9/recordsets/Historical/fields/GDPcapitaPPPcurrentinternational$': 'GDP_per_capita',\n",
    "    'https://sen.science/doi/10.71728/senscience.k2f7-p5v9/recordsets/Historical/fields/MSWgenerationtyear': 'MSW_generation',\n",
    "    'https://sen.science/doi/10.71728/senscience.k2f7-p5v9/recordsets/Historical/fields/CO2emissionstCO2-eqyear': 'CO2_emissions',\n",
    "    'https://sen.science/doi/10.71728/senscience.k2f7-p5v9/recordsets/Historical/fields/CH4emissionstCO2-eqyear': 'CH4_emissions',\n",
    "    'https://sen.science/doi/10.71728/senscience.k2f7-p5v9/recordsets/Historical/fields/N2OemissionstCO2-eqyear': 'N2O_emissions',\n",
    "    'https://sen.science/doi/10.71728/senscience.k2f7-p5v9/recordsets/Forecast/fields/CountryRegionName': 'Country',\n",
    "    'https://sen.science/doi/10.71728/senscience.k2f7-p5v9/recordsets/Forecast/fields/Year': 'Year',\n",
    "    'https://sen.science/doi/10.71728/senscience.k2f7-p5v9/recordsets/Forecast/fields/Population': 'Population',\n",
    "    'https://sen.science/doi/10.71728/senscience.k2f7-p5v9/recordsets/Forecast/fields/GDPcapitaPPPcurrentinternational$': 'GDP_per_capita',\n",
    "    'https://sen.science/doi/10.71728/senscience.k2f7-p5v9/recordsets/Forecast/fields/MSWgenerationtyear': 'MSW_generation',\n",
    "    'https://sen.science/doi/10.71728/senscience.k2f7-p5v9/recordsets/Forecast/fields/CO2emissionstCO2-eqyear': 'CO2_emissions',\n",
    "    'https://sen.science/doi/10.71728/senscience.k2f7-p5v9/recordsets/Forecast/fields/CH4emissionstCO2-eqyear': 'CH4_emissions',\n",
    "    'https://sen.science/doi/10.71728/senscience.k2f7-p5v9/recordsets/Forecast/fields/N2OemissionstCO2-eqyear': 'N2O_emissions',\n",
    "    'https://sen.science/doi/10.71728/senscience.k2f7-p5v9/recordsets/Forecast/fields/CH4emissionstCO2-weyear': 'CH4_emissions_we'\n",
    "}\n",
    "historical_df = historical_df.rename(columns=common_columns_rename)\n",
    "forecast_df = forecast_df.rename(columns=common_columns_rename)\n",
    "\n",
    "# 3. For forecast_df, split 'Year' if it contains scenario info (e.g., 'SSP1_2021')\n",
    "if forecast_df['Year'].astype(str).str.contains('_', na=False).any():\n",
    "    mask = forecast_df['Year'].astype(str).str.contains('_', na=False)\n",
    "    scenario_year = forecast_df.loc[mask, 'Year'].astype(str).str.split('_', expand=True, n=1)\n",
    "    forecast_df.loc[mask, 'Scenario'] = scenario_year[0]\n",
    "    forecast_df.loc[mask, 'Year'] = scenario_year[1]\n",
    "else:\n",
    "    forecast_df['Scenario'] = np.nan\n",
    "\n",
    "# 4. Convert numeric columns to appropriate types\n",
    "for col in ['Year', 'Population', 'GDP_per_capita', 'MSW_generation', 'CO2_emissions', 'CH4_emissions', 'N2O_emissions']:\n",
    "    if col in historical_df.columns:\n",
    "        historical_df[col] = pd.to_numeric(historical_df[col], errors='coerce')\n",
    "    if col in forecast_df.columns:\n",
    "        forecast_df[col] = pd.to_numeric(forecast_df[col], errors='coerce')\n",
    "\n",
    "# 5. Drop extra column in forecast_df if present\n",
    "if 'CH4_emissions_we' in forecast_df.columns:\n",
    "    forecast_df = forecast_df.drop(columns=['CH4_emissions_we'])\n",
    "\n",
    "print(\"Preprocessing complete. DataFrames are ready for analysis.\")"
   ]
  },
  {
   "cell_type": "markdown",
   "metadata": {},
   "source": [
    "### Explore the Datasets\n",
    "\n",
    "Now, let's take a first look at the loaded dataframes to understand their structure, columns, and content."
   ]
  },
  {
   "cell_type": "code",
   "execution_count": 3,
   "metadata": {},
   "outputs": [
    {
     "name": "stdout",
     "output_type": "stream",
     "text": [
      "Historical Data Head:\n"
     ]
    },
    {
     "data": {
      "text/html": [
       "<div>\n",
       "<style scoped>\n",
       "    .dataframe tbody tr th:only-of-type {\n",
       "        vertical-align: middle;\n",
       "    }\n",
       "\n",
       "    .dataframe tbody tr th {\n",
       "        vertical-align: top;\n",
       "    }\n",
       "\n",
       "    .dataframe thead th {\n",
       "        text-align: right;\n",
       "    }\n",
       "</style>\n",
       "<table border=\"1\" class=\"dataframe\">\n",
       "  <thead>\n",
       "    <tr style=\"text-align: right;\">\n",
       "      <th></th>\n",
       "      <th>Country</th>\n",
       "      <th>Year</th>\n",
       "      <th>Population</th>\n",
       "      <th>GDP_per_capita</th>\n",
       "      <th>MSW_generation</th>\n",
       "      <th>CO2_emissions</th>\n",
       "      <th>CH4_emissions</th>\n",
       "      <th>N2O_emissions</th>\n",
       "    </tr>\n",
       "  </thead>\n",
       "  <tbody>\n",
       "    <tr>\n",
       "      <th>0</th>\n",
       "      <td>Algeria</td>\n",
       "      <td>1990</td>\n",
       "      <td>25758872</td>\n",
       "      <td>6912.087141</td>\n",
       "      <td>6293602.897</td>\n",
       "      <td>279093.7905</td>\n",
       "      <td>3262204.229</td>\n",
       "      <td>35910.85209</td>\n",
       "    </tr>\n",
       "    <tr>\n",
       "      <th>1</th>\n",
       "      <td>Algeria</td>\n",
       "      <td>1991</td>\n",
       "      <td>26400468</td>\n",
       "      <td>6888.509950</td>\n",
       "      <td>7562686.980</td>\n",
       "      <td>335372.1248</td>\n",
       "      <td>3397646.844</td>\n",
       "      <td>43152.15593</td>\n",
       "    </tr>\n",
       "    <tr>\n",
       "      <th>2</th>\n",
       "      <td>Algeria</td>\n",
       "      <td>1992</td>\n",
       "      <td>27028330</td>\n",
       "      <td>7005.700763</td>\n",
       "      <td>6989796.547</td>\n",
       "      <td>309966.9371</td>\n",
       "      <td>3590497.254</td>\n",
       "      <td>39883.28372</td>\n",
       "    </tr>\n",
       "    <tr>\n",
       "      <th>3</th>\n",
       "      <td>Algeria</td>\n",
       "      <td>1993</td>\n",
       "      <td>27635517</td>\n",
       "      <td>6866.889117</td>\n",
       "      <td>7417683.078</td>\n",
       "      <td>328941.8353</td>\n",
       "      <td>3723096.982</td>\n",
       "      <td>42324.77394</td>\n",
       "    </tr>\n",
       "    <tr>\n",
       "      <th>4</th>\n",
       "      <td>Algeria</td>\n",
       "      <td>1994</td>\n",
       "      <td>28213777</td>\n",
       "      <td>6807.951662</td>\n",
       "      <td>7434268.428</td>\n",
       "      <td>329677.3231</td>\n",
       "      <td>3867265.309</td>\n",
       "      <td>42419.40877</td>\n",
       "    </tr>\n",
       "  </tbody>\n",
       "</table>\n",
       "</div>"
      ],
      "text/plain": [
       "   Country  Year  Population  GDP_per_capita  MSW_generation  CO2_emissions  \\\n",
       "0  Algeria  1990    25758872     6912.087141     6293602.897    279093.7905   \n",
       "1  Algeria  1991    26400468     6888.509950     7562686.980    335372.1248   \n",
       "2  Algeria  1992    27028330     7005.700763     6989796.547    309966.9371   \n",
       "3  Algeria  1993    27635517     6866.889117     7417683.078    328941.8353   \n",
       "4  Algeria  1994    28213777     6807.951662     7434268.428    329677.3231   \n",
       "\n",
       "   CH4_emissions  N2O_emissions  \n",
       "0    3262204.229    35910.85209  \n",
       "1    3397646.844    43152.15593  \n",
       "2    3590497.254    39883.28372  \n",
       "3    3723096.982    42324.77394  \n",
       "4    3867265.309    42419.40877  "
      ]
     },
     "metadata": {},
     "output_type": "display_data"
    },
    {
     "name": "stdout",
     "output_type": "stream",
     "text": [
      "\n",
      "Forecast Data Head:\n"
     ]
    },
    {
     "data": {
      "text/html": [
       "<div>\n",
       "<style scoped>\n",
       "    .dataframe tbody tr th:only-of-type {\n",
       "        vertical-align: middle;\n",
       "    }\n",
       "\n",
       "    .dataframe tbody tr th {\n",
       "        vertical-align: top;\n",
       "    }\n",
       "\n",
       "    .dataframe thead th {\n",
       "        text-align: right;\n",
       "    }\n",
       "</style>\n",
       "<table border=\"1\" class=\"dataframe\">\n",
       "  <thead>\n",
       "    <tr style=\"text-align: right;\">\n",
       "      <th></th>\n",
       "      <th>Country</th>\n",
       "      <th>Year</th>\n",
       "      <th>Population</th>\n",
       "      <th>GDP_per_capita</th>\n",
       "      <th>MSW_generation</th>\n",
       "      <th>CO2_emissions</th>\n",
       "      <th>CH4_emissions</th>\n",
       "      <th>N2O_emissions</th>\n",
       "      <th>Scenario</th>\n",
       "    </tr>\n",
       "  </thead>\n",
       "  <tbody>\n",
       "    <tr>\n",
       "      <th>0</th>\n",
       "      <td>Algeria</td>\n",
       "      <td>1990</td>\n",
       "      <td>25758872.0</td>\n",
       "      <td>6912.087141</td>\n",
       "      <td>6293602.897</td>\n",
       "      <td>279093.7905</td>\n",
       "      <td>3262204.229</td>\n",
       "      <td>35910.85209</td>\n",
       "      <td>NaN</td>\n",
       "    </tr>\n",
       "    <tr>\n",
       "      <th>1</th>\n",
       "      <td>Algeria</td>\n",
       "      <td>1991</td>\n",
       "      <td>26400468.0</td>\n",
       "      <td>6888.509950</td>\n",
       "      <td>7562686.980</td>\n",
       "      <td>335372.1248</td>\n",
       "      <td>3397646.844</td>\n",
       "      <td>43152.15593</td>\n",
       "      <td>NaN</td>\n",
       "    </tr>\n",
       "    <tr>\n",
       "      <th>2</th>\n",
       "      <td>Algeria</td>\n",
       "      <td>1992</td>\n",
       "      <td>27028330.0</td>\n",
       "      <td>7005.700763</td>\n",
       "      <td>6989796.547</td>\n",
       "      <td>309966.9371</td>\n",
       "      <td>3590497.254</td>\n",
       "      <td>39883.28372</td>\n",
       "      <td>NaN</td>\n",
       "    </tr>\n",
       "    <tr>\n",
       "      <th>3</th>\n",
       "      <td>Algeria</td>\n",
       "      <td>1993</td>\n",
       "      <td>27635517.0</td>\n",
       "      <td>6866.889117</td>\n",
       "      <td>7417683.078</td>\n",
       "      <td>328941.8353</td>\n",
       "      <td>3723096.982</td>\n",
       "      <td>42324.77394</td>\n",
       "      <td>NaN</td>\n",
       "    </tr>\n",
       "    <tr>\n",
       "      <th>4</th>\n",
       "      <td>Algeria</td>\n",
       "      <td>1994</td>\n",
       "      <td>28213777.0</td>\n",
       "      <td>6807.951662</td>\n",
       "      <td>7434268.428</td>\n",
       "      <td>329677.3231</td>\n",
       "      <td>3867265.309</td>\n",
       "      <td>42419.40877</td>\n",
       "      <td>NaN</td>\n",
       "    </tr>\n",
       "  </tbody>\n",
       "</table>\n",
       "</div>"
      ],
      "text/plain": [
       "   Country  Year  Population  GDP_per_capita  MSW_generation  CO2_emissions  \\\n",
       "0  Algeria  1990  25758872.0     6912.087141     6293602.897    279093.7905   \n",
       "1  Algeria  1991  26400468.0     6888.509950     7562686.980    335372.1248   \n",
       "2  Algeria  1992  27028330.0     7005.700763     6989796.547    309966.9371   \n",
       "3  Algeria  1993  27635517.0     6866.889117     7417683.078    328941.8353   \n",
       "4  Algeria  1994  28213777.0     6807.951662     7434268.428    329677.3231   \n",
       "\n",
       "   CH4_emissions  N2O_emissions Scenario  \n",
       "0    3262204.229    35910.85209      NaN  \n",
       "1    3397646.844    43152.15593      NaN  \n",
       "2    3590497.254    39883.28372      NaN  \n",
       "3    3723096.982    42324.77394      NaN  \n",
       "4    3867265.309    42419.40877      NaN  "
      ]
     },
     "metadata": {},
     "output_type": "display_data"
    }
   ],
   "source": [
    "print(\"Historical Data Head:\")\n",
    "display(historical_df.head())\n",
    "\n",
    "print(\"\\nForecast Data Head:\")\n",
    "display(forecast_df.head())"
   ]
  },
  {
   "cell_type": "code",
   "execution_count": 4,
   "metadata": {},
   "outputs": [
    {
     "name": "stdout",
     "output_type": "stream",
     "text": [
      "Historical Data Head:\n"
     ]
    },
    {
     "data": {
      "text/html": [
       "<div>\n",
       "<style scoped>\n",
       "    .dataframe tbody tr th:only-of-type {\n",
       "        vertical-align: middle;\n",
       "    }\n",
       "\n",
       "    .dataframe tbody tr th {\n",
       "        vertical-align: top;\n",
       "    }\n",
       "\n",
       "    .dataframe thead th {\n",
       "        text-align: right;\n",
       "    }\n",
       "</style>\n",
       "<table border=\"1\" class=\"dataframe\">\n",
       "  <thead>\n",
       "    <tr style=\"text-align: right;\">\n",
       "      <th></th>\n",
       "      <th>Country</th>\n",
       "      <th>Year</th>\n",
       "      <th>Population</th>\n",
       "      <th>GDP_per_capita</th>\n",
       "      <th>MSW_generation</th>\n",
       "      <th>CO2_emissions</th>\n",
       "      <th>CH4_emissions</th>\n",
       "      <th>N2O_emissions</th>\n",
       "    </tr>\n",
       "  </thead>\n",
       "  <tbody>\n",
       "    <tr>\n",
       "      <th>1328</th>\n",
       "      <td>Vietnam</td>\n",
       "      <td>2016</td>\n",
       "      <td>93640435</td>\n",
       "      <td>6572.976234</td>\n",
       "      <td>12105955.00</td>\n",
       "      <td>1489537.464</td>\n",
       "      <td>2873376.667</td>\n",
       "      <td>123155.9399</td>\n",
       "    </tr>\n",
       "    <tr>\n",
       "      <th>1329</th>\n",
       "      <td>Vietnam</td>\n",
       "      <td>2017</td>\n",
       "      <td>94600643</td>\n",
       "      <td>7155.443187</td>\n",
       "      <td>11741831.75</td>\n",
       "      <td>1444735.115</td>\n",
       "      <td>2955601.468</td>\n",
       "      <td>119451.6522</td>\n",
       "    </tr>\n",
       "    <tr>\n",
       "      <th>1330</th>\n",
       "      <td>Vietnam</td>\n",
       "      <td>2018</td>\n",
       "      <td>95545959</td>\n",
       "      <td>7768.080218</td>\n",
       "      <td>12242312.77</td>\n",
       "      <td>1506315.158</td>\n",
       "      <td>3034774.193</td>\n",
       "      <td>124543.1307</td>\n",
       "    </tr>\n",
       "    <tr>\n",
       "      <th>1331</th>\n",
       "      <td>Vietnam</td>\n",
       "      <td>2019</td>\n",
       "      <td>96462108</td>\n",
       "      <td>8381.239320</td>\n",
       "      <td>12532537.22</td>\n",
       "      <td>1542024.871</td>\n",
       "      <td>3118851.251</td>\n",
       "      <td>127495.6334</td>\n",
       "    </tr>\n",
       "    <tr>\n",
       "      <th>1332</th>\n",
       "      <td>Vietnam</td>\n",
       "      <td>2020</td>\n",
       "      <td>97338583</td>\n",
       "      <td>8650.133470</td>\n",
       "      <td>13300987.97</td>\n",
       "      <td>1636576.369</td>\n",
       "      <td>3217637.735</td>\n",
       "      <td>135313.2136</td>\n",
       "    </tr>\n",
       "  </tbody>\n",
       "</table>\n",
       "</div>"
      ],
      "text/plain": [
       "      Country  Year  Population  GDP_per_capita  MSW_generation  \\\n",
       "1328  Vietnam  2016    93640435     6572.976234     12105955.00   \n",
       "1329  Vietnam  2017    94600643     7155.443187     11741831.75   \n",
       "1330  Vietnam  2018    95545959     7768.080218     12242312.77   \n",
       "1331  Vietnam  2019    96462108     8381.239320     12532537.22   \n",
       "1332  Vietnam  2020    97338583     8650.133470     13300987.97   \n",
       "\n",
       "      CO2_emissions  CH4_emissions  N2O_emissions  \n",
       "1328    1489537.464    2873376.667    123155.9399  \n",
       "1329    1444735.115    2955601.468    119451.6522  \n",
       "1330    1506315.158    3034774.193    124543.1307  \n",
       "1331    1542024.871    3118851.251    127495.6334  \n",
       "1332    1636576.369    3217637.735    135313.2136  "
      ]
     },
     "metadata": {},
     "output_type": "display_data"
    },
    {
     "name": "stdout",
     "output_type": "stream",
     "text": [
      "\n",
      "Forecast Data Head:\n"
     ]
    },
    {
     "data": {
      "text/html": [
       "<div>\n",
       "<style scoped>\n",
       "    .dataframe tbody tr th:only-of-type {\n",
       "        vertical-align: middle;\n",
       "    }\n",
       "\n",
       "    .dataframe tbody tr th {\n",
       "        vertical-align: top;\n",
       "    }\n",
       "\n",
       "    .dataframe thead th {\n",
       "        text-align: right;\n",
       "    }\n",
       "</style>\n",
       "<table border=\"1\" class=\"dataframe\">\n",
       "  <thead>\n",
       "    <tr style=\"text-align: right;\">\n",
       "      <th></th>\n",
       "      <th>Country</th>\n",
       "      <th>Year</th>\n",
       "      <th>Population</th>\n",
       "      <th>GDP_per_capita</th>\n",
       "      <th>MSW_generation</th>\n",
       "      <th>CO2_emissions</th>\n",
       "      <th>CH4_emissions</th>\n",
       "      <th>N2O_emissions</th>\n",
       "      <th>Scenario</th>\n",
       "    </tr>\n",
       "  </thead>\n",
       "  <tbody>\n",
       "    <tr>\n",
       "      <th>7778</th>\n",
       "      <td>Vietnam</td>\n",
       "      <td>2050</td>\n",
       "      <td>1.001332e+08</td>\n",
       "      <td>37399.85090</td>\n",
       "      <td>24400000.0</td>\n",
       "      <td>1626609.546</td>\n",
       "      <td>3752542.968</td>\n",
       "      <td>252515.1015</td>\n",
       "      <td>SSP1</td>\n",
       "    </tr>\n",
       "    <tr>\n",
       "      <th>7779</th>\n",
       "      <td>Vietnam</td>\n",
       "      <td>2050</td>\n",
       "      <td>1.053830e+08</td>\n",
       "      <td>27172.98653</td>\n",
       "      <td>22600000.0</td>\n",
       "      <td>1603595.961</td>\n",
       "      <td>3745715.156</td>\n",
       "      <td>255930.5575</td>\n",
       "      <td>SSP2</td>\n",
       "    </tr>\n",
       "    <tr>\n",
       "      <th>7780</th>\n",
       "      <td>Vietnam</td>\n",
       "      <td>2050</td>\n",
       "      <td>1.124259e+08</td>\n",
       "      <td>19889.33105</td>\n",
       "      <td>21300000.0</td>\n",
       "      <td>1580953.549</td>\n",
       "      <td>3738685.048</td>\n",
       "      <td>259184.7870</td>\n",
       "      <td>SSP3</td>\n",
       "    </tr>\n",
       "    <tr>\n",
       "      <th>7781</th>\n",
       "      <td>Vietnam</td>\n",
       "      <td>2050</td>\n",
       "      <td>9.886068e+07</td>\n",
       "      <td>27811.04572</td>\n",
       "      <td>21400000.0</td>\n",
       "      <td>1558763.892</td>\n",
       "      <td>3731475.644</td>\n",
       "      <td>262286.6151</td>\n",
       "      <td>SSP4</td>\n",
       "    </tr>\n",
       "    <tr>\n",
       "      <th>7782</th>\n",
       "      <td>Vietnam</td>\n",
       "      <td>2050</td>\n",
       "      <td>9.877513e+07</td>\n",
       "      <td>46961.30748</td>\n",
       "      <td>26300000.0</td>\n",
       "      <td>1537098.319</td>\n",
       "      <td>3724108.370</td>\n",
       "      <td>265244.0610</td>\n",
       "      <td>SSP5</td>\n",
       "    </tr>\n",
       "  </tbody>\n",
       "</table>\n",
       "</div>"
      ],
      "text/plain": [
       "      Country  Year    Population  GDP_per_capita  MSW_generation  \\\n",
       "7778  Vietnam  2050  1.001332e+08     37399.85090      24400000.0   \n",
       "7779  Vietnam  2050  1.053830e+08     27172.98653      22600000.0   \n",
       "7780  Vietnam  2050  1.124259e+08     19889.33105      21300000.0   \n",
       "7781  Vietnam  2050  9.886068e+07     27811.04572      21400000.0   \n",
       "7782  Vietnam  2050  9.877513e+07     46961.30748      26300000.0   \n",
       "\n",
       "      CO2_emissions  CH4_emissions  N2O_emissions Scenario  \n",
       "7778    1626609.546    3752542.968    252515.1015     SSP1  \n",
       "7779    1603595.961    3745715.156    255930.5575     SSP2  \n",
       "7780    1580953.549    3738685.048    259184.7870     SSP3  \n",
       "7781    1558763.892    3731475.644    262286.6151     SSP4  \n",
       "7782    1537098.319    3724108.370    265244.0610     SSP5  "
      ]
     },
     "metadata": {},
     "output_type": "display_data"
    }
   ],
   "source": [
    "print(\"Historical Data Head:\")\n",
    "display(historical_df.tail())\n",
    "\n",
    "print(\"\\nForecast Data Head:\")\n",
    "display(forecast_df.tail())"
   ]
  },
  {
   "cell_type": "code",
   "execution_count": 5,
   "metadata": {},
   "outputs": [
    {
     "name": "stdout",
     "output_type": "stream",
     "text": [
      "Historical Data Info:\n",
      "<class 'pandas.core.frame.DataFrame'>\n",
      "RangeIndex: 1333 entries, 0 to 1332\n",
      "Data columns (total 8 columns):\n",
      " #   Column          Non-Null Count  Dtype  \n",
      "---  ------          --------------  -----  \n",
      " 0   Country         1333 non-null   object \n",
      " 1   Year            1333 non-null   int64  \n",
      " 2   Population      1333 non-null   int64  \n",
      " 3   GDP_per_capita  1333 non-null   float64\n",
      " 4   MSW_generation  1333 non-null   float64\n",
      " 5   CO2_emissions   1333 non-null   float64\n",
      " 6   CH4_emissions   1333 non-null   float64\n",
      " 7   N2O_emissions   1333 non-null   float64\n",
      "dtypes: float64(5), int64(2), object(1)\n",
      "memory usage: 83.4+ KB\n",
      "\n",
      "Forecast Data Info:\n",
      "<class 'pandas.core.frame.DataFrame'>\n",
      "RangeIndex: 7783 entries, 0 to 7782\n",
      "Data columns (total 9 columns):\n",
      " #   Column          Non-Null Count  Dtype  \n",
      "---  ------          --------------  -----  \n",
      " 0   Country         7783 non-null   object \n",
      " 1   Year            7783 non-null   int64  \n",
      " 2   Population      7783 non-null   float64\n",
      " 3   GDP_per_capita  7783 non-null   float64\n",
      " 4   MSW_generation  7783 non-null   float64\n",
      " 5   CO2_emissions   7783 non-null   float64\n",
      " 6   CH4_emissions   7783 non-null   float64\n",
      " 7   N2O_emissions   7783 non-null   float64\n",
      " 8   Scenario        6450 non-null   object \n",
      "dtypes: float64(6), int64(1), object(2)\n",
      "memory usage: 547.4+ KB\n"
     ]
    }
   ],
   "source": [
    "print(\"Historical Data Info:\")\n",
    "historical_df.info()\n",
    "\n",
    "print(\"\\nForecast Data Info:\")\n",
    "forecast_df.info()"
   ]
  },
  {
   "cell_type": "code",
   "execution_count": 6,
   "metadata": {},
   "outputs": [
    {
     "name": "stdout",
     "output_type": "stream",
     "text": [
      "Historical Data Summary Statistics:\n"
     ]
    },
    {
     "data": {
      "text/html": [
       "<div>\n",
       "<style scoped>\n",
       "    .dataframe tbody tr th:only-of-type {\n",
       "        vertical-align: middle;\n",
       "    }\n",
       "\n",
       "    .dataframe tbody tr th {\n",
       "        vertical-align: top;\n",
       "    }\n",
       "\n",
       "    .dataframe thead th {\n",
       "        text-align: right;\n",
       "    }\n",
       "</style>\n",
       "<table border=\"1\" class=\"dataframe\">\n",
       "  <thead>\n",
       "    <tr style=\"text-align: right;\">\n",
       "      <th></th>\n",
       "      <th>Year</th>\n",
       "      <th>Population</th>\n",
       "      <th>GDP_per_capita</th>\n",
       "      <th>MSW_generation</th>\n",
       "      <th>CO2_emissions</th>\n",
       "      <th>CH4_emissions</th>\n",
       "      <th>N2O_emissions</th>\n",
       "    </tr>\n",
       "  </thead>\n",
       "  <tbody>\n",
       "    <tr>\n",
       "      <th>count</th>\n",
       "      <td>1333.000000</td>\n",
       "      <td>1.333000e+03</td>\n",
       "      <td>1333.000000</td>\n",
       "      <td>1.333000e+03</td>\n",
       "      <td>1.333000e+03</td>\n",
       "      <td>1.333000e+03</td>\n",
       "      <td>1.333000e+03</td>\n",
       "    </tr>\n",
       "    <tr>\n",
       "      <th>mean</th>\n",
       "      <td>2005.000000</td>\n",
       "      <td>1.272527e+08</td>\n",
       "      <td>15998.800541</td>\n",
       "      <td>3.183428e+07</td>\n",
       "      <td>6.847251e+06</td>\n",
       "      <td>1.117001e+07</td>\n",
       "      <td>2.373768e+05</td>\n",
       "    </tr>\n",
       "    <tr>\n",
       "      <th>std</th>\n",
       "      <td>8.947629</td>\n",
       "      <td>2.499312e+08</td>\n",
       "      <td>14369.549851</td>\n",
       "      <td>4.768361e+07</td>\n",
       "      <td>1.475613e+07</td>\n",
       "      <td>1.540790e+07</td>\n",
       "      <td>4.328485e+05</td>\n",
       "    </tr>\n",
       "    <tr>\n",
       "      <th>min</th>\n",
       "      <td>1990.000000</td>\n",
       "      <td>1.495151e+07</td>\n",
       "      <td>346.362657</td>\n",
       "      <td>1.938061e+06</td>\n",
       "      <td>1.881391e+03</td>\n",
       "      <td>5.778157e+05</td>\n",
       "      <td>5.472718e+01</td>\n",
       "    </tr>\n",
       "    <tr>\n",
       "      <th>25%</th>\n",
       "      <td>1997.000000</td>\n",
       "      <td>3.362890e+07</td>\n",
       "      <td>4811.260418</td>\n",
       "      <td>9.113685e+06</td>\n",
       "      <td>7.815298e+05</td>\n",
       "      <td>3.468216e+06</td>\n",
       "      <td>4.449236e+04</td>\n",
       "    </tr>\n",
       "    <tr>\n",
       "      <th>50%</th>\n",
       "      <td>2005.000000</td>\n",
       "      <td>5.768533e+07</td>\n",
       "      <td>11148.196550</td>\n",
       "      <td>1.551588e+07</td>\n",
       "      <td>1.982287e+06</td>\n",
       "      <td>6.409463e+06</td>\n",
       "      <td>8.572534e+04</td>\n",
       "    </tr>\n",
       "    <tr>\n",
       "      <th>75%</th>\n",
       "      <td>2013.000000</td>\n",
       "      <td>1.030810e+08</td>\n",
       "      <td>24085.324180</td>\n",
       "      <td>3.100217e+07</td>\n",
       "      <td>5.113261e+06</td>\n",
       "      <td>1.168389e+07</td>\n",
       "      <td>2.132058e+05</td>\n",
       "    </tr>\n",
       "    <tr>\n",
       "      <th>max</th>\n",
       "      <td>2020.000000</td>\n",
       "      <td>1.410929e+09</td>\n",
       "      <td>65279.529030</td>\n",
       "      <td>2.857224e+08</td>\n",
       "      <td>9.456730e+07</td>\n",
       "      <td>9.151364e+07</td>\n",
       "      <td>3.287769e+06</td>\n",
       "    </tr>\n",
       "  </tbody>\n",
       "</table>\n",
       "</div>"
      ],
      "text/plain": [
       "              Year    Population  GDP_per_capita  MSW_generation  \\\n",
       "count  1333.000000  1.333000e+03     1333.000000    1.333000e+03   \n",
       "mean   2005.000000  1.272527e+08    15998.800541    3.183428e+07   \n",
       "std       8.947629  2.499312e+08    14369.549851    4.768361e+07   \n",
       "min    1990.000000  1.495151e+07      346.362657    1.938061e+06   \n",
       "25%    1997.000000  3.362890e+07     4811.260418    9.113685e+06   \n",
       "50%    2005.000000  5.768533e+07    11148.196550    1.551588e+07   \n",
       "75%    2013.000000  1.030810e+08    24085.324180    3.100217e+07   \n",
       "max    2020.000000  1.410929e+09    65279.529030    2.857224e+08   \n",
       "\n",
       "       CO2_emissions  CH4_emissions  N2O_emissions  \n",
       "count   1.333000e+03   1.333000e+03   1.333000e+03  \n",
       "mean    6.847251e+06   1.117001e+07   2.373768e+05  \n",
       "std     1.475613e+07   1.540790e+07   4.328485e+05  \n",
       "min     1.881391e+03   5.778157e+05   5.472718e+01  \n",
       "25%     7.815298e+05   3.468216e+06   4.449236e+04  \n",
       "50%     1.982287e+06   6.409463e+06   8.572534e+04  \n",
       "75%     5.113261e+06   1.168389e+07   2.132058e+05  \n",
       "max     9.456730e+07   9.151364e+07   3.287769e+06  "
      ]
     },
     "metadata": {},
     "output_type": "display_data"
    }
   ],
   "source": [
    "print(\"Historical Data Summary Statistics:\")\n",
    "display(historical_df.describe())"
   ]
  },
  {
   "cell_type": "markdown",
   "metadata": {},
   "source": [
    "## Data Visualization\n",
    "\n",
    "Visualizing the data can help us understand trends, patterns, and relationships between different variables."
   ]
  },
  {
   "cell_type": "markdown",
   "metadata": {},
   "source": [
    "### Choropleth Map of Latest Municipal Solid Waste (MSW) Generation\n",
    "This map shows the most recent MSW generation data available in the historical dataset for each country. We use a logarithmic scale to better visualize the wide range of values."
   ]
  },
  {
   "cell_type": "code",
   "execution_count": 7,
   "metadata": {},
   "outputs": [
    {
     "data": {
      "application/vnd.plotly.v1+json": {
       "config": {
        "plotlyServerURL": "https://plot.ly"
       },
       "data": [
        {
         "coloraxis": "coloraxis",
         "geo": "geo",
         "hovertemplate": "<b>%{hovertext}</b><br><br>Country=%{location}<br>MSW Generation (tons/year)=%{z}<extra></extra>",
         "hovertext": [
          "Algeria",
          "Argentina",
          "Australia",
          "Bangladesh",
          "Brazil",
          "Canada",
          "China",
          "Colombia",
          "Congo, Dem. Rep.",
          "Egypt, Arab Rep.",
          "Ethiopia",
          "France",
          "Germany",
          "India",
          "Indonesia",
          "Iran, Islamic Rep.",
          "Iraq",
          "Italy",
          "Japan",
          "Korea, Rep.",
          "Malaysia",
          "Mexico",
          "Morocco",
          "Netherlands",
          "Nigeria",
          "Pakistan",
          "Peru",
          "Philippines",
          "Poland",
          "Russian Federation",
          "Saudi Arabia",
          "South Africa",
          "Spain",
          "Taiwan, China",
          "Tanzania",
          "Thailand",
          "Turkey",
          "Uganda",
          "Ukraine",
          "United Kingdom",
          "United States",
          "Venezuela, RB",
          "Vietnam"
         ],
         "locationmode": "country names",
         "locations": [
          "Algeria",
          "Argentina",
          "Australia",
          "Bangladesh",
          "Brazil",
          "Canada",
          "China",
          "Colombia",
          "Congo, Dem. Rep.",
          "Egypt, Arab Rep.",
          "Ethiopia",
          "France",
          "Germany",
          "India",
          "Indonesia",
          "Iran, Islamic Rep.",
          "Iraq",
          "Italy",
          "Japan",
          "Korea, Rep.",
          "Malaysia",
          "Mexico",
          "Morocco",
          "Netherlands",
          "Nigeria",
          "Pakistan",
          "Peru",
          "Philippines",
          "Poland",
          "Russian Federation",
          "Saudi Arabia",
          "South Africa",
          "Spain",
          "Taiwan, China",
          "Tanzania",
          "Thailand",
          "Turkey",
          "Uganda",
          "Ukraine",
          "United Kingdom",
          "United States",
          "Venezuela, RB",
          "Vietnam"
         ],
         "name": "",
         "type": "choropleth",
         "z": {
          "bdata": "H4Xr+ZD2Z0HNzMyE2UVxQc3MzEQ8hmlBPQrXM1+jZEEfheuwBnWTQQAAAHSOBHlBAAAAAEsHrEGamZnxHU1tQexRuCZxoG9BcT0K69v/d0FaZDu/b9xdQQAAAChIPYFBAAAAgN0QiUEAAIAxxwexQa5H4eFzSpBBexSuB3GIcUH2KFyH/NhrQa5H4U7c+nxBexSuYywNhUF7FK4LsGh1QQAAAMDbqGpBzczMIK4hiUGuR+HqfHhbQQAAAABFx2FB7FG4Uro8dkHhehQkuT6AQXe+n5pzxmBBFK5HoWzvbEEAAABAvARpQdejcAGCPo1BmpmZOQslcEEfhetV1/dyQQAAABA5iHRBAAAAwCKCYkEK16PwOiRnQTMzM6O443lBmpmZJ6+ggUFKDAIrUxxhQdejcHWsxmxBAAAAkOOQfUHNzEzHvFewQc/3U6sMV1dBcT0Kf59eaUE=",
          "dtype": "f8"
         }
        }
       ],
       "layout": {
        "coloraxis": {
         "colorbar": {
          "title": {
           "text": "MSW Generation (tons/year)"
          }
         },
         "colorscale": [
          [
           0,
           "#0d0887"
          ],
          [
           0.1111111111111111,
           "#46039f"
          ],
          [
           0.2222222222222222,
           "#7201a8"
          ],
          [
           0.3333333333333333,
           "#9c179e"
          ],
          [
           0.4444444444444444,
           "#bd3786"
          ],
          [
           0.5555555555555556,
           "#d8576b"
          ],
          [
           0.6666666666666666,
           "#ed7953"
          ],
          [
           0.7777777777777778,
           "#fb9f3a"
          ],
          [
           0.8888888888888888,
           "#fdca26"
          ],
          [
           1,
           "#f0f921"
          ]
         ]
        },
        "geo": {
         "center": {},
         "domain": {
          "x": [
           0,
           1
          ],
          "y": [
           0,
           1
          ]
         }
        },
        "legend": {
         "tracegroupgap": 0
        },
        "template": {
         "data": {
          "bar": [
           {
            "error_x": {
             "color": "#2a3f5f"
            },
            "error_y": {
             "color": "#2a3f5f"
            },
            "marker": {
             "line": {
              "color": "#E5ECF6",
              "width": 0.5
             },
             "pattern": {
              "fillmode": "overlay",
              "size": 10,
              "solidity": 0.2
             }
            },
            "type": "bar"
           }
          ],
          "barpolar": [
           {
            "marker": {
             "line": {
              "color": "#E5ECF6",
              "width": 0.5
             },
             "pattern": {
              "fillmode": "overlay",
              "size": 10,
              "solidity": 0.2
             }
            },
            "type": "barpolar"
           }
          ],
          "carpet": [
           {
            "aaxis": {
             "endlinecolor": "#2a3f5f",
             "gridcolor": "white",
             "linecolor": "white",
             "minorgridcolor": "white",
             "startlinecolor": "#2a3f5f"
            },
            "baxis": {
             "endlinecolor": "#2a3f5f",
             "gridcolor": "white",
             "linecolor": "white",
             "minorgridcolor": "white",
             "startlinecolor": "#2a3f5f"
            },
            "type": "carpet"
           }
          ],
          "choropleth": [
           {
            "colorbar": {
             "outlinewidth": 0,
             "ticks": ""
            },
            "type": "choropleth"
           }
          ],
          "contour": [
           {
            "colorbar": {
             "outlinewidth": 0,
             "ticks": ""
            },
            "colorscale": [
             [
              0,
              "#0d0887"
             ],
             [
              0.1111111111111111,
              "#46039f"
             ],
             [
              0.2222222222222222,
              "#7201a8"
             ],
             [
              0.3333333333333333,
              "#9c179e"
             ],
             [
              0.4444444444444444,
              "#bd3786"
             ],
             [
              0.5555555555555556,
              "#d8576b"
             ],
             [
              0.6666666666666666,
              "#ed7953"
             ],
             [
              0.7777777777777778,
              "#fb9f3a"
             ],
             [
              0.8888888888888888,
              "#fdca26"
             ],
             [
              1,
              "#f0f921"
             ]
            ],
            "type": "contour"
           }
          ],
          "contourcarpet": [
           {
            "colorbar": {
             "outlinewidth": 0,
             "ticks": ""
            },
            "type": "contourcarpet"
           }
          ],
          "heatmap": [
           {
            "colorbar": {
             "outlinewidth": 0,
             "ticks": ""
            },
            "colorscale": [
             [
              0,
              "#0d0887"
             ],
             [
              0.1111111111111111,
              "#46039f"
             ],
             [
              0.2222222222222222,
              "#7201a8"
             ],
             [
              0.3333333333333333,
              "#9c179e"
             ],
             [
              0.4444444444444444,
              "#bd3786"
             ],
             [
              0.5555555555555556,
              "#d8576b"
             ],
             [
              0.6666666666666666,
              "#ed7953"
             ],
             [
              0.7777777777777778,
              "#fb9f3a"
             ],
             [
              0.8888888888888888,
              "#fdca26"
             ],
             [
              1,
              "#f0f921"
             ]
            ],
            "type": "heatmap"
           }
          ],
          "histogram": [
           {
            "marker": {
             "pattern": {
              "fillmode": "overlay",
              "size": 10,
              "solidity": 0.2
             }
            },
            "type": "histogram"
           }
          ],
          "histogram2d": [
           {
            "colorbar": {
             "outlinewidth": 0,
             "ticks": ""
            },
            "colorscale": [
             [
              0,
              "#0d0887"
             ],
             [
              0.1111111111111111,
              "#46039f"
             ],
             [
              0.2222222222222222,
              "#7201a8"
             ],
             [
              0.3333333333333333,
              "#9c179e"
             ],
             [
              0.4444444444444444,
              "#bd3786"
             ],
             [
              0.5555555555555556,
              "#d8576b"
             ],
             [
              0.6666666666666666,
              "#ed7953"
             ],
             [
              0.7777777777777778,
              "#fb9f3a"
             ],
             [
              0.8888888888888888,
              "#fdca26"
             ],
             [
              1,
              "#f0f921"
             ]
            ],
            "type": "histogram2d"
           }
          ],
          "histogram2dcontour": [
           {
            "colorbar": {
             "outlinewidth": 0,
             "ticks": ""
            },
            "colorscale": [
             [
              0,
              "#0d0887"
             ],
             [
              0.1111111111111111,
              "#46039f"
             ],
             [
              0.2222222222222222,
              "#7201a8"
             ],
             [
              0.3333333333333333,
              "#9c179e"
             ],
             [
              0.4444444444444444,
              "#bd3786"
             ],
             [
              0.5555555555555556,
              "#d8576b"
             ],
             [
              0.6666666666666666,
              "#ed7953"
             ],
             [
              0.7777777777777778,
              "#fb9f3a"
             ],
             [
              0.8888888888888888,
              "#fdca26"
             ],
             [
              1,
              "#f0f921"
             ]
            ],
            "type": "histogram2dcontour"
           }
          ],
          "mesh3d": [
           {
            "colorbar": {
             "outlinewidth": 0,
             "ticks": ""
            },
            "type": "mesh3d"
           }
          ],
          "parcoords": [
           {
            "line": {
             "colorbar": {
              "outlinewidth": 0,
              "ticks": ""
             }
            },
            "type": "parcoords"
           }
          ],
          "pie": [
           {
            "automargin": true,
            "type": "pie"
           }
          ],
          "scatter": [
           {
            "fillpattern": {
             "fillmode": "overlay",
             "size": 10,
             "solidity": 0.2
            },
            "type": "scatter"
           }
          ],
          "scatter3d": [
           {
            "line": {
             "colorbar": {
              "outlinewidth": 0,
              "ticks": ""
             }
            },
            "marker": {
             "colorbar": {
              "outlinewidth": 0,
              "ticks": ""
             }
            },
            "type": "scatter3d"
           }
          ],
          "scattercarpet": [
           {
            "marker": {
             "colorbar": {
              "outlinewidth": 0,
              "ticks": ""
             }
            },
            "type": "scattercarpet"
           }
          ],
          "scattergeo": [
           {
            "marker": {
             "colorbar": {
              "outlinewidth": 0,
              "ticks": ""
             }
            },
            "type": "scattergeo"
           }
          ],
          "scattergl": [
           {
            "marker": {
             "colorbar": {
              "outlinewidth": 0,
              "ticks": ""
             }
            },
            "type": "scattergl"
           }
          ],
          "scattermap": [
           {
            "marker": {
             "colorbar": {
              "outlinewidth": 0,
              "ticks": ""
             }
            },
            "type": "scattermap"
           }
          ],
          "scattermapbox": [
           {
            "marker": {
             "colorbar": {
              "outlinewidth": 0,
              "ticks": ""
             }
            },
            "type": "scattermapbox"
           }
          ],
          "scatterpolar": [
           {
            "marker": {
             "colorbar": {
              "outlinewidth": 0,
              "ticks": ""
             }
            },
            "type": "scatterpolar"
           }
          ],
          "scatterpolargl": [
           {
            "marker": {
             "colorbar": {
              "outlinewidth": 0,
              "ticks": ""
             }
            },
            "type": "scatterpolargl"
           }
          ],
          "scatterternary": [
           {
            "marker": {
             "colorbar": {
              "outlinewidth": 0,
              "ticks": ""
             }
            },
            "type": "scatterternary"
           }
          ],
          "surface": [
           {
            "colorbar": {
             "outlinewidth": 0,
             "ticks": ""
            },
            "colorscale": [
             [
              0,
              "#0d0887"
             ],
             [
              0.1111111111111111,
              "#46039f"
             ],
             [
              0.2222222222222222,
              "#7201a8"
             ],
             [
              0.3333333333333333,
              "#9c179e"
             ],
             [
              0.4444444444444444,
              "#bd3786"
             ],
             [
              0.5555555555555556,
              "#d8576b"
             ],
             [
              0.6666666666666666,
              "#ed7953"
             ],
             [
              0.7777777777777778,
              "#fb9f3a"
             ],
             [
              0.8888888888888888,
              "#fdca26"
             ],
             [
              1,
              "#f0f921"
             ]
            ],
            "type": "surface"
           }
          ],
          "table": [
           {
            "cells": {
             "fill": {
              "color": "#EBF0F8"
             },
             "line": {
              "color": "white"
             }
            },
            "header": {
             "fill": {
              "color": "#C8D4E3"
             },
             "line": {
              "color": "white"
             }
            },
            "type": "table"
           }
          ]
         },
         "layout": {
          "annotationdefaults": {
           "arrowcolor": "#2a3f5f",
           "arrowhead": 0,
           "arrowwidth": 1
          },
          "autotypenumbers": "strict",
          "coloraxis": {
           "colorbar": {
            "outlinewidth": 0,
            "ticks": ""
           }
          },
          "colorscale": {
           "diverging": [
            [
             0,
             "#8e0152"
            ],
            [
             0.1,
             "#c51b7d"
            ],
            [
             0.2,
             "#de77ae"
            ],
            [
             0.3,
             "#f1b6da"
            ],
            [
             0.4,
             "#fde0ef"
            ],
            [
             0.5,
             "#f7f7f7"
            ],
            [
             0.6,
             "#e6f5d0"
            ],
            [
             0.7,
             "#b8e186"
            ],
            [
             0.8,
             "#7fbc41"
            ],
            [
             0.9,
             "#4d9221"
            ],
            [
             1,
             "#276419"
            ]
           ],
           "sequential": [
            [
             0,
             "#0d0887"
            ],
            [
             0.1111111111111111,
             "#46039f"
            ],
            [
             0.2222222222222222,
             "#7201a8"
            ],
            [
             0.3333333333333333,
             "#9c179e"
            ],
            [
             0.4444444444444444,
             "#bd3786"
            ],
            [
             0.5555555555555556,
             "#d8576b"
            ],
            [
             0.6666666666666666,
             "#ed7953"
            ],
            [
             0.7777777777777778,
             "#fb9f3a"
            ],
            [
             0.8888888888888888,
             "#fdca26"
            ],
            [
             1,
             "#f0f921"
            ]
           ],
           "sequentialminus": [
            [
             0,
             "#0d0887"
            ],
            [
             0.1111111111111111,
             "#46039f"
            ],
            [
             0.2222222222222222,
             "#7201a8"
            ],
            [
             0.3333333333333333,
             "#9c179e"
            ],
            [
             0.4444444444444444,
             "#bd3786"
            ],
            [
             0.5555555555555556,
             "#d8576b"
            ],
            [
             0.6666666666666666,
             "#ed7953"
            ],
            [
             0.7777777777777778,
             "#fb9f3a"
            ],
            [
             0.8888888888888888,
             "#fdca26"
            ],
            [
             1,
             "#f0f921"
            ]
           ]
          },
          "colorway": [
           "#636efa",
           "#EF553B",
           "#00cc96",
           "#ab63fa",
           "#FFA15A",
           "#19d3f3",
           "#FF6692",
           "#B6E880",
           "#FF97FF",
           "#FECB52"
          ],
          "font": {
           "color": "#2a3f5f"
          },
          "geo": {
           "bgcolor": "white",
           "lakecolor": "white",
           "landcolor": "#E5ECF6",
           "showlakes": true,
           "showland": true,
           "subunitcolor": "white"
          },
          "hoverlabel": {
           "align": "left"
          },
          "hovermode": "closest",
          "mapbox": {
           "style": "light"
          },
          "paper_bgcolor": "white",
          "plot_bgcolor": "#E5ECF6",
          "polar": {
           "angularaxis": {
            "gridcolor": "white",
            "linecolor": "white",
            "ticks": ""
           },
           "bgcolor": "#E5ECF6",
           "radialaxis": {
            "gridcolor": "white",
            "linecolor": "white",
            "ticks": ""
           }
          },
          "scene": {
           "xaxis": {
            "backgroundcolor": "#E5ECF6",
            "gridcolor": "white",
            "gridwidth": 2,
            "linecolor": "white",
            "showbackground": true,
            "ticks": "",
            "zerolinecolor": "white"
           },
           "yaxis": {
            "backgroundcolor": "#E5ECF6",
            "gridcolor": "white",
            "gridwidth": 2,
            "linecolor": "white",
            "showbackground": true,
            "ticks": "",
            "zerolinecolor": "white"
           },
           "zaxis": {
            "backgroundcolor": "#E5ECF6",
            "gridcolor": "white",
            "gridwidth": 2,
            "linecolor": "white",
            "showbackground": true,
            "ticks": "",
            "zerolinecolor": "white"
           }
          },
          "shapedefaults": {
           "line": {
            "color": "#2a3f5f"
           }
          },
          "ternary": {
           "aaxis": {
            "gridcolor": "white",
            "linecolor": "white",
            "ticks": ""
           },
           "baxis": {
            "gridcolor": "white",
            "linecolor": "white",
            "ticks": ""
           },
           "bgcolor": "#E5ECF6",
           "caxis": {
            "gridcolor": "white",
            "linecolor": "white",
            "ticks": ""
           }
          },
          "title": {
           "x": 0.05
          },
          "xaxis": {
           "automargin": true,
           "gridcolor": "white",
           "linecolor": "white",
           "ticks": "",
           "title": {
            "standoff": 15
           },
           "zerolinecolor": "white",
           "zerolinewidth": 2
          },
          "yaxis": {
           "automargin": true,
           "gridcolor": "white",
           "linecolor": "white",
           "ticks": "",
           "title": {
            "standoff": 15
           },
           "zerolinecolor": "white",
           "zerolinewidth": 2
          }
         }
        },
        "title": {
         "text": "Latest MSW Generation by Country (Historical Data)"
        }
       }
      }
     },
     "metadata": {},
     "output_type": "display_data"
    }
   ],
   "source": [
    "# Prepare latest_year_df: for each country, get the row with the latest year\n",
    "latest_year_idx = historical_df.groupby('Country')['Year'].idxmax()\n",
    "latest_year_df = historical_df.loc[latest_year_idx].reset_index(drop=True)\n",
    "\n",
    "fig = px.choropleth(latest_year_df,\n",
    "                    locations=\"Country\",\n",
    "                    locationmode='country names',\n",
    "                    color=\"MSW_generation\",\n",
    "                    hover_name=\"Country\",\n",
    "                    color_continuous_scale=px.colors.sequential.Plasma,\n",
    "                    title=\"Latest MSW Generation by Country (Historical Data)\",\n",
    "                    labels={'MSW_generation':'MSW Generation (tons/year)'})\n",
    "\n",
    "\n",
    "fig.show()"
   ]
  },
  {
   "cell_type": "markdown",
   "metadata": {},
   "source": [
    "### Trends in MSW Generation for Key Countries\n",
    "\n",
    "Let's examine the historical and projected trends in MSW generation for a selection of countries. For the forecast, we'll use the **SSP2 (Middle of the Road)** scenario, which represents a future following historical patterns."
   ]
  },
  {
   "cell_type": "code",
   "execution_count": 8,
   "metadata": {},
   "outputs": [
    {
     "data": {
      "image/png": "[encoded data removed]",
      "text/plain": [
       "<Figure size 1400x800 with 1 Axes>"
      ]
     },
     "metadata": {},
     "output_type": "display_data"
    }
   ],
   "source": [
    "# Define key countries (e.g., top 5 by latest MSW generation)\n",
    "key_countries = latest_year_df.sort_values('MSW_generation', ascending=False)['Country'].head(5).tolist()\n",
    "\n",
    "# Prepare forecast data for key countries and SSP2 scenario\n",
    "forecast_key = forecast_df[\n",
    "    (forecast_df['Country'].isin(key_countries)) &\n",
    "    (forecast_df['Scenario'].astype(str).str.upper().fillna('').str.contains('SSP2'))\n",
    "].copy()\n",
    "\n",
    "# Ensure correct types\n",
    "forecast_key['Year'] = pd.to_numeric(forecast_key['Year'], errors='coerce')\n",
    "forecast_key['MSW_generation'] = pd.to_numeric(forecast_key['MSW_generation'], errors='coerce')\n",
    "\n",
    "# Drop rows with missing Year or MSW_generation\n",
    "forecast_key = forecast_key.dropna(subset=['Year', 'MSW_generation'])\n",
    "\n",
    "# Concatenate historical and forecast data for the selected key countries\n",
    "trend_df = historical_df[historical_df['Country'].isin(key_countries)].copy()\n",
    "trend_all = pd.concat([trend_df, forecast_key], ignore_index=True)\n",
    "\n",
    "# Separate historical and forecast data\n",
    "historical = trend_all[trend_all['Year'] <= 2020]\n",
    "forecast = trend_all[trend_all['Year'] > 2020]\n",
    "\n",
    "plt.style.use('seaborn-v0_8-whitegrid')\n",
    "plt.figure(figsize=(14, 8))\n",
    "\n",
    "for country in key_countries:\n",
    "    hist = historical[historical['Country'] == country]\n",
    "    fore = forecast[forecast['Country'] == country]\n",
    "    plt.plot(hist['Year'], hist['MSW_generation'], marker='o', label=f\"{country} (historical)\")\n",
    "    if not fore.empty:\n",
    "        plt.plot(fore['Year'], fore['MSW_generation'], marker='o', linestyle='--', label=f\"{country} (forecast)\")\n",
    "\n",
    "plt.title('Historical and Projected MSW Generation (SSP2 Scenario)', fontsize=16)\n",
    "plt.xlabel('Year', fontsize=12)\n",
    "plt.ylabel('MSW Generation (tons/year - log scale)', fontsize=12)\n",
    "plt.yscale('log')\n",
    "plt.legend()\n",
    "plt.axvline(x=2020, color='red', linestyle='--', label='Forecast Start')\n",
    "plt.show()"
   ]
  },
  {
   "cell_type": "markdown",
   "metadata": {},
   "source": [
    "### Correlation Matrix of Historical Data\n",
    "A correlation matrix helps us understand the relationships between different numerical variables in our historical dataset. A value close to 1 indicates a strong positive correlation, while a value close to -1 indicates a strong negative correlation."
   ]
  },
  {
   "cell_type": "code",
   "execution_count": 9,
   "metadata": {},
   "outputs": [
    {
     "data": {
      "image/png": "[encoded data removed]",
      "text/plain": [
       "<Figure size 1200x1000 with 2 Axes>"
      ]
     },
     "metadata": {},
     "output_type": "display_data"
    }
   ],
   "source": [
    "# Select only numeric columns for correlation matrix\n",
    "numeric_historical_df = historical_df.select_dtypes(include=np.number)\n",
    "\n",
    "plt.figure(figsize=(12, 10))\n",
    "correlation_matrix = numeric_historical_df.corr()\n",
    "sns.heatmap(correlation_matrix, annot=True, cmap='coolwarm', fmt='.2f')\n",
    "plt.title('Correlation Matrix of Historical Environmental and Economic Indicators', fontsize=16)\n",
    "plt.show()"
   ]
  },
  {
   "cell_type": "markdown",
   "metadata": {},
   "source": [
    "## Conclusion\n",
    "This exploratory data analysis provided a preliminary look into the national-scale environmental pressure indicators dataset. Key takeaways include:\n",
    "\n",
    "- **Vast Differences in Waste Generation**: The choropleth map illustrated the significant disparity in Municipal Solid Waste (MSW) generation across countries, with larger economies and more populous nations leading.\n",
    "- **Strong Growth Trends**: Historical and projected data for key countries show a consistent and significant upward trend in waste generation, highlighting a growing environmental challenge.\n",
    "- **Strong Correlations**: The correlation matrix of the historical data revealed strong positive correlations between MSW generation, greenhouse gas emissions (CO₂, CH₄, N₂O), and economic indicators like GDP and population. This underscores the close link between economic activity, consumption patterns, and environmental impact.\n",
    "\n",
    "This initial analysis sets the stage for more advanced modeling, such as forecasting future emissions based on various socioeconomic drivers or analyzing the potential for decoupling economic growth from environmental pressures under different future scenarios (SSPs)."
   ]
  }
 ],
 "metadata": {
  "kernelspec": {
   "display_name": "Python 3",
   "language": "python",
   "name": "python3"
  },
  "language_info": {
   "codemirror_mode": {
    "name": "ipython",
    "version": 3
   },
   "file_extension": ".py",
   "mimetype": "text/x-python",
   "name": "python",
   "nbconvert_exporter": "python",
   "pygments_lexer": "ipython3",
   "version": "3.10"
  }
 },
 "nbformat": 4,
 "nbformat_minor": 2
}
