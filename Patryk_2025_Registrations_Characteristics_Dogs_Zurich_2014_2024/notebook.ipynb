{
 "cells": [
  {
   "cell_type": "markdown",
   "metadata": {},
   "source": [
    "# Annual Registrations and Characteristics of Dogs in Zurich, 2014-2024 Exploration with `mlcroissant`\n",
    "This notebook provides a template for loading and exploring a dataset using the `mlcroissant` library.\n",
    "\n",
    "### Dataset Source\n",
    "The dataset source is provided via a Croissant schema URL."
   ]
  },
  {
   "cell_type": "code",
   "execution_count": null,
   "metadata": {},
   "outputs": [],
   "source": [
    "# Ensure `mlcroissant` library is installed\n",
    "!pip install mlcroissant"
   ]
  },
  {
   "cell_type": "markdown",
   "metadata": {},
   "source": [
    "## 1. Data Loading\n",
    "Load metadata and records from the dataset using `mlcroissant`."
   ]
  },
  {
   "cell_type": "code",
   "execution_count": null,
   "metadata": {},
   "outputs": [],
   "source": [
    "import mlcroissant as mlc\n",
    "import pandas as pd\n",
    "\n",
    "# Define the dataset URL\n",
    "url = 'https://sen.science/doi/10.71728/senscience.dtj2-hwyp/fair2.json'\n",
    "\n",
    "# Load the dataset metadata\n",
    "dataset = mlc.Dataset(url)\n",
    "metadata = dataset.metadata\n",
    "print(f\"{metadata['name']}: {metadata['description']}\")"
   ]
  },
  {
   "cell_type": "markdown",
   "metadata": {},
   "source": [
    "## 2. Data Overview\n",
    "Review available record sets, fields, and their IDs."
   ]
  },
  {
   "cell_type": "code",
   "execution_count": null,
   "metadata": {},
   "outputs": [],
   "source": [
    "# Fetch and print record sets\n",
    "record_sets = metadata['recordSet']\n",
    "for record_set in record_sets:\n",
    "    print(f\"Record Set ID: {record_set['@id']}\")\n",
    "    fields = record_set.get('field', [])\n",
    "    for field in fields:\n",
    "        print(f\"  Field ID: {field['@id']}, Name: {field['name']}\")"
   ]
  },
  {
   "cell_type": "markdown",
   "metadata": {},
   "source": [
    "## 3. Data Extraction\n",
    "Load data from a specific record set into a DataFrame for analysis. Use the record set and field `@id`s from the overview."
   ]
  },
  {
   "cell_type": "code",
   "execution_count": null,
   "metadata": {},
   "outputs": [],
   "source": [
    "from collections import defaultdict\n",
    "\n",
    "# Example record set ID from previous step\n",
    "example_record_set_id = record_sets[0]['@id']  # Substitute with actual ID\n",
    "\n",
    "# Extract data from each record set\n",
    "dataframes = defaultdict(pd.DataFrame)\n",
    "\n",
    "records = list(dataset.records(record_set=example_record_set_id))\n",
    "dataframes[example_record_set_id] = pd.DataFrame(records)\n",
    "\n",
    "print(dataframes[example_record_set_id].columns.tolist())\n",
    "dataframes[example_record_set_id].head()"
   ]
  },
  {
   "cell_type": "markdown",
   "metadata": {},
   "source": [
    "## 4. Exploratory Data Analysis (EDA)\n",
    "Apply common data processing steps, such as filtering records based on specific criteria, normalizing numeric fields, and categorizing data."
   ]
  },
  {
   "cell_type": "code",
   "execution_count": null,
   "metadata": {},
   "outputs": [],
   "source": [
    "# Here we assume 'dog_age' is a numeric field ID for demonstration purposes\n",
    "numeric_field_id = 'dog_age'  # Substitute with actual field ID\n",
    "\n",
    "if numeric_field_id in dataframes[example_record_set_id].columns:\n",
    "    threshold = 10\n",
    "    filtered_df = dataframes[example_record_set_id][\n",
    "        dataframes[example_record_set_id][numeric_field_id] > threshold\n",
    "    ]\n",
    "    print(f\"Filtered records with {numeric_field_id} > {threshold}:\")\n",
    "    print(filtered_df.head())\n",
    "    \n",
    "    # Normalize the numeric field\n",
    "    filtered_df[f\"{numeric_field_id}_normalized\"] = (\n",
    "        (filtered_df[numeric_field_id] - filtered_df[numeric_field_id].mean()) /\n",
    "        filtered_df[numeric_field_id].std()\n",
    "    )\n",
    "    print(f\"Normalized {numeric_field_id} for filtered records:\")\n",
    "    print(filtered_df[[numeric_field_id, f\"{numeric_field_id}_normalized\"]].head())\n",
    "    \n",
    "    # Group by 'breed' (assuming this is a valid field ID)\n",
    "    group_field_id = 'breed'  # Substitute with actual field ID\n",
    "    if group_field_id in filtered_df.columns:\n",
    "        grouped_df = filtered_df.groupby(group_field_id).mean()\n",
    "        print(f\"Grouped data by {group_field_id}:\")\n",
    "        print(grouped_df.head())"
   ]
  },
  {
   "cell_type": "markdown",
   "metadata": {},
   "source": [
    "## 5. Visualization\n",
    "Visualize data distributions or relationships between fields in the dataset."
   ]
  },
  {
   "cell_type": "code",
   "execution_count": null,
   "metadata": {},
   "outputs": [],
   "source": [
    "import matplotlib.pyplot as plt\n",
    "\n",
    "# Example visualization: Plot histogram of the numeric field\n",
    "if numeric_field_id in dataframes[example_record_set_id].columns:\n",
    "    plt.figure(figsize=(10, 6))\n",
    "    plt.hist(dataframes[example_record_set_id][numeric_field_id].dropna(), bins=30, alpha=0.7)\n",
    "    plt.title(f'Histogram of {numeric_field_id}')\n",
    "    plt.xlabel(numeric_field_id)\n",
    "    plt.ylabel('Frequency')\n",
    "    plt.show()"
   ]
  },
  {
   "cell_type": "markdown",
   "metadata": {},
   "source": [
    "## 6. Conclusion\n",
    "Summarize key findings and observations from the dataset exploration.\n",
    "\n",
    "Using `mlcroissant`, we explored the Annual Registrations and Characteristics of Dogs in Zurich dataset, extracting and analyzing data related to dog demographics. This included filtering dog age data, normalizing the numerical values for better comparison, and grouping by breed for demographic insights. Further visualizations can be implemented for deeper data exploration."
   ]
  }
 ],
 "metadata": {
  "kernelspec": {
   "display_name": "Python 3",
   "language": "python",
   "name": "python3"
  },
  "language_info": {
   "name": "python",
   "version": "3.8"
  }
 },
 "nbformat": 4,
 "nbformat_minor": 2
}