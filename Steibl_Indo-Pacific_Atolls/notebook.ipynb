{
 "cells": [
  {
   "cell_type": "markdown",
   "metadata": {},
   "source": [
    "# Explore the Indo-Pacific Atolls Dataset (Comprehensive)\n",
    "\n",
    "## Introduction\n",
    "This notebook provides a comprehensive exploratory data analysis (EDA) of the \"A multi-layer dataset of Indo-Pacific atolls\" dataset. This dataset contains a rich collection of biogeographic, environmental, biodiversity, and human impact data for over 300 atolls across the Indo-Pacific basin, distributed across 21 files.\n",
    "\n",
    "This notebook will guide you through loading all the datasets, integrating them into a master DataFrame, and visualizing the combined data to uncover key trends and insights."
   ]
  },
  {
   "cell_type": "markdown",
   "metadata": {},
   "source": [
    "### Install and import required libraries"
   ]
  },
  {
   "cell_type": "code",
   "execution_count": null,
   "metadata": {},
   "outputs": [],
   "source": [
    "# Install mlcroissant from the source\n",
    "!sudo apt-get install python3-dev graphviz libgraphviz-dev pkg-config\n",
    "!pip install mlcroissant[dev]"
   ]
  },
  {
   "cell_type": "code",
   "execution_count": 29,
   "metadata": {},
   "outputs": [],
   "source": [
    "import mlcroissant as mlc\n",
    "import pandas as pd\n",
    "import seaborn as sns\n",
    "import matplotlib.pyplot as plt\n",
    "import plotly.express as px\n",
    "from functools import reduce\n",
    "\n",
    "from IPython.display import Markdown, display"
   ]
  },
  {
   "cell_type": "markdown",
   "metadata": {},
   "source": [
    "## 1. Data Loading\n",
    "First, we'll use the `mlcroissant` library to load all 21 record sets defined in the `fair2_croissant_ready.json` metadata file. The library reads the metadata and loads the corresponding data into pandas DataFrames."
   ]
  },
  {
   "cell_type": "code",
   "execution_count": 30,
   "metadata": {},
   "outputs": [
    {
     "name": "stderr",
     "output_type": "stream",
     "text": [
      "WARNING:absl:WARNING: The JSON-LD `@context` is not standard. Refer to the official @context (e.g., from the example datasets in https://github.com/mlcommons/croissant/tree/main/datasets/1.0). The different keys are: {'fileSet', 'key', 'regex', 'data', 'format', 'path', 'sc', 'references', 'md5', 'jsonPath', 'isLiveDataset', 'transform', 'fileProperty', 'repeated', 'examples', 'replace', 'parentField', 'subField', 'separator', 'includes'}\n",
      "WARNING:absl:Found the following 1 warning(s) during the validation:\n",
      "  -  [Metadata(Steibl_2025_indo_pacific_atoll_dataset)] Property \"https://schema.org/datePublished\" is recommended, but does not exist.\n"
     ]
    },
    {
     "name": "stdout",
     "output_type": "stream",
     "text": [
      "Loading record set: atoll_biogeography_310_tidy\n",
      "Loading record set: atoll_diversity_reptiles_sheet1_tidy\n",
      "Loading record set: atoll_diversity_birds_tidy\n",
      "Loading record set: atoll_seabird_population_by_species_tidy\n",
      "Loading record set: atoll_environmental_310_tidy\n",
      "Loading record set: atoll_seabird_population_totals_tidy\n",
      "Loading record set: atoll_diversity_plants_sheet1_tidy\n",
      "Loading record set: atoll_landclassification_310_tidy\n",
      "Loading record set: atoll_diversity_reptiles_refs_sheet1_tidy\n",
      "Loading record set: atoll_military_use_tabelle1_tidy\n",
      "Loading record set: atoll_main_310_tidy\n",
      "Loading record set: atoll_oceanographic_310_tidy\n",
      "Loading record set: atoll_populations_310_tidy\n",
      "Loading record set: atoll_diversity_arthropods_refs_sheet1_tidy\n",
      "Loading record set: atoll_diversity_landcrabs_refs_sheet1_tidy\n",
      "Loading record set: atoll_diversity_landcrabs_sheet1_tidy\n",
      "Loading record set: atoll_diversity_native-mammals_sheet1_tidy\n",
      "Loading record set: atoll_diversity_arthropods_sheet1_tidy\n",
      "Loading record set: atoll_diversity_native-mammals_refs_sheet1_tidy\n",
      "Loading record set: atoll_reefscape_310_tidy\n",
      "Loading record set: atoll_diversity_plants_refs_sheet1_tidy\n",
      "\n",
      "All 21 record sets loaded successfully using mlcroissant.\n"
     ]
    }
   ],
   "source": [
    "# Load the dataset from the Croissant metadata file\n",
    "ds = mlc.Dataset('fair2_croissant_ready.json')\n",
    "\n",
    "# Load all record sets into a dictionary of pandas DataFrames\n",
    "# The key is the record set name, and the value is the DataFrame\n",
    "dataframes = {}\n",
    "for rs in ds.metadata.record_sets:\n",
    "    print(f\"Loading record set: {rs.name}\")\n",
    "    records = ds.records(rs.id)\n",
    "    df = pd.DataFrame(list(records))\n",
    "    # FIX: mlcroissant creates columns with names like 'record_set/column'. We strip the prefix.\n",
    "    df.columns = [col.split('/')[-1] for col in df.columns]\n",
    "    dataframes[rs.name] = df\n",
    "\n",
    "# Assign dataframes to the variables used in the original notebook.\n",
    "main_df = dataframes['atoll_main_310_tidy']\n",
    "biogeography_df = dataframes['atoll_biogeography_310_tidy']\n",
    "environmental_df = dataframes['atoll_environmental_310_tidy']\n",
    "oceanographic_df = dataframes['atoll_oceanographic_310_tidy']\n",
    "landclass_df = dataframes['atoll_landclassification_310_tidy']\n",
    "populations_df = dataframes['atoll_populations_310_tidy']\n",
    "military_df = dataframes['atoll_military_use_tabelle1_tidy']\n",
    "reefscape_df = dataframes['atoll_reefscape_310_tidy']\n",
    "seabird_species_df = dataframes['atoll_seabird_population_by_species_tidy']\n",
    "seabird_totals_df = dataframes['atoll_seabird_population_totals_tidy']\n",
    "plants_df = dataframes['atoll_diversity_plants_sheet1_tidy']\n",
    "birds_df = dataframes['atoll_diversity_birds_tidy']\n",
    "reptiles_df = dataframes['atoll_diversity_reptiles_sheet1_tidy']\n",
    "arthropods_df = dataframes['atoll_diversity_arthropods_sheet1_tidy']\n",
    "landcrabs_df = dataframes['atoll_diversity_landcrabs_sheet1_tidy']\n",
    "mammals_df = dataframes['atoll_diversity_native-mammals_sheet1_tidy']\n",
    "\n",
    "# Load reference files (not used in the main merge but loaded for completeness)\n",
    "plants_refs_df = dataframes['atoll_diversity_plants_refs_sheet1_tidy']\n",
    "reptiles_refs_df = dataframes['atoll_diversity_reptiles_refs_sheet1_tidy']\n",
    "arthropods_refs_df = dataframes['atoll_diversity_arthropods_refs_sheet1_tidy']\n",
    "landcrabs_refs_df = dataframes['atoll_diversity_landcrabs_refs_sheet1_tidy']\n",
    "mammals_refs_df = dataframes['atoll_diversity_native-mammals_refs_sheet1_tidy']\n",
    "\n",
    "print(\"\\nAll 21 record sets loaded successfully using mlcroissant.\")"
   ]
  },
  {
   "cell_type": "markdown",
   "metadata": {},
   "source": [
    "### 1.1 Dataset Metadata\n",
    "Let's inspect the dataset's top-level metadata to understand its name and description."
   ]
  },
  {
   "cell_type": "code",
   "execution_count": 31,
   "metadata": {},
   "outputs": [
    {
     "name": "stdout",
     "output_type": "stream",
     "text": [
      "Steibl_2025_indo_pacific_atoll_dataset: This dataset integrates multi-layer information on 310 atolls across the Indo-Pacific region, including geospatial attributes, environmental indicators, terrestrial and marine habitat classifications, species presence for plants, birds, reptiles, mammals, and arthropods, seabird population estimates, and human impact metrics such as population and military land use. Variables are consistently structured and annotated with source, method, and units, supporting robust analysis in island ecology, conservation, and climate research. The dataset is FAIR²-compliant and prepared for AI-ready applications through the MLCommons Croissant standard.\n"
     ]
    }
   ],
   "source": [
    "# Get the dataset's metadata as a JSON-like dictionary\n",
    "metadata = ds.metadata.to_json()\n",
    "\n",
    "# Print the name and description\n",
    "name = metadata.get('name', 'N/A')\n",
    "# The description is under 'description' for Croissant < 1.0, and a list in > 1.0\n",
    "description_obj = metadata.get('description', 'N/A')\n",
    "if isinstance(description_obj, list):\n",
    "    description = description_obj[0].get('@value', 'N/A')\n",
    "else:\n",
    "    description = description_obj\n",
    "    \n",
    "print(f\"{name}: {description}\")"
   ]
  },
  {
   "cell_type": "markdown",
   "metadata": {},
   "source": [
    "## 2. Data Preparation and Integration\n",
    "To perform a holistic analysis, we will process and merge these datasets into a single, comprehensive DataFrame using the 'atoll' column as the common key."
   ]
  },
  {
   "cell_type": "code",
   "execution_count": 32,
   "metadata": {},
   "outputs": [
    {
     "data": {
      "text/markdown": [
       "### Fully Integrated Atoll Data"
      ],
      "text/plain": [
       "<IPython.core.display.Markdown object>"
      ]
     },
     "metadata": {},
     "output_type": "display_data"
    },
    {
     "data": {
      "text/html": [
       "<div>\n",
       "<style scoped>\n",
       "    .dataframe tbody tr th:only-of-type {\n",
       "        vertical-align: middle;\n",
       "    }\n",
       "\n",
       "    .dataframe tbody tr th {\n",
       "        vertical-align: top;\n",
       "    }\n",
       "\n",
       "    .dataframe thead th {\n",
       "        text-align: right;\n",
       "    }\n",
       "</style>\n",
       "<table border=\"1\" class=\"dataframe\">\n",
       "  <thead>\n",
       "    <tr style=\"text-align: right;\">\n",
       "      <th></th>\n",
       "      <th>atoll</th>\n",
       "      <th>region</th>\n",
       "      <th>country</th>\n",
       "      <th>group</th>\n",
       "      <th>lat</th>\n",
       "      <th>long</th>\n",
       "      <th>alternative_names</th>\n",
       "      <th>number_islands</th>\n",
       "      <th>land_area_sqkm</th>\n",
       "      <th>lagoon_area_sqkm</th>\n",
       "      <th>...</th>\n",
       "      <th>b'sheltered_reef_slope_perc'</th>\n",
       "      <th>b'terrestrial_reef_flat_kmsq'</th>\n",
       "      <th>b'terrestrial_reef_flat_perc'</th>\n",
       "      <th>b'total_reef_extent_kmsq'</th>\n",
       "      <th>plant_richness</th>\n",
       "      <th>bird_richness</th>\n",
       "      <th>reptile_richness</th>\n",
       "      <th>arthropod_richness</th>\n",
       "      <th>landcrab_richness</th>\n",
       "      <th>mammal_richness</th>\n",
       "    </tr>\n",
       "  </thead>\n",
       "  <tbody>\n",
       "    <tr>\n",
       "      <th>0</th>\n",
       "      <td>b'Abaiang'</td>\n",
       "      <td>b'Micronesia'</td>\n",
       "      <td>b'Kiribati'</td>\n",
       "      <td>b'Gilbert Islands'</td>\n",
       "      <td>1.856900</td>\n",
       "      <td>172.947200</td>\n",
       "      <td>b'Apaiang'</td>\n",
       "      <td>20.0</td>\n",
       "      <td>16.60</td>\n",
       "      <td>303.0</td>\n",
       "      <td>...</td>\n",
       "      <td>2.80</td>\n",
       "      <td>0.0</td>\n",
       "      <td>0.0</td>\n",
       "      <td>257.569</td>\n",
       "      <td>NaN</td>\n",
       "      <td>NaN</td>\n",
       "      <td>NaN</td>\n",
       "      <td>NaN</td>\n",
       "      <td>NaN</td>\n",
       "      <td>NaN</td>\n",
       "    </tr>\n",
       "    <tr>\n",
       "      <th>1</th>\n",
       "      <td>b'Abariringa'</td>\n",
       "      <td>b'Polynesia'</td>\n",
       "      <td>b'Kiribati'</td>\n",
       "      <td>None</td>\n",
       "      <td>-2.816761</td>\n",
       "      <td>-171.674099</td>\n",
       "      <td>None</td>\n",
       "      <td>3.0</td>\n",
       "      <td>9.20</td>\n",
       "      <td>51.0</td>\n",
       "      <td>...</td>\n",
       "      <td>0.57</td>\n",
       "      <td>0.0</td>\n",
       "      <td>0.0</td>\n",
       "      <td>65.755</td>\n",
       "      <td>90.0</td>\n",
       "      <td>13.0</td>\n",
       "      <td>3.0</td>\n",
       "      <td>110.0</td>\n",
       "      <td>8.0</td>\n",
       "      <td>NaN</td>\n",
       "    </tr>\n",
       "    <tr>\n",
       "      <th>2</th>\n",
       "      <td>b'Abemama'</td>\n",
       "      <td>b'Micronesia'</td>\n",
       "      <td>b'Kiribati'</td>\n",
       "      <td>b'Gilbert Islands'</td>\n",
       "      <td>0.392700</td>\n",
       "      <td>173.865700</td>\n",
       "      <td>b'Apamama'</td>\n",
       "      <td>5.0</td>\n",
       "      <td>27.40</td>\n",
       "      <td>200.0</td>\n",
       "      <td>...</td>\n",
       "      <td>2.35</td>\n",
       "      <td>0.0</td>\n",
       "      <td>0.0</td>\n",
       "      <td>169.138</td>\n",
       "      <td>NaN</td>\n",
       "      <td>5.0</td>\n",
       "      <td>NaN</td>\n",
       "      <td>NaN</td>\n",
       "      <td>NaN</td>\n",
       "      <td>NaN</td>\n",
       "    </tr>\n",
       "    <tr>\n",
       "      <th>3</th>\n",
       "      <td>b'Addu'</td>\n",
       "      <td>b'Indian_Ocean'</td>\n",
       "      <td>b'Maldives'</td>\n",
       "      <td>None</td>\n",
       "      <td>-0.640090</td>\n",
       "      <td>73.157791</td>\n",
       "      <td>None</td>\n",
       "      <td>29.0</td>\n",
       "      <td>15.00</td>\n",
       "      <td>111.0</td>\n",
       "      <td>...</td>\n",
       "      <td>3.96</td>\n",
       "      <td>0.0</td>\n",
       "      <td>0.0</td>\n",
       "      <td>68.087</td>\n",
       "      <td>147.0</td>\n",
       "      <td>14.0</td>\n",
       "      <td>7.0</td>\n",
       "      <td>9.0</td>\n",
       "      <td>6.0</td>\n",
       "      <td>1.0</td>\n",
       "    </tr>\n",
       "    <tr>\n",
       "      <th>4</th>\n",
       "      <td>b'Agatti'</td>\n",
       "      <td>b'Indian_Ocean'</td>\n",
       "      <td>b'India'</td>\n",
       "      <td>b'Lakshadweep'</td>\n",
       "      <td>10.849093</td>\n",
       "      <td>72.178174</td>\n",
       "      <td>None</td>\n",
       "      <td>2.0</td>\n",
       "      <td>3.03</td>\n",
       "      <td>14.0</td>\n",
       "      <td>...</td>\n",
       "      <td>0.20</td>\n",
       "      <td>0.0</td>\n",
       "      <td>0.0</td>\n",
       "      <td>31.688</td>\n",
       "      <td>NaN</td>\n",
       "      <td>3.0</td>\n",
       "      <td>NaN</td>\n",
       "      <td>NaN</td>\n",
       "      <td>NaN</td>\n",
       "      <td>NaN</td>\n",
       "    </tr>\n",
       "  </tbody>\n",
       "</table>\n",
       "<p>5 rows × 97 columns</p>\n",
       "</div>"
      ],
      "text/plain": [
       "           atoll           region      country               group        lat  \\\n",
       "0     b'Abaiang'    b'Micronesia'  b'Kiribati'  b'Gilbert Islands'   1.856900   \n",
       "1  b'Abariringa'     b'Polynesia'  b'Kiribati'                None  -2.816761   \n",
       "2     b'Abemama'    b'Micronesia'  b'Kiribati'  b'Gilbert Islands'   0.392700   \n",
       "3        b'Addu'  b'Indian_Ocean'  b'Maldives'                None  -0.640090   \n",
       "4      b'Agatti'  b'Indian_Ocean'     b'India'      b'Lakshadweep'  10.849093   \n",
       "\n",
       "         long alternative_names  number_islands  land_area_sqkm  \\\n",
       "0  172.947200        b'Apaiang'            20.0           16.60   \n",
       "1 -171.674099              None             3.0            9.20   \n",
       "2  173.865700        b'Apamama'             5.0           27.40   \n",
       "3   73.157791              None            29.0           15.00   \n",
       "4   72.178174              None             2.0            3.03   \n",
       "\n",
       "   lagoon_area_sqkm  ...  b'sheltered_reef_slope_perc'  \\\n",
       "0             303.0  ...                          2.80   \n",
       "1              51.0  ...                          0.57   \n",
       "2             200.0  ...                          2.35   \n",
       "3             111.0  ...                          3.96   \n",
       "4              14.0  ...                          0.20   \n",
       "\n",
       "   b'terrestrial_reef_flat_kmsq'  b'terrestrial_reef_flat_perc'  \\\n",
       "0                            0.0                            0.0   \n",
       "1                            0.0                            0.0   \n",
       "2                            0.0                            0.0   \n",
       "3                            0.0                            0.0   \n",
       "4                            0.0                            0.0   \n",
       "\n",
       "   b'total_reef_extent_kmsq'  plant_richness bird_richness  reptile_richness  \\\n",
       "0                    257.569             NaN           NaN               NaN   \n",
       "1                     65.755            90.0          13.0               3.0   \n",
       "2                    169.138             NaN           5.0               NaN   \n",
       "3                     68.087           147.0          14.0               7.0   \n",
       "4                     31.688             NaN           3.0               NaN   \n",
       "\n",
       "   arthropod_richness  landcrab_richness  mammal_richness  \n",
       "0                 NaN                NaN              NaN  \n",
       "1               110.0                8.0              NaN  \n",
       "2                 NaN                NaN              NaN  \n",
       "3                 9.0                6.0              1.0  \n",
       "4                 NaN                NaN              NaN  \n",
       "\n",
       "[5 rows x 97 columns]"
      ]
     },
     "metadata": {},
     "output_type": "display_data"
    }
   ],
   "source": [
    "# --- 1. Pre-process and summarize data --- #\n",
    "\n",
    "# In some CSVs, there are invalid rows that are repetitions of the header.\n",
    "# We will clean these by filtering out rows where the 'atoll' column has the value 'atoll'.\n",
    "# We apply this to all biodiversity dataframes to be safe.\n",
    "plants_df = plants_df[plants_df['atoll'] != 'atoll'].copy()\n",
    "birds_df = birds_df[birds_df['atoll'] != 'atoll'].copy()\n",
    "reptiles_df = reptiles_df[reptiles_df['atoll'] != 'atoll'].copy()\n",
    "arthropods_df = arthropods_df[arthropods_df['atoll'] != 'atoll'].copy()\n",
    "landcrabs_df = landcrabs_df[landcrabs_df['atoll'] != 'atoll'].copy()\n",
    "mammals_df = mammals_df[mammals_df['atoll'] != 'atoll'].copy()\n",
    "\n",
    "# This cleaning may cause some columns to be loaded as 'object' type. Let's fix presence columns.\n",
    "for df in [birds_df, reptiles_df, arthropods_df, landcrabs_df, mammals_df]:\n",
    "    if 'presence' in df.columns:\n",
    "        df['presence'] = pd.to_numeric(df['presence'], errors='coerce')\n",
    "\n",
    "# Pivot the reefscape data from long to wide format\n",
    "reefscape_wide_df = reefscape_df.pivot(index='atoll', columns='metric', values='value').reset_index()\n",
    "\n",
    "# Calculate species richness for each biodiversity group\n",
    "plant_richness = plants_df.groupby('atoll')['species'].nunique().reset_index().rename(columns={'species': 'plant_richness'})\n",
    "bird_richness = birds_df.groupby('atoll')['family_species'].nunique().reset_index().rename(columns={'family_species': 'bird_richness'})\n",
    "reptile_richness = reptiles_df.groupby('atoll')['species'].nunique().reset_index().rename(columns={'species': 'reptile_richness'})\n",
    "arthropod_richness = arthropods_df.groupby('atoll')['species'].nunique().reset_index().rename(columns={'species': 'arthropod_richness'})\n",
    "landcrab_richness = landcrabs_df.groupby('atoll')['species'].nunique().reset_index().rename(columns={'species': 'landcrab_richness'})\n",
    "mammal_richness = mammals_df.groupby('atoll')['species'].nunique().reset_index().rename(columns={'species': 'mammal_richness'})\n",
    "\n",
    "# --- 2. Merge all dataframes --- #\n",
    "\n",
    "# Some dataframes have a 'country' column, which would be duplicated from the main_df.\n",
    "# We drop it from the other dataframes before merging.\n",
    "if 'country' in populations_df.columns:\n",
    "    populations_df = populations_df.drop(columns=['country'])\n",
    "if 'country' in military_df.columns:\n",
    "    military_df = military_df.drop(columns=['country'])\n",
    "    \n",
    "data_frames = [\n",
    "    main_df.drop_duplicates(subset='atoll'),\n",
    "    biogeography_df,\n",
    "    environmental_df,\n",
    "    oceanographic_df,\n",
    "    landclass_df,\n",
    "    populations_df,\n",
    "    military_df,\n",
    "    seabird_totals_df,\n",
    "    reefscape_wide_df,\n",
    "    plant_richness, bird_richness, reptile_richness, arthropod_richness, landcrab_richness, mammal_richness\n",
    "]\n",
    "\n",
    "# Use reduce to iteratively merge all dataframes on 'atoll'\n",
    "merged_df = reduce(lambda left, right: pd.merge(left, right, on='atoll', how='left'), data_frames)\n",
    "\n",
    "display(Markdown(\"### Fully Integrated Atoll Data\"))\n",
    "display(merged_df.head())"
   ]
  },
  {
   "cell_type": "markdown",
   "metadata": {},
   "source": [
    "## 3. Exploratory Data Analysis (EDA)\n",
    "Now, let's explore the fully integrated dataset."
   ]
  },
  {
   "cell_type": "markdown",
   "metadata": {},
   "source": [
    "### 3.1 Overview of the Integrated Dataset"
   ]
  },
  {
   "cell_type": "code",
   "execution_count": 33,
   "metadata": {},
   "outputs": [
    {
     "name": "stdout",
     "output_type": "stream",
     "text": [
      "Integrated Data Info:\n",
      "Shape of the merged dataframe: (317, 97)\n",
      "<class 'pandas.core.frame.DataFrame'>\n",
      "RangeIndex: 317 entries, 0 to 316\n",
      "Columns: 97 entries, atoll to mammal_richness\n",
      "dtypes: float64(87), object(10)\n",
      "memory usage: 240.4+ KB\n"
     ]
    }
   ],
   "source": [
    "print(\"Integrated Data Info:\")\n",
    "print(f\"Shape of the merged dataframe: {merged_df.shape}\")\n",
    "merged_df.info(verbose=False, max_cols=0) # Get a concise summary"
   ]
  },
  {
   "cell_type": "markdown",
   "metadata": {},
   "source": [
    "### 3.2 Data Visualization"
   ]
  },
  {
   "cell_type": "markdown",
   "metadata": {},
   "source": [
    "#### Global Distribution of Atolls"
   ]
  },
  {
   "cell_type": "code",
   "execution_count": 34,
   "metadata": {},
   "outputs": [
    {
     "name": "stderr",
     "output_type": "stream",
     "text": [
      "/var/folders/sr/rb0fdyrd6mj5vn4v5zcgw8vm0000gp/T/ipykernel_10655/4096051376.py:21: DeprecationWarning:\n",
      "\n",
      "*scatter_mapbox* is deprecated! Use *scatter_map* instead. Learn more at: https://plotly.com/python/mapbox-to-maplibre/\n",
      "\n"
     ]
    },
    {
     "data": {
      "application/vnd.plotly.v1+json": {
       "config": {
        "plotlyServerURL": "https://plot.ly"
       },
       "data": [
        {
         "customdata": [
          [
           "Micronesia",
           "Kiribati",
           5502
          ],
          [
           "Micronesia",
           "Kiribati",
           3213
          ],
          [
           "Micronesia",
           "Marshall_Islands",
           0
          ],
          [
           "Micronesia",
           "Marshall_Islands",
           1175
          ],
          [
           "Micronesia",
           "Marshall_Islands",
           235
          ],
          [
           "Micronesia",
           "Federated_States_Micronesia",
           0
          ],
          [
           "Micronesia",
           "Kiribati",
           1057
          ],
          [
           "Micronesia",
           "Marshall_Islands",
           1141
          ],
          [
           "Micronesia",
           "Marshall_Islands",
           317
          ],
          [
           "Micronesia",
           "Kiribati",
           2099
          ],
          [
           "Micronesia",
           "Marshall_Islands",
           0
          ],
          [
           "Micronesia",
           "Marshall_Islands",
           0
          ],
          [
           "Micronesia",
           "Marshall_Islands",
           0
          ],
          [
           "Micronesia",
           "Marshall_Islands",
           0
          ],
          [
           "Micronesia",
           "Kiribati",
           4346
          ],
          [
           "Micronesia",
           "Federated_States_Micronesia",
           114
          ],
          [
           "Micronesia",
           "Marshall_Islands",
           469
          ],
          [
           "Micronesia",
           "Federated_States_Micronesia",
           105
          ],
          [
           "Micronesia",
           "Marshall_Islands",
           296
          ],
          [
           "Micronesia",
           "Marshall_Islands",
           296
          ],
          [
           "Micronesia",
           "Marshall_Islands",
           0
          ],
          [
           "Micronesia",
           "Federated_States_Micronesia",
           672
          ],
          [
           "Micronesia",
           "Federated_States_Micronesia",
           115
          ],
          [
           "Micronesia",
           "Palau",
           0
          ],
          [
           "Micronesia",
           "Federated_States_Micronesia",
           578
          ],
          [
           "Micronesia",
           "Marshall_Islands",
           1409
          ],
          [
           "Micronesia",
           "Marshall_Islands",
           0
          ],
          [
           "Micronesia",
           "Federated_States_Micronesia",
           350
          ],
          [
           "Micronesia",
           "Federated_States_Micronesia",
           0
          ],
          [
           "Micronesia",
           "Kiribati",
           980
          ],
          [
           "Micronesia",
           "Marshall_Islands",
           9789
          ],
          [
           "Micronesia",
           "Marshall_Islands",
           9789
          ],
          [
           "Micronesia",
           "Marshall_Islands",
           133
          ],
          [
           "Micronesia",
           "Federated_States_Micronesia",
           3229
          ],
          [
           "Micronesia",
           "Marshall_Islands",
           156
          ],
          [
           "Micronesia",
           "Marshall_Islands",
           228
          ],
          [
           "Micronesia",
           "Federated_States_Micronesia",
           506
          ],
          [
           "Micronesia",
           "Federated_States_Micronesia",
           0
          ],
          [
           "Micronesia",
           "Federated_States_Micronesia",
           1248
          ],
          [
           "Micronesia",
           "Kiribati",
           2027
          ],
          [
           "Micronesia",
           "Marshall_Islands",
           23156
          ],
          [
           "Micronesia",
           "Kiribati",
           1798
          ],
          [
           "Micronesia",
           "Marshall_Islands",
           395
          ],
          [
           "Micronesia",
           "Kiribati",
           2872
          ],
          [
           "Micronesia",
           "Marshall_Islands",
           497
          ],
          [
           "Micronesia",
           "Federated_States_Micronesia",
           133
          ],
          [
           "Micronesia",
           "Federated_States_Micronesia",
           570
          ],
          [
           "Micronesia",
           "Federated_States_Micronesia",
           355
          ],
          [
           "Micronesia",
           "Federated_States_Micronesia",
           1384
          ],
          [
           "Micronesia",
           "Marshall_Islands",
           299
          ],
          [
           "Micronesia",
           "Marshall_Islands",
           525
          ],
          [
           "Micronesia",
           "Palau",
           41
          ],
          [
           "Micronesia",
           "Federated_States_Micronesia",
           6
          ],
          [
           "Micronesia",
           "Kiribati",
           1907
          ],
          [
           "Micronesia",
           "Federated_States_Micronesia",
           1343
          ],
          [
           "Micronesia",
           "Kiribati",
           2683
          ],
          [
           "Micronesia",
           "Philippines",
           0
          ],
          [
           "Micronesia",
           "Federated_States_Micronesia",
           210
          ],
          [
           "Micronesia",
           "Federated_States_Micronesia",
           0
          ],
          [
           "Micronesia",
           "Kiribati",
           1519
          ],
          [
           "Micronesia",
           "Federated_States_Micronesia",
           0
          ],
          [
           "Micronesia",
           "Federated_States_Micronesia",
           100
          ],
          [
           "Micronesia",
           "Federated_States_Micronesia",
           0
          ],
          [
           "Micronesia",
           "Federated_States_Micronesia",
           258
          ],
          [
           "Micronesia",
           "Federated_States_Micronesia",
           1661
          ],
          [
           "Micronesia",
           "Federated_States_Micronesia",
           1116
          ],
          [
           "Micronesia",
           "Federated_States_Micronesia",
           745
          ],
          [
           "Micronesia",
           "Marshall_Islands",
           0
          ],
          [
           "Micronesia",
           "Marshall_Islands",
           0
          ],
          [
           "Micronesia",
           "Federated_States_Micronesia",
           456
          ],
          [
           "Micronesia",
           "Federated_States_Micronesia",
           2220
          ],
          [
           "Micronesia",
           "Federated_States_Micronesia",
           0
          ],
          [
           "Micronesia",
           "Philippines",
           0
          ],
          [
           "Micronesia",
           "Kiribati",
           4979
          ],
          [
           "Micronesia",
           "Marshall_Islands",
           0
          ],
          [
           "Micronesia",
           "Kiribati",
           56284
          ],
          [
           "Micronesia",
           "Marshall_Islands",
           310
          ],
          [
           "Micronesia",
           "Marshall_Islands",
           0
          ],
          [
           "Micronesia",
           "Federated_States_Micronesia",
           847
          ],
          [
           "Micronesia",
           "Marshall_Islands",
           264
          ],
          [
           "Micronesia",
           "US",
           0
          ],
          [
           "Micronesia",
           "Federated_States_Micronesia",
           0
          ],
          [
           "Micronesia",
           "Federated_States_Micronesia",
           1039
          ],
          [
           "Micronesia",
           "Marshall_Islands",
           88
          ],
          [
           "Micronesia",
           "Marshall_Islands",
           816
          ],
          [
           "Micronesia",
           "Federated_States_Micronesia",
           0
          ]
         ],
         "hovertemplate": "<b>%{hovertext}</b><br><br>region=%{customdata[0]}<br>total_atoll_area_sqkm=%{marker.size}<br>lat=%{lat}<br>long=%{lon}<br>country=%{customdata[1]}<br>human_population=%{customdata[2]}<extra></extra>",
         "hovertext": [
          "Abaiang",
          "Abemama",
          "Ailinginae",
          "Ailinglaplap",
          "Ailuk",
          "Ant",
          "Aranuka",
          "Arno",
          "Aur",
          "Beru",
          "Bikar",
          "Bikini",
          "Bikini",
          "Bokaak",
          "Butaritari",
          "Eauripik",
          "Ebon",
          "Elato",
          "Eniwetok",
          "Eniwetok",
          "Erikub",
          "Etal",
          "Faraulep",
          "Helen",
          "Ifalik",
          "Jaluit",
          "Jemo",
          "Kapingamarangi",
          "Kuop",
          "Kuria",
          "Kwajalein",
          "Kwajalein",
          "Lae",
          "Lamotrek",
          "Lib",
          "Likiep",
          "Losap",
          "Losiep",
          "Lukunor",
          "Maiana",
          "Majuro",
          "Makin",
          "Maloelap",
          "Marakei",
          "Mili",
          "Mokil",
          "Murilo",
          "Namoluk",
          "Namonuito",
          "Namorik",
          "Namu",
          "Ngcheangel",
          "Ngulu",
          "Nikunau",
          "Nomwin",
          "Nonouti",
          "North_Tubbataha",
          "Nukuoro",
          "Olimarao",
          "Onotoa",
          "Oroluk",
          "Pakin",
          "Pikelot",
          "Pingelap",
          "Pulap",
          "Pulusuk",
          "Puluwat",
          "Rongelap",
          "Rongerik",
          "Sapwuahfik",
          "Satawan",
          "Sorol",
          "South_Tubbataha",
          "Tabiteuea",
          "Taka",
          "Tarawa",
          "Ujae",
          "Ujelang",
          "Ulithi",
          "Utirik",
          "Wake",
          "West_Fayu",
          "Woleai",
          "Wotho",
          "Wotje",
          "Zohhoiiyoru"
         ],
         "lat": {
          "bdata": "EhQ/xty1/T+n6Egu/yHZPxxDAHDsSSZA+n5qvHSTHUCUUiunmK4kQFApZQi2IBtA6gQ0ETY8xT9VZ7XAHlMcQMP1KFyPgiBAvp8aL90k9b+qZWt9kYAoQOhQ4WMLFCdA6FDhYwsUJ0CP5PIf0k8tQJ7vp8ZLNwlApgpGJXXCGkDwp8ZLN4kSQGx4eqUswx1AoExIEFPXJkCgTEgQU9cmQGIQWDm0SCJAFz0BXrBFFkA730+Nly4hQDBMpgpGJQdA4lgXt9EAHUAXg4dp36QYQJs4ud+hKCRAbTHkfcET8T/ChqdXyjIcQK7zb5f9us0/dXedDflHIkB1d50N+UciQJ+y9Wea3yFAR3L5D+n3HUDjNhrAW6AgQLnsxnGW2CNA8KfGSzeJG0DbUgd5PdgjQBzSqMDJFhZAT0ATYcPT7T/VzjC1pX4cQIkHlE25AgtA001iEFh5IUAXt9EA3gIAQKAaL90khhhAcDZnjva5GkDP91PjpVshQB5uh4bFqBdA9l/nps1oIUCGONbFbXQWQFHaG3xh8h9AIxXGFoIsIEBJnYAmwuYgQI/C9Shcj/W//RUyVwYVIUDUmuYdp+jkv9XOMLWlziFA8WPMXUvIDkDf4AuTqcIeQMzuycNCLf6/RZA5hUsVHkBh4o+izjwcQPVKWYY4NiBARc2hVuLbGEB4eqUsQ1weQGq8dJMYxBpAj+TyH9JvHUDv5NNjW64mQIPAyqFFtiZANw9xvbdDF0B32hoRjKMVQO1imulePyBAOWOYE7SRIUC0WfW52or2v0o5qXnYTSZATRWMSuoE9z9zRjk9lCkiQNqIzAEnpCNAJeZZSSvuI0BWn6ut2H8mQIZOGUnMSzNAgy9MpgomIEA0gLdAgmIdQEOqKF5lNSRAx0s3iUHgIkDSGK2jqrkjQA==",
          "dtype": "f8"
         },
         "legendgroup": "Micronesia",
         "lon": {
          "bdata": "rthfdk+eZUC2hHzQs7tlQCh/944azGRAhjjWxW0YZUCdnKG4Iz5lQKI6Z1VVvWNAwTkjSnuzZUBufDcnAHVlQKJFtvP9YmVAAU2EDU//ZUA4EJIFTENlQK4HOCmxqGRArgc4KbGoZEBMpgpGJR9lQJT2Bl+YmmVAb/CFyVThYUAQ6bevAxdlQNCzWfW5RGJAB4/b1OVKZEAHj9vU5UpkQC2yne+nQGVAU8oQbMEyY0BVwaikThBiQBdIUPwYeWBANe84RUcOYkC/v5w0KC9lQHS1FfvLMGVAusOB62VYY0AEVg4tsv1iQDGXVG03rWVApwhwepfwZECnCHB6l/BkQK17dZ9tx2RAh6dXyjJKYkAZBFYOLexkQD+h6MscI2VAJzEIrBwWY0AhsHJokXphQDZWYp4VOGNAgEi/fR2gZUDle0YitGVlQNk9eVion2VAs3vysFBhZUACK4cW2ahlQFJJnYAmfmVAAyLElTP4Y0DarPpcbQdjQDnSGRh5JGNAZTVdT3TCYkAEVg4tsgNlQPMf0m9fBWVA65Cb4QbXYECtad5xii5hQJF++zpwDmZAPXyZKML4YkA3GsBbIMtlQNxoAG+B/F1Aio7k8h9eY0Ay5q4l5DtiQMyXF2Af8mVA3MXqReNoY0CSO2wis7ljQA1xrIvbdGJAEQtrGV8WZEAv3SQGga1iQO/Jw0KtqWJAQKTfvg6mYkAjvajdr9lkQCfChqdX7mRAS8Fk9O2nY0DdmJ6wxDJjQOLMr+YAjWFADYl7LH30XUCP5PIf0ttlQE2TY/zFM2VApN++DpyfZUA7JGvDl7NkQGELi5ukHWRAlumXiDd1YUDwp8ZLNzllQBP69DMQ1GRApSxDHOtWYkD5D+m3r/thQA5qv7UTv2RA+zpwzohAZUARUyKJXn5hQA==",
          "dtype": "f8"
         },
         "marker": {
          "color": "#636efa",
          "size": {
           "bdata": "9ihcj8JNdkCF61G4HqFwQNejcD0K72JASOF6FK4JikAK16NwPcptQHsUrkfhuldAmpmZmZn5UUAzMzMzM4d6QJqZmZmZuXBAKVyPwvWISUAzMzMzMzNOQJqZmZmZRYZAmpmZmZlFhkAfhetRuL5bQFK4HoXrsXlAj8L1KFwPMkCuR+F6FJZgQArXo3A9iiVACtejcD3Sj0AK16NwPdKPQI/C9Shcc3JApHA9CtcjOUC4HoXrUTggQLgehetRWGRASOF6FK5HGUCPwvUoXIuLQKRwPQrXow5ArkfhehROUkDhehSuR9FaQClcj8L1qD1ACtejcL2RokAK16NwvZGiQK5H4XoUrjpApHA9CtejRUCF61G4HoX7P+xRuB6F83xA4XoUrkehRkDhehSuR+EWQM3MzMzMDFFA16NwPQq/ZUAK16NwPe51QM3MzMzMzCxAcT0K16M4j0AzMzMzM1NGQDMzMzMzz4pASOF6FK5HH0C4HoXrUUh4QPYoXI/C9SxAMzMzM7NjoECF61G4HkU2QK5H4XoU+nxAH4XrUbheNUCamZmZmTV8QPYoXI/CNThArkfhehQ+dEB7FK5H4aSCQHE9CtejYFNAFK5H4Xo0QkAK16NwPQojQNejcD0K11xAuB6F61GcfECPwvUoXI84QNejcD0K1xNAuB6F61G4G0BxPQrXo9BEQNejcD0K1w1Aw/UoXI/CG0DD9ShcjxiRQGZmZmZm/mZAPQrXo3D9XUD2KFyPwgV6QB+F61G4njFA5/up8dItMUBmZmZmZsaCQFyPwvUozGBA16NwPQp3f0D2KFyPwh1vQI/C9ShcL1hA16NwPQqPdkAAAAAAAIBYQNejcD0KFzZAmpmZmZmZJUAAAAAAAKBFQI/C9ShcP15Aw/UoXI8yiECkcD0K13NRQA==",
           "dtype": "f8"
          },
          "sizemode": "area",
          "sizeref": 56.78666666666667
         },
         "mode": "markers",
         "name": "Micronesia",
         "showlegend": true,
         "subplot": "mapbox",
         "type": "scattermapbox"
        },
        {
         "customdata": [
          [
           "Polynesia",
           "Kiribati",
           31
          ],
          [
           "Polynesia",
           "French_Polynesia",
           490
          ],
          [
           "Polynesia",
           "French_Polynesia",
           0
          ],
          [
           "Polynesia",
           "French_Polynesia",
           154
          ],
          [
           "Polynesia",
           "French_Polynesia",
           530
          ],
          [
           "Polynesia",
           "French_Polynesia",
           0
          ],
          [
           "Polynesia",
           "French_Polynesia",
           0
          ],
          [
           "Polynesia",
           "French_Polynesia",
           444
          ],
          [
           "Polynesia",
           "French_Polynesia",
           231
          ],
          [
           "Polynesia",
           "French_Polynesia",
           1736
          ],
          [
           "Polynesia",
           "Tokelau",
           491
          ],
          [
           "Polynesia",
           "Kiribati",
           0
          ],
          [
           "Polynesia",
           "Kiribati",
           0
          ],
          [
           "Polynesia",
           "France",
           0
          ],
          [
           "Polynesia",
           "Pitcairn_Islands",
           0
          ],
          [
           "Polynesia",
           "Kiribati",
           0
          ],
          [
           "Polynesia",
           "French_Polynesia",
           440
          ],
          [
           "Polynesia",
           "French_Polynesia",
           173
          ],
          [
           "Polynesia",
           "Tokelau",
           506
          ],
          [
           "Polynesia",
           "French_Polynesia",
           949
          ],
          [
           "Polynesia",
           "French_Polynesia",
           150
          ],
          [
           "Polynesia",
           "French_Polynesia",
           0
          ],
          [
           "Polynesia",
           "US",
           0
          ],
          [
           "Polynesia",
           "Tuvalu",
           6602
          ],
          [
           "Polynesia",
           "French_Polynesia",
           1009
          ],
          [
           "Polynesia",
           "French_Polynesia",
           0
          ],
          [
           "Polynesia",
           "French_Polynesia",
           64
          ],
          [
           "Polynesia",
           "French_Polynesia",
           125
          ],
          [
           "Polynesia",
           "French_Polynesia",
           0
          ],
          [
           "Polynesia",
           "US",
           0
          ],
          [
           "Polynesia",
           "US",
           0
          ],
          [
           "Polynesia",
           "French_Polynesia",
           257
          ],
          [
           "Polynesia",
           "French_Polynesia",
           524
          ],
          [
           "Polynesia",
           "French_Polynesia",
           466
          ],
          [
           "Polynesia",
           "Kiribati",
           5586
          ],
          [
           "Polynesia",
           "Kiribati",
           5586
          ],
          [
           "Polynesia",
           "Kiribati",
           5586
          ],
          [
           "Polynesia",
           "Kiribati",
           5586
          ],
          [
           "Polynesia",
           "US",
           0
          ],
          [
           "Polynesia",
           "US",
           0
          ],
          [
           "Polynesia",
           "US",
           0
          ],
          [
           "Polynesia",
           "French_Polynesia",
           816
          ],
          [
           "Polynesia",
           "Kiribati",
           0
          ],
          [
           "Polynesia",
           "French_Polynesia",
           648
          ],
          [
           "Polynesia",
           "Cook_Islands",
           238
          ],
          [
           "Polynesia",
           "Kiribati",
           0
          ],
          [
           "Polynesia",
           "Cook_Islands",
           0
          ],
          [
           "Polynesia",
           "French_Polynesia",
           0
          ],
          [
           "Polynesia",
           "French_Polynesia",
           0
          ],
          [
           "Polynesia",
           "French_Polynesia",
           0
          ],
          [
           "Polynesia",
           "French_Polynesia",
           74
          ],
          [
           "Polynesia",
           "French_Polynesia",
           0
          ],
          [
           "Polynesia",
           "French_Polynesia",
           104
          ],
          [
           "Polynesia",
           "French_Polynesia",
           292
          ],
          [
           "Polynesia",
           "French_Polynesia",
           0
          ],
          [
           "Polynesia",
           "French_Polynesia",
           20
          ],
          [
           "Polynesia",
           "Kiribati",
           0
          ],
          [
           "Polynesia",
           "US",
           0
          ],
          [
           "Polynesia",
           "French_Polynesia",
           0
          ],
          [
           "Polynesia",
           "French_Polynesia",
           0
          ],
          [
           "Polynesia",
           "French_Polynesia",
           0
          ],
          [
           "Polynesia",
           "French_Polynesia",
           0
          ],
          [
           "Polynesia",
           "Tuvalu",
           391
          ],
          [
           "Polynesia",
           "Tuvalu",
           610
          ],
          [
           "Polynesia",
           "French_Polynesia",
           255
          ],
          [
           "Polynesia",
           "French_Polynesia",
           0
          ],
          [
           "Polynesia",
           "French_Polynesia",
           206
          ],
          [
           "Polynesia",
           "French_Polynesia",
           0
          ],
          [
           "Polynesia",
           "Kiribati",
           0
          ],
          [
           "Polynesia",
           "Tuvalu",
           36
          ],
          [
           "Polynesia",
           "Tuvalu",
           550
          ],
          [
           "Polynesia",
           "Tuvalu",
           514
          ],
          [
           "Polynesia",
           "Tuvalu",
           581
          ],
          [
           "Polynesia",
           "Tuvalu",
           341
          ],
          [
           "Polynesia",
           "Tokelau",
           387
          ],
          [
           "Polynesia",
           "French_Polynesia",
           0
          ],
          [
           "Polynesia",
           "Pitcairn_Islands",
           0
          ],
          [
           "Polynesia",
           "Kiribati",
           0
          ],
          [
           "Polynesia",
           "Cook_Islands",
           25
          ],
          [
           "Polynesia",
           "US",
           0
          ],
          [
           "Polynesia",
           "French_Polynesia",
           0
          ],
          [
           "Polynesia",
           "US",
           0
          ],
          [
           "Polynesia",
           "French_Polynesia",
           0
          ],
          [
           "Polynesia",
           "Cook_Islands",
           456
          ],
          [
           "Polynesia",
           "French_Polynesia",
           138
          ],
          [
           "Polynesia",
           "French_Polynesia",
           208
          ],
          [
           "Polynesia",
           "Cook_Islands",
           81
          ],
          [
           "Polynesia",
           "French_Polynesia",
           2785
          ],
          [
           "Polynesia",
           "French_Polynesia",
           97
          ],
          [
           "Polynesia",
           "French_Polynesia",
           253
          ],
          [
           "Polynesia",
           "French_Polynesia",
           0
          ],
          [
           "Polynesia",
           "Kiribati",
           0
          ],
          [
           "Polynesia",
           "French_Polynesia",
           305
          ],
          [
           "Polynesia",
           "French_Polynesia",
           0
          ],
          [
           "Polynesia",
           "French_Polynesia",
           0
          ],
          [
           "Polynesia",
           "US",
           0
          ],
          [
           "Polynesia",
           "French_Polynesia",
           21
          ],
          [
           "Polynesia",
           "Kiribati",
           0
          ],
          [
           "Polynesia",
           "Cook_Islands",
           0
          ],
          [
           "Polynesia",
           "American_Samoa",
           0
          ],
          [
           "Polynesia",
           "Kiribati",
           1960
          ],
          [
           "Polynesia",
           "French_Polynesia",
           65
          ],
          [
           "Polynesia",
           "French_Polynesia",
           0
          ],
          [
           "Polynesia",
           "French_Polynesia",
           0
          ],
          [
           "Polynesia",
           "French_Polynesia",
           513
          ],
          [
           "Polynesia",
           "French_Polynesia",
           537
          ],
          [
           "Polynesia",
           "French_Polynesia",
           152
          ],
          [
           "Polynesia",
           "French_Polynesia",
           180
          ],
          [
           "Polynesia",
           "French_Polynesia",
           0
          ],
          [
           "Polynesia",
           "French_Polynesia",
           0
          ],
          [
           "Polynesia",
           "French_Polynesia",
           61
          ],
          [
           "Polynesia",
           "French_Polynesia",
           0
          ],
          [
           "Polynesia",
           "French_Polynesia",
           0
          ],
          [
           "Polynesia",
           "French_Polynesia",
           0
          ],
          [
           "Polynesia",
           "French_Polynesia",
           0
          ],
          [
           "Polynesia",
           "Kiribati",
           1701
          ],
          [
           "Polynesia",
           "French_Polynesia",
           0
          ],
          [
           "Polynesia",
           "French_Polynesia",
           589
          ],
          [
           "Polynesia",
           "French_Polynesia",
           14
          ],
          [
           "Polynesia",
           "Cook_Islands",
           213
          ],
          [
           "Polynesia",
           "French_Polynesia",
           6
          ],
          [
           "Polynesia",
           "French_Polynesia",
           0
          ],
          [
           "Polynesia",
           "French_Polynesia",
           261
          ],
          [
           "Polynesia",
           "French_Polynesia",
           0
          ],
          [
           "Polynesia",
           "French_Polynesia",
           103
          ],
          [
           "Polynesia",
           "French_Polynesia",
           65
          ],
          [
           "Polynesia",
           "Tuvalu",
           1007
          ],
          [
           "Polynesia",
           "French_Polynesia",
           0
          ]
         ],
         "hovertemplate": "<b>%{hovertext}</b><br><br>region=%{customdata[0]}<br>total_atoll_area_sqkm=%{marker.size}<br>lat=%{lat}<br>long=%{lon}<br>country=%{customdata[1]}<br>human_population=%{customdata[2]}<extra></extra>",
         "hovertext": [
          "Abariringa",
          "Ahe",
          "Ahunui",
          "Amanu",
          "Anaa",
          "Anuanuraro",
          "Anuanurunga",
          "Apataki",
          "Aratika",
          "Arutua",
          "Atafu",
          "Birnie",
          "Caroline",
          "Clipperton",
          "Ducie",
          "Enderbury",
          "Faaite",
          "Fakahina",
          "Fakaofo",
          "Fakarava",
          "Fangatau",
          "Fangataufa",
          "French_Frigate_Shoals",
          "Funafuti",
          "Hao",
          "Haraiki",
          "Hereheretue",
          "Hikueru",
          "Hiti",
          "Johnston",
          "Johnston",
          "Katiu",
          "Kauehi",
          "Kaukura",
          "Kiritimati",
          "Kiritimati",
          "Kiritimati",
          "Kiritimati",
          "Kure",
          "Laysan",
          "Lisianski",
          "Makemo",
          "Malden",
          "Manihi",
          "Manihiki",
          "Manra",
          "Manuae",
          "Manuhangi",
          "Maria",
          "Maria_Est",
          "Marokau",
          "Marutea_Nord",
          "Marutea_Sud",
          "Mataiva",
          "Matureivavao",
          "Maupihaa",
          "McKean",
          "Midway",
          "Morane",
          "Moruroa",
          "Motu_One",
          "Motutunga",
          "Nanumanga",
          "Nanumea",
          "Napuka",
          "Nengonengo",
          "Niau",
          "Nihiru",
          "Nikumaroro",
          "Niulakita",
          "Niutao",
          "Nui",
          "Nukufetau",
          "Nukulaelae",
          "Nukunonu",
          "Nukutepipi",
          "Oeno",
          "Orona",
          "Palmerston",
          "Palmyra",
          "Paraoa",
          "Pearl_and_Hermes",
          "Pinaki",
          "Pukapuka",
          "Puka-Puka",
          "Pukarua",
          "Rakahanga",
          "Rangiroa",
          "Raraka",
          "Raroia",
          "Ravahere",
          "Rawaki",
          "Reao",
          "Reitoru",
          "Rekareka",
          "Rose",
          "Scilly",
          "Starbuck",
          "Suwarrow",
          "Swains",
          "Tabuaeran",
          "Taenga",
          "Tahanea",
          "Taiaro",
          "Takapoto",
          "Takaroa",
          "Takume",
          "Tatakoto",
          "Tauere",
          "Tekokota",
          "Temitangi",
          "Temoe",
          "Tenararo",
          "Tenaruga",
          "Tepoto",
          "Teraina",
          "Tetiaroa",
          "Tikehau",
          "Toau",
          "Tongareva",
          "Tuanake",
          "Tupai",
          "Tureia",
          "Vahanga",
          "Vahitahi",
          "Vairaatea",
          "Vaitupu",
          "Vanavana"
         ],
         "lat": {
          "bdata": "oS+9/bmIBsAU0ETY8PQswIofY+5aojPA5j+k377OMcBtOZfiqmoxwFYOLbKdbzTAkxgEVg6dNMBkzF1LyOcuwKMBvAUSFC/AFD/G3LWkLsA7cM6I0h4hwAXFjzF3rQzAOwVUkzvrI8DsDPihd5skQLGKNzKPrDjA3+ALk6kCCcCqYFRSJ8AwwEaU9gZf+C/AOpLLf0i/IsDQRNjw9EowwBDpt68Dpy/AB/AWSFA8NsCoNc07TsE3QA4tsp3vByHAc9cS8kE/MsCeXinLEHcxwJEPejar3jPAZvfkYaGWMcCYTBWMSrowwHapEfqZujBAdqkR+pm6MEDqlbIMcWwwwDcawFsgwS/A+u3rwDmDL8DByqFFtvP9P8HKoUW28/0/wcqhRbbz/T/ByqFFtvP9P8jT8gNXazxAcQM+P4zEOUAIr13acBA6QJHtfD81njDAZvfkYaEWEMDmP6Tfvs4swE2Yeiew3iTA+zpwzojSEcAwuycPC0UzwME5I0p7MzPARFILJZPPNcBqvHSTGAQ2wHNoke18DzLAg8DKoUUGMcD3Bl+YTIU1wPkx5q4lxC3ADXGsi9t4NcABTYQNT88wwKVOQBNhwwzAtbBdkOM9PEAOvjCZKig3wKH4Meau1TXA/kP67eugL8CY3ZOHhRoxwIGVQ4tsJxnA93XgnBGlFsBGlPYGX1gswP8h/fZ1wDLADbj4JSwnMMCMSuoENLEwwL8OnDOitBLAEk4LXvR1JcABTYQNT28YwEi/fR045xzAmbuWkA/6H8C8BRIUP8YiwPCl8KDZVSLAMQisHFq0NMA7sxMU9ew3wAdfmEwVDBLAldQJaCIMMsD+mUF8YIcXQG3n+6nxIjPAc2iR7XzfO0C+MJkqGGUzwPaX3ZOHxSXAUWuad5yiLcBwzojS3lAywJzEILByCCTADAbX3NE3LsCwA+eMKC0wwBQ/xty1FDDAlWWIY108MsCDL0ymCsYNwGq8dJMYhDLAXrpJDALbMcAv3SQGgdUwwAMLYMrAFS3AeqUsQxyLMMAdWmQ7348WwE2EDU+vdCrAuaerOxYbJsBg5dAi2/kOQCSX/5B+WzDAIR/0bFbdMMCUh4Va03wvwBalhGBVPS3ALpCg+DHmLMCRD3o2q54vwEhQ/BhzVzHAGw3gLZBgMcDHSzeJQVAxwAN4CyQorjXAKcsQx7pYN8A9LNSa5k01wH/ZPXlYWDXA/Bhz1xLSMMAbpDvjVrwSQNNjAE0pBDHANjy9UpYBLsCq8dJNYtAvwPxyZrtC/yHAgQTFjzGnMMClvcEXJkMwwKOSOgFN1DTAaQBvgQRVNcAukKD4McYywJoIG55eWTPAnrEv2XjwHcBHcvkP6cc0wA==",
          "dtype": "f8"
         },
         "legendgroup": "Polynesia",
         "lon": {
          "bdata": "hugQOJJ1ZcBy+Q/pt0liwBdIUPwYjWHAAwmKH2OYYcAAAAAAADBiwEJg5dAi8WHAd76fGi/pYcC1N/jCZEpiwBTQRNjwMGLAObTIdr5XYsBZhjjWxY9lwK1p3nGKcGXAppnudZLGYsD9+iE22E1bwMgMVMa/MV/AVOOlm8RiZcCSy39IvydiwCBj7lpChGHApSxDHOtmZcBd3EYDeDNiwCv2l92Tm2HAofgx5q5XYcC7Jw8LtcZkwFYOLbKdY2ZA1edqK/abYcCVZYhjXe5hwKabxCCwHmLAD5wzorTTYcCTGARWDgNiwCidSDAVMWXAKJ1IMBUxZcBEaW/whQtiwFR0JJf/JGLA4zYawFtWYsAMy59vS6xjwAzLn29LrGPADMufb0usY8AMy59vS6xjwHkkXp6OSmbASFD8GHN3ZcBqLjcY6r5lwDVeukkM9mHAmpmZmZldY8BqTfOOUz5iwDLCgMrdH2TAj+TyH9JnZcDqBDQRNt5jwISezarPp2HAYhIu5JFWY8DnjCjtDQZhwNxoAG+ByGHAdy0hH/TkYcCEns2qz/FgwG+BBMWPlWLAO99PjZcMYcB/arx0kz5jwLUV+8vuw2XAKP1zhwMsZsDXaDnQQyRhwPFjzF1LXGHAxm00gLdQY8DHKTqSywtiwLwFEhQ/CmZAWmQ7308DZkAIrBxaZKdhwJkqGJXUuWHAlXjlH2JLYsAUP8bctdphwDvfT42X0GXA2J5ZEqB1ZkC7uI0G8CpmQMX+snvyJGZAuY0G8BZMZkDQRNjw9HpmQCGP4EZKemXAi2zn+6nhYcDNfc3NUldgwET67evAhWXAdy0hH/RkZMC9GTVfZUJkwK5H4XoUlmHAguLHmLv6ZcDysFBrmlVhwAFNhA1Pu2TAldQJaCJaYcDYgXNGlCBhwBe30QDeImTAXOZ0WUx2YsB7gy9MphxiwHrHKTqSzWHAH4XrUbjEYcBfKcsQx1ZlwIv9ZffkC2HAUdobfGHiYcB9rrZif71hwMwMG2U9BWXAMuauJeRVY8AHX5hMFXxjwNIA3gIJZGTAx76/nHRiZcD/Z4MCJepjwGN/2T155GHAhlrTvOMYYsDc14FzRhRiwE1p/S2BJmLAwhcmUwUfYsBtVn2utsZhwFjKMsSxTGHA1XjpJjGwYcC4HoXrUdJhwI51cRsNlGHARdjw9ErPYMCZKhiV1BdhwNNNYhBYEWHAjLlrCfkIYsAY7rfRGwxkwEYeLXPfsmLAb4EExY+FYsDmP6TfvkBiwAwCK4cWv2PAyeU/pN8GYsDjpZvEIPpiwGiR7Xw/UWHARrbz/dQUYcAAkX77OlphwDC7Jw8LZ2HAtoR80LNVZkCDUUmdgGRhwA==",
          "dtype": "f8"
         },
         "marker": {
          "color": "#EF553B",
          "size": {
           "bdata": "mpmZmZkJUUDD9Shcj8JlQKRwPQrXIztA4XoUrkepbkAUrkfhepxlQIXrUbgehS1AMzMzMzMzG0BSuB6F62OHQD0K16NwhWZApHA9Ctc7gkA9CtejcL04QMP1KFyPwuU/ZmZmZmZmN0D2KFyPwnUjQJqZmZmZmRVAw/UoXI/CG0AUrkfhethwQPYoXI/CVUFAzczMzMxMUEBI4XoUroCTQB+F61G4njVAH4XrUbjeSEBmZmZmZoKDQGZmZmZmjm5AuB6F61HQgUA9CtejcL04QAAAAAAA4EVAPQrXo3B9WkAAAAAAAIA5QBSuR+F67GdAFK5H4XrsZ0CPwvUoXJtwQOxRuB6FT3VAAAAAAAAUgUAUrkfher6EQBSuR+F6voRAFK5H4Xq+hEAUrkfher6EQGZmZmZmJktArkfhehSuGkAfhetRuNZhQHE9CtejXoZAZmZmZmamQ0DhehSuR2loQOF6FK5HwUxASOF6FK7HJEBI4XoUrgc0QClcj8L1qCtAZmZmZmbmI0BxPQrXo3AqQKRwPQrX+29AZmZmZmZmgECuR+F6FCZhQArXo3A9qkdAAAAAAACAOUAzMzMzM7NIQPYoXI/C9fA/pHA9CtfDUkApXI/C9egwQOF6FK5HgWRArkfhehQuKEDsUbgehTtjQK5H4XoUrhBAw/UoXI/CNEAfhetRuD5DQAAAAAAA4FVA7FG4HoWLTEDhehSuRxFZQOxRuB6FaypApHA9CtexgUB7FK5H4XoIQBSuR+F6FDJA9ihcj8JFXUAzMzMzM1NCQClcj8L1uFxAw/UoXI/CFUCamZmZmRkoQB+F61G4PkRAhetRuB6lS0AfhetRuJ40QArXo3A9SjdAzczMzMy4eECamZmZmZkLQOxRuB6FKzVA7FG4HoUrM0DD9ShcjyJJQLgehetROCVAAAAAAABvm0CPwvUoXO94QK5H4XoU2nlAmpmZmZnpUUC4HoXrUbjyPx+F61G43lFAZmZmZmZmK0Bcj8L1KFwUQD0K16NwPRpAUrgeheuhXED2KFyPwjU8QHsUrkfhkmFAAAAAAAAAFEDXo3A9Co9iQOF6FK5HuWhAH4XrUbi2g0CkcD0K1yMxQOxRuB6Fm1lAH4XrUbguXUCamZmZmVlRQAAAAAAA4ENAw/UoXI9CMUCF61G4HoUbQJqZmZmZSVNArkfhehSuNEC4HoXrUbgWQKRwPQrXIydAw/UoXI/CF0DhehSuR+EvQOF6FK5H4UBAMzMzMzMvfEDD9Shcj2yEQJqZmZmZAWxAFK5H4Xr0QkBSuB6F65E9QFK4HoXrUVJAFK5H4XqUJUAfhetRuJ4yQB+F61G4HjVAZmZmZmbmI0DD9Shcj8IaQA==",
           "dtype": "f8"
          },
          "sizemode": "area",
          "sizeref": 56.78666666666667
         },
         "mode": "markers",
         "name": "Polynesia",
         "showlegend": true,
         "subplot": "mapbox",
         "type": "scattermapbox"
        },
        {
         "customdata": [
          [
           "Indian_Ocean",
           "Maldives",
           25062
          ],
          [
           "Indian_Ocean",
           "India",
           7521
          ],
          [
           "Indian_Ocean",
           "Seychelles",
           0
          ],
          [
           "Indian_Ocean",
           "Seychelles",
           0
          ],
          [
           "Indian_Ocean",
           "Maldives",
           15351
          ],
          [
           "Indian_Ocean",
           "Seychelles",
           0
          ],
          [
           "Indian_Ocean",
           "India",
           45
          ],
          [
           "Indian_Ocean",
           "India",
           271
          ],
          [
           "Indian_Ocean",
           "India",
           0
          ],
          [
           "Indian_Ocean",
           "India",
           0
          ],
          [
           "Indian_Ocean",
           "India",
           2347
          ],
          [
           "Indian_Ocean",
           "Seychelles",
           0
          ],
          [
           "Indian_Ocean",
           "Seychelles",
           0
          ],
          [
           "Indian_Ocean",
           "Mauritius",
           0
          ],
          [
           "Indian_Ocean",
           "Mauritius",
           0
          ],
          [
           "Indian_Ocean",
           "France",
           0
          ],
          [
           "Indian_Ocean",
           "Maldives",
           8992
          ],
          [
           "Indian_Ocean",
           "Seychelles",
           0
          ],
          [
           "Indian_Ocean",
           "Maldives",
           557
          ],
          [
           "Indian_Ocean",
           "Maldives",
           1995
          ],
          [
           "Indian_Ocean",
           "Maldives",
           9177
          ],
          [
           "Indian_Ocean",
           "Maldives",
           1294
          ],
          [
           "Indian_Ocean",
           "France",
           0
          ],
          [
           "Indian_Ocean",
           "Maldives",
           1122
          ],
          [
           "Indian_Ocean",
           "Mauritius",
           0
          ],
          [
           "Indian_Ocean",
           "Maldives",
           14699
          ],
          [
           "Indian_Ocean",
           "Maldives",
           21948
          ],
          [
           "Indian_Ocean",
           "Maldives",
           5827
          ],
          [
           "Indian_Ocean",
           "Maldives",
           2528
          ],
          [
           "Indian_Ocean",
           "India",
           5404
          ],
          [
           "Indian_Ocean",
           "India",
           4419
          ],
          [
           "Indian_Ocean",
           "India",
           11210
          ],
          [
           "Indian_Ocean",
           "India",
           3946
          ],
          [
           "Indian_Ocean",
           "Maldives",
           10260
          ],
          [
           "Indian_Ocean",
           "Maldives",
           1265
          ],
          [
           "Indian_Ocean",
           "India",
           10447
          ],
          [
           "Indian_Ocean",
           "Maldives",
           5490
          ],
          [
           "Indian_Ocean",
           "Australia",
           0
          ],
          [
           "Indian_Ocean",
           "Maldives",
           17581
          ],
          [
           "Indian_Ocean",
           "Maldives",
           217246
          ],
          [
           "Indian_Ocean",
           "Maldives",
           4869
          ],
          [
           "Indian_Ocean",
           "India",
           0
          ],
          [
           "Indian_Ocean",
           "Mauritius",
           0
          ],
          [
           "Indian_Ocean",
           "Seychelles",
           0
          ],
          [
           "Indian_Ocean",
           "Seychelles",
           0
          ],
          [
           "Indian_Ocean",
           "Maldives",
           1282
          ],
          [
           "Indian_Ocean",
           "Mauritius",
           0
          ],
          [
           "Indian_Ocean",
           "Australia",
           579
          ],
          [
           "Indian_Ocean",
           "Maldives",
           8952
          ],
          [
           "Indian_Ocean",
           "Maldives",
           7190
          ],
          [
           "Indian_Ocean",
           "Maldives",
           6637
          ],
          [
           "Indian_Ocean",
           "Seychelles",
           0
          ],
          [
           "Indian_Ocean",
           "Seychelles",
           0
          ],
          [
           "Indian_Ocean",
           "India",
           11
          ],
          [
           "Indian_Ocean",
           "Maldives",
           56172
          ],
          [
           "Indian_Ocean",
           "Maldives",
           1924
          ],
          [
           "Indian_Ocean",
           "Maldives",
           0
          ]
         ],
         "hovertemplate": "<b>%{hovertext}</b><br><br>region=%{customdata[0]}<br>total_atoll_area_sqkm=%{marker.size}<br>lat=%{lat}<br>long=%{lon}<br>country=%{customdata[1]}<br>human_population=%{customdata[2]}<extra></extra>",
         "hovertext": [
          "Addu",
          "Agatti",
          "Aldabra",
          "Alphonse",
          "Ari",
          "Astove",
          "Bangaram",
          "Bitra_Par",
          "Byramgore",
          "Cherbaniani",
          "Chetlat",
          "Cosmoledo",
          "Desroches",
          "Diego_Garcia",
          "Egmont",
          "Europa",
          "Faadhippolhu",
          "Farquhar",
          "Fasdhuthere",
          "Felidhu",
          "Fuvahmulah",
          "Gaafaru",
          "Glorioso",
          "Goidhoo",
          "Great_Chagos_Bank",
          "Haddhunmathi",
          "Huvadhu",
          "Ihavandhippolu",
          "Kaashidhoo",
          "Kademat",
          "Kalpeni",
          "Kavaratti",
          "Kiltan",
          "Kolhumadulu",
          "Makunudhoo",
          "Minicoy",
          "Mulaku",
          "North_Keeling",
          "North_Maalhosmadulu",
          "North_Male",
          "North_Nilandhe",
          "Peremul_Par",
          "Peros_Banhos",
          "Platte",
          "Providence",
          "Rasdhoo",
          "Saloman",
          "South_Keeling",
          "South_Maalhosmadulu",
          "South_Male",
          "South_Nilandhe",
          "St_Francois",
          "St_Joseph",
          "Suheli_Par",
          "Thiladhunmathi",
          "Thoddoo",
          "Vattaru"
         ],
         "lat": {
          "bdata": "euQPBp575L9qhlRRvLIlQK1tisdF1SLAvjCZKhgVHMCkcD0K16MOQLw+c9anLCTAJR+7C5TkJUCbVZ+rrRgnQJkqGJXUySdAF0hQ/BizKEBQjZduEmMnQHQMyF7vbiPAn+V5cHeWFsC7TtmfelodwBiV1AloohrAkQ96NqteNsAdWmQ7348VQBaMpaN3XSTAsp3vp8ZLFUBy+Q/pt68LQF4u4jsx69K/duCcEaX9EkDV52or9hcnwLPviuB/axNAyhZJu9HXGMAFNBE2PL3+Px3J5T+k394/zTtO0ZEcHEAQQGoTJ9cTQMX+snvycCZAoyO5/Ic0JEBYqDXNOx4lQKCJsOHp9SZAF7fRAN4CA0CUh4Va0zwZQEhQ/BhzlyBArIvbaADvB0DF4jeFlaonwE2EDU+vVBZAOiNKe4OvEUDImLuWkI8JQD9XW7G/TCZACfmgZ7NqFcD6mA8IdIYXwLG/7J483CLAeqUsQxwrEUCneccpOlIVwByY3CiyTijAeLMG76uiFECR1a2ek94PQIqw4emVsgZA8fRKWYZ4HMBiodY077gVwLprCfmgJyRAQPhQoiVPGUA0FHe8yb8RQAN4CyQo/glA",
          "dtype": "f8"
         },
         "legendgroup": "Indian_Ocean",
         "lon": {
          "bdata": "miZsPxlKUkDXv+szZwtSQHhHxmrzK0dAAwmKH2NeSkBmZmZmZjZSQBh7L75o30dAqgzjbhATUkAKaCJseApSQNc07zhF81FA0gDeAgn6UUD3Bl+YTC1SQEljtI6qykdAECOERxvTSkC9j6M5Mh5SQF+YTBWM1lFALGUZ4lgvREDhehSuR2FSQE4On3QilUlAorQ3+MJAUkDn+6nx0l1SQGmoUUgyW1JA3bWEfNBbUkC2hHzQs6lHQGZrfZHQOlJAwopTrYUDUkCL/WX35FlSQJqZmZmZUVJAtTf4wmQ6UkBz1xLyQV1SQHe+nxovMVJA/kP67etoUkDbaRCLvShSQM4ZUdobQFJAppvEILBGUkAzxLEubidSQC1DHOviQlJA3EYDeAtgUkD4qpUJvzRYQPCFyVTBPFJAsb/snjxgUkBzaJHtfDtSQOQUHcnlA1JAw2SqYFT2UUBKJqd2hqtLQO2ePCzUhklAu7iNBvA+UkA5tMh2vg9SQB0AcVevN1hAml5iLNM+UkA1e6AVGFxSQLKd76fGO1JAHVpkO99fSkCX/5B++6pKQC2yne+nElJAO99PjZdEUkDM7snDQj1SQAXFjzF3W1JA",
          "dtype": "f8"
         },
         "marker": {
          "color": "#00cc96",
          "size": {
           "bdata": "7FG4HoVjYkCamZmZmZk4QAAAAAAAxHZAAAAAAADAM0DNzMzMTGyhQOF6FK5H4TVA7FG4HoWLRkCamZmZmblMQBBYObTIdiRAuB6F61GYQ0BI4XoUrkcLQDMzMzMzE2JAAAAAAACAZ0DsUbgehbtlQM3MzMzMjEBA16NwPQrXRUDXo3A9Cp+FQGZmZmZmrmVAuB6F61FwYECF61G4HteQQGZmZmZmZhZA9ihcj8IFVUCkcD0K1+NEQI/C9ShcL1pAAAAAAID0yEDsUbgehQ2LQD0K16NwS6lAhetRuB4RcUDsUbgehesfQBSuR+F61DVArkfhehQuO0DhehSuR+EhQHE9CtejcA1A9ihcj8IWmkDsUbgehSNgQMP1KFyP4kFAmpmZmZlXjkD2KFyPwvUEQGZmZmZmBpJA16NwPQolmEBcj8L1KGKCQOF6FK5HIVNAzczMzMxMf0DsUbgehVNpQMP1KFyPKnpAUrgehevxTUApXI/C9YhBQFyPwvUorGBAhetRuB5HjUBmZmZmZkqAQNejcD0KdYZAKVyPwvUoS0CamZmZmZk2QM3MzMzMLFVA16NwPQqnrUAUrkfhehQOQDMzMzMzs0ZA",
           "dtype": "f8"
          },
          "sizemode": "area",
          "sizeref": 56.78666666666667
         },
         "mode": "markers",
         "name": "Indian_Ocean",
         "showlegend": true,
         "subplot": "mapbox",
         "type": "scattermapbox"
        },
        {
         "customdata": [
          [
           "Melanesia",
           "Papua_New_Guinea",
           0
          ],
          [
           "Melanesia",
           "Papua_New_Guinea",
           0
          ],
          [
           "Melanesia",
           "New_Caledonia",
           0
          ],
          [
           "Melanesia",
           "New_Caledonia",
           0
          ],
          [
           "Melanesia",
           "Solomon_Islands",
           0
          ],
          [
           "Melanesia",
           "Solomon_Islands",
           300
          ],
          [
           "Melanesia",
           "Australia",
           0
          ],
          [
           "Melanesia",
           "New_Caledonia",
           0
          ],
          [
           "Melanesia",
           "Solomon_Islands",
           30
          ],
          [
           "Melanesia",
           "Papua_New_Guinea",
           0
          ],
          [
           "Melanesia",
           "New_Caledonia",
           0
          ],
          [
           "Melanesia",
           "Papua_New_Guinea",
           979
          ],
          [
           "Melanesia",
           "Solomon_Islands",
           0
          ],
          [
           "Melanesia",
           "Papua_New_Guinea",
           0
          ],
          [
           "Melanesia",
           "Solomon_Islands",
           0
          ],
          [
           "Melanesia",
           "Australia",
           0
          ],
          [
           "Melanesia",
           "Papua_New_Guinea",
           null
          ],
          [
           "Melanesia",
           "Papua_New_Guinea",
           0
          ],
          [
           "Melanesia",
           "Papua_New_Guinea",
           0
          ],
          [
           "Melanesia",
           "Papua_New_Guinea",
           0
          ],
          [
           "Melanesia",
           "Papua_New_Guinea",
           0
          ],
          [
           "Melanesia",
           "Australia",
           0
          ],
          [
           "Melanesia",
           "Papua_New_Guinea",
           2400
          ],
          [
           "Melanesia",
           "Papua_New_Guinea",
           7500
          ],
          [
           "Melanesia",
           "Papua_New_Guinea",
           400
          ],
          [
           "Melanesia",
           "Solomon_Islands",
           45
          ],
          [
           "Melanesia",
           "Papua_New_Guinea",
           464
          ],
          [
           "Melanesia",
           "Fiji",
           0
          ],
          [
           "Melanesia",
           "Fiji",
           0
          ],
          [
           "Melanesia",
           "Solomon_Islands",
           1262
          ],
          [
           "Melanesia",
           "Solomon_Islands",
           25
          ],
          [
           "Melanesia",
           "Solomon_Islands",
           3006
          ],
          [
           "Melanesia",
           "Papua_New_Guinea",
           901
          ],
          [
           "Melanesia",
           "Fiji",
           0
          ],
          [
           "Melanesia",
           "Papua_New_Guinea",
           0
          ],
          [
           "Melanesia",
           "Vanuatu",
           0
          ],
          [
           "Melanesia",
           "Papua_New_Guinea",
           0
          ],
          [
           "Melanesia",
           "Papua_New_Guinea",
           0
          ],
          [
           "Melanesia",
           "Solomon_Islands",
           359
          ],
          [
           "Melanesia",
           "New_Caledonia",
           0
          ],
          [
           "Melanesia",
           "Papua_New_Guinea",
           443
          ],
          [
           "Melanesia",
           "Papua_New_Guinea",
           null
          ],
          [
           "Melanesia",
           "Papua_New_Guinea",
           10
          ],
          [
           "Melanesia",
           "Fiji",
           0
          ],
          [
           "Melanesia",
           "Australia",
           0
          ]
         ],
         "hovertemplate": "<b>%{hovertext}</b><br><br>region=%{customdata[0]}<br>total_atoll_area_sqkm=%{marker.size}<br>lat=%{lat}<br>long=%{lon}<br>country=%{customdata[1]}<br>human_population=%{customdata[2]}<extra></extra>",
         "hovertext": [
          "Analtin",
          "Awin",
          "Beautemps-Beaupre",
          "Bellona",
          "Bramble_Haven",
          "Budibudi",
          "Cato",
          "Chesterfield",
          "Conflict",
          "Egum",
          "Huon",
          "Kilinailau",
          "Kurimarau",
          "Laualau",
          "Leli",
          "Lihou",
          "Liot",
          "Long_Reef",
          "Loraine_Anobat",
          "Mabui",
          "Malum",
          "Mellish",
          "Ninigo",
          "Nissan",
          "Nuguria",
          "Nukapu",
          "Nukumanu",
          "Nukumbasanga",
          "Nukusemanu",
          "Numa_Miombilou",
          "Nupani",
          "Ontong_Java",
          "Pinipel",
          "Qelelevu",
          "Redlick",
          "Rowa",
          "Sama",
          "Samasuma",
          "Sikaiana",
          "Surprise",
          "Takuu",
          "Tilianu",
          "Torlesse",
          "Wailagilala",
          "Willis"
         ],
         "lat": {
          "bdata": "vsEXJlMF8r/8qfHSTWL6v5zEILByWDTADi2yne8nNcBos+pztXUmwPs6cM6IkiLA58b0hCU2N8DTTWIQWEkzwMiYu5aQjyXAUrgehevRIsC1N/jCZBoywArXo3A9ChPAEce6uI0GIsCqfM9IhAbyv2dEaW/whSHACtejcD1aMcDjx5i7lpD2v5p3nKIjWSbAsHJoke18AsBbsb/sntwlwJeQD3o2KwnA6gQ0ETZkMcA8TtGRXP70v1ioNc07DhLAdZMYBFaOCsADCYofYy4kwF3+Q/rtKxLAD+7O2m1PMMDSAN4CCXowwNv5fmq8dCTACfmgZ7MqJMBMN4lBYGUVwJqZmZmZmRHACKwcWmQbMMCsHFpkO78lwOXyH9JvPyvAiPTb14Fz9r8ZBFYOLbL3vzqvsUtUzyDAfa62Yn9pMsAW+8vuyQMTwGiR7Xw/NQLA4JwRpb2hJcBnRGlv8MUwwLprCfmgTzDA",
          "dtype": "f8"
         },
         "legendgroup": "Melanesia",
         "lon": {
          "bdata": "Imx4eqUMYkAmUwWjkgBiQB04Z0RpxWRAL26jAbzfY0DxY8xdSwBjQL1SliGONWNAYKsEi8NxY0DvOEVHctNjQKjGSzeJ+WJArkfhehT+YkDRItv5flxkQLyWkA96bGNAfPKwUGvoY0CxqIjTyQ9iQPH0SlmGIGRA+IiYEkn4YkDufD81XhBiQINRSZ2A8mJAd76fGi9xYkAi/fZ14BJjQCBB8WPMT2NAXaeRlsp7Y0BbQj7o2QhiQCo6kst/RmNAtRX7y+5VY0AQejarPsFkQMZtNIC37GNAqg65GW5oZsCtF0M50W5mwPaX3ZOHx2RAF9nO91O3ZECDUUmdgOpjQP2H9NvXQ2NAokW28/1oZsDMf0i/fRFjQDvfT42X8GRAirDh6ZUCYkAFxY8xdwFiQFioNc07XGRACyQofoxjZED+1HjpJp9jQEvIBz2bcWJAjZduEoMGY0CM22gAb2NmwJrOTgZHu2JA",
          "dtype": "f8"
         },
         "marker": {
          "color": "#ab63fa",
          "size": {
           "bdata": "zczMzMyMTkBxPQrXo/AhQD0K16NwzVtACtejcJ2qwEAzMzMzMwNlQHsUrkfh+jVAzczMzMxMIUCamZmZGcmuQD0K16NwvWhAAAAAAABkgEDsUbgehfNzQLgehetRkHJAuB6F61G4DECamZmZmRkrQArXo3A9Ci9AexSuR2FBokBI4XoUrkcWQK5H4XoUtJNAhetRuB6FHUAK16NwPQoXQOxRuB6Fy0NAj8L1KFxPM0C4HoXrUex5QOF6FK5HcVVAH4XrUbhmZUBcj8L1KFwUQPYoXI/C1W5AAAAAAAAAG0ApXI/C9SR1QFK4HoXrAW5ACtejcD0KNECamZmZmbWVQI/C9ShczzhAhetRuB49ZkDsUbgehatFQNejcD0KlzhAPQrXo3A9HUAzMzMzM7MmQEjhehSuhztAmpmZmZm1fUB7FK5H4cpfQPYoXI/C9fw/KVyPwvUoJ0CuR+F6FO40QDMzMzMzE4ZA",
           "dtype": "f8"
          },
          "sizemode": "area",
          "sizeref": 56.78666666666667
         },
         "mode": "markers",
         "name": "Melanesia",
         "showlegend": true,
         "subplot": "mapbox",
         "type": "scattermapbox"
        },
        {
         "customdata": [
          [
           "Timor_Sea",
           "Australia",
           0
          ]
         ],
         "hovertemplate": "<b>%{hovertext}</b><br><br>region=%{customdata[0]}<br>total_atoll_area_sqkm=%{marker.size}<br>lat=%{lat}<br>long=%{lon}<br>country=%{customdata[1]}<br>human_population=%{customdata[2]}<extra></extra>",
         "hovertext": [
          "Ashmore"
         ],
         "lat": {
          "bdata": "JGJKJNF7KMA=",
          "dtype": "f8"
         },
         "legendgroup": "Timor_Sea",
         "lon": {
          "bdata": "seHplbLGXkA=",
          "dtype": "f8"
         },
         "marker": {
          "color": "#FFA15A",
          "size": {
           "bdata": "hetRuB6JcEA=",
           "dtype": "f8"
          },
          "sizemode": "area",
          "sizeref": 56.78666666666667
         },
         "mode": "markers",
         "name": "Timor_Sea",
         "showlegend": true,
         "subplot": "mapbox",
         "type": "scattermapbox"
        }
       ],
       "layout": {
        "height": 600,
        "legend": {
         "itemsizing": "constant",
         "title": {
          "text": "region"
         },
         "tracegroupgap": 0
        },
        "mapbox": {
         "accesstoken": "pk.eyJ1IjoiY3Jpc2JldGg0NiIsImEiOiJjbWM0dG1jeGMwa3Y0MmpzYTRobjM3NHp3In0.kGGMStYgqzcNE-i5u9wUMw",
         "center": {
          "lat": -3.937128176340695,
          "lon": 22.64544628138801
         },
         "domain": {
          "x": [
           0,
           1
          ],
          "y": [
           0,
           1
          ]
         },
         "style": "satellite-streets",
         "zoom": 1
        },
        "margin": {
         "b": 0,
         "l": 0,
         "r": 0,
         "t": 40
        },
        "template": {
         "data": {
          "bar": [
           {
            "error_x": {
             "color": "#2a3f5f"
            },
            "error_y": {
             "color": "#2a3f5f"
            },
            "marker": {
             "line": {
              "color": "#E5ECF6",
              "width": 0.5
             },
             "pattern": {
              "fillmode": "overlay",
              "size": 10,
              "solidity": 0.2
             }
            },
            "type": "bar"
           }
          ],
          "barpolar": [
           {
            "marker": {
             "line": {
              "color": "#E5ECF6",
              "width": 0.5
             },
             "pattern": {
              "fillmode": "overlay",
              "size": 10,
              "solidity": 0.2
             }
            },
            "type": "barpolar"
           }
          ],
          "carpet": [
           {
            "aaxis": {
             "endlinecolor": "#2a3f5f",
             "gridcolor": "white",
             "linecolor": "white",
             "minorgridcolor": "white",
             "startlinecolor": "#2a3f5f"
            },
            "baxis": {
             "endlinecolor": "#2a3f5f",
             "gridcolor": "white",
             "linecolor": "white",
             "minorgridcolor": "white",
             "startlinecolor": "#2a3f5f"
            },
            "type": "carpet"
           }
          ],
          "choropleth": [
           {
            "colorbar": {
             "outlinewidth": 0,
             "ticks": ""
            },
            "type": "choropleth"
           }
          ],
          "contour": [
           {
            "colorbar": {
             "outlinewidth": 0,
             "ticks": ""
            },
            "colorscale": [
             [
              0,
              "#0d0887"
             ],
             [
              0.1111111111111111,
              "#46039f"
             ],
             [
              0.2222222222222222,
              "#7201a8"
             ],
             [
              0.3333333333333333,
              "#9c179e"
             ],
             [
              0.4444444444444444,
              "#bd3786"
             ],
             [
              0.5555555555555556,
              "#d8576b"
             ],
             [
              0.6666666666666666,
              "#ed7953"
             ],
             [
              0.7777777777777778,
              "#fb9f3a"
             ],
             [
              0.8888888888888888,
              "#fdca26"
             ],
             [
              1,
              "#f0f921"
             ]
            ],
            "type": "contour"
           }
          ],
          "contourcarpet": [
           {
            "colorbar": {
             "outlinewidth": 0,
             "ticks": ""
            },
            "type": "contourcarpet"
           }
          ],
          "heatmap": [
           {
            "colorbar": {
             "outlinewidth": 0,
             "ticks": ""
            },
            "colorscale": [
             [
              0,
              "#0d0887"
             ],
             [
              0.1111111111111111,
              "#46039f"
             ],
             [
              0.2222222222222222,
              "#7201a8"
             ],
             [
              0.3333333333333333,
              "#9c179e"
             ],
             [
              0.4444444444444444,
              "#bd3786"
             ],
             [
              0.5555555555555556,
              "#d8576b"
             ],
             [
              0.6666666666666666,
              "#ed7953"
             ],
             [
              0.7777777777777778,
              "#fb9f3a"
             ],
             [
              0.8888888888888888,
              "#fdca26"
             ],
             [
              1,
              "#f0f921"
             ]
            ],
            "type": "heatmap"
           }
          ],
          "histogram": [
           {
            "marker": {
             "pattern": {
              "fillmode": "overlay",
              "size": 10,
              "solidity": 0.2
             }
            },
            "type": "histogram"
           }
          ],
          "histogram2d": [
           {
            "colorbar": {
             "outlinewidth": 0,
             "ticks": ""
            },
            "colorscale": [
             [
              0,
              "#0d0887"
             ],
             [
              0.1111111111111111,
              "#46039f"
             ],
             [
              0.2222222222222222,
              "#7201a8"
             ],
             [
              0.3333333333333333,
              "#9c179e"
             ],
             [
              0.4444444444444444,
              "#bd3786"
             ],
             [
              0.5555555555555556,
              "#d8576b"
             ],
             [
              0.6666666666666666,
              "#ed7953"
             ],
             [
              0.7777777777777778,
              "#fb9f3a"
             ],
             [
              0.8888888888888888,
              "#fdca26"
             ],
             [
              1,
              "#f0f921"
             ]
            ],
            "type": "histogram2d"
           }
          ],
          "histogram2dcontour": [
           {
            "colorbar": {
             "outlinewidth": 0,
             "ticks": ""
            },
            "colorscale": [
             [
              0,
              "#0d0887"
             ],
             [
              0.1111111111111111,
              "#46039f"
             ],
             [
              0.2222222222222222,
              "#7201a8"
             ],
             [
              0.3333333333333333,
              "#9c179e"
             ],
             [
              0.4444444444444444,
              "#bd3786"
             ],
             [
              0.5555555555555556,
              "#d8576b"
             ],
             [
              0.6666666666666666,
              "#ed7953"
             ],
             [
              0.7777777777777778,
              "#fb9f3a"
             ],
             [
              0.8888888888888888,
              "#fdca26"
             ],
             [
              1,
              "#f0f921"
             ]
            ],
            "type": "histogram2dcontour"
           }
          ],
          "mesh3d": [
           {
            "colorbar": {
             "outlinewidth": 0,
             "ticks": ""
            },
            "type": "mesh3d"
           }
          ],
          "parcoords": [
           {
            "line": {
             "colorbar": {
              "outlinewidth": 0,
              "ticks": ""
             }
            },
            "type": "parcoords"
           }
          ],
          "pie": [
           {
            "automargin": true,
            "type": "pie"
           }
          ],
          "scatter": [
           {
            "fillpattern": {
             "fillmode": "overlay",
             "size": 10,
             "solidity": 0.2
            },
            "type": "scatter"
           }
          ],
          "scatter3d": [
           {
            "line": {
             "colorbar": {
              "outlinewidth": 0,
              "ticks": ""
             }
            },
            "marker": {
             "colorbar": {
              "outlinewidth": 0,
              "ticks": ""
             }
            },
            "type": "scatter3d"
           }
          ],
          "scattercarpet": [
           {
            "marker": {
             "colorbar": {
              "outlinewidth": 0,
              "ticks": ""
             }
            },
            "type": "scattercarpet"
           }
          ],
          "scattergeo": [
           {
            "marker": {
             "colorbar": {
              "outlinewidth": 0,
              "ticks": ""
             }
            },
            "type": "scattergeo"
           }
          ],
          "scattergl": [
           {
            "marker": {
             "colorbar": {
              "outlinewidth": 0,
              "ticks": ""
             }
            },
            "type": "scattergl"
           }
          ],
          "scattermap": [
           {
            "marker": {
             "colorbar": {
              "outlinewidth": 0,
              "ticks": ""
             }
            },
            "type": "scattermap"
           }
          ],
          "scattermapbox": [
           {
            "marker": {
             "colorbar": {
              "outlinewidth": 0,
              "ticks": ""
             }
            },
            "type": "scattermapbox"
           }
          ],
          "scatterpolar": [
           {
            "marker": {
             "colorbar": {
              "outlinewidth": 0,
              "ticks": ""
             }
            },
            "type": "scatterpolar"
           }
          ],
          "scatterpolargl": [
           {
            "marker": {
             "colorbar": {
              "outlinewidth": 0,
              "ticks": ""
             }
            },
            "type": "scatterpolargl"
           }
          ],
          "scatterternary": [
           {
            "marker": {
             "colorbar": {
              "outlinewidth": 0,
              "ticks": ""
             }
            },
            "type": "scatterternary"
           }
          ],
          "surface": [
           {
            "colorbar": {
             "outlinewidth": 0,
             "ticks": ""
            },
            "colorscale": [
             [
              0,
              "#0d0887"
             ],
             [
              0.1111111111111111,
              "#46039f"
             ],
             [
              0.2222222222222222,
              "#7201a8"
             ],
             [
              0.3333333333333333,
              "#9c179e"
             ],
             [
              0.4444444444444444,
              "#bd3786"
             ],
             [
              0.5555555555555556,
              "#d8576b"
             ],
             [
              0.6666666666666666,
              "#ed7953"
             ],
             [
              0.7777777777777778,
              "#fb9f3a"
             ],
             [
              0.8888888888888888,
              "#fdca26"
             ],
             [
              1,
              "#f0f921"
             ]
            ],
            "type": "surface"
           }
          ],
          "table": [
           {
            "cells": {
             "fill": {
              "color": "#EBF0F8"
             },
             "line": {
              "color": "white"
             }
            },
            "header": {
             "fill": {
              "color": "#C8D4E3"
             },
             "line": {
              "color": "white"
             }
            },
            "type": "table"
           }
          ]
         },
         "layout": {
          "annotationdefaults": {
           "arrowcolor": "#2a3f5f",
           "arrowhead": 0,
           "arrowwidth": 1
          },
          "autotypenumbers": "strict",
          "coloraxis": {
           "colorbar": {
            "outlinewidth": 0,
            "ticks": ""
           }
          },
          "colorscale": {
           "diverging": [
            [
             0,
             "#8e0152"
            ],
            [
             0.1,
             "#c51b7d"
            ],
            [
             0.2,
             "#de77ae"
            ],
            [
             0.3,
             "#f1b6da"
            ],
            [
             0.4,
             "#fde0ef"
            ],
            [
             0.5,
             "#f7f7f7"
            ],
            [
             0.6,
             "#e6f5d0"
            ],
            [
             0.7,
             "#b8e186"
            ],
            [
             0.8,
             "#7fbc41"
            ],
            [
             0.9,
             "#4d9221"
            ],
            [
             1,
             "#276419"
            ]
           ],
           "sequential": [
            [
             0,
             "#0d0887"
            ],
            [
             0.1111111111111111,
             "#46039f"
            ],
            [
             0.2222222222222222,
             "#7201a8"
            ],
            [
             0.3333333333333333,
             "#9c179e"
            ],
            [
             0.4444444444444444,
             "#bd3786"
            ],
            [
             0.5555555555555556,
             "#d8576b"
            ],
            [
             0.6666666666666666,
             "#ed7953"
            ],
            [
             0.7777777777777778,
             "#fb9f3a"
            ],
            [
             0.8888888888888888,
             "#fdca26"
            ],
            [
             1,
             "#f0f921"
            ]
           ],
           "sequentialminus": [
            [
             0,
             "#0d0887"
            ],
            [
             0.1111111111111111,
             "#46039f"
            ],
            [
             0.2222222222222222,
             "#7201a8"
            ],
            [
             0.3333333333333333,
             "#9c179e"
            ],
            [
             0.4444444444444444,
             "#bd3786"
            ],
            [
             0.5555555555555556,
             "#d8576b"
            ],
            [
             0.6666666666666666,
             "#ed7953"
            ],
            [
             0.7777777777777778,
             "#fb9f3a"
            ],
            [
             0.8888888888888888,
             "#fdca26"
            ],
            [
             1,
             "#f0f921"
            ]
           ]
          },
          "colorway": [
           "#636efa",
           "#EF553B",
           "#00cc96",
           "#ab63fa",
           "#FFA15A",
           "#19d3f3",
           "#FF6692",
           "#B6E880",
           "#FF97FF",
           "#FECB52"
          ],
          "font": {
           "color": "#2a3f5f"
          },
          "geo": {
           "bgcolor": "white",
           "lakecolor": "white",
           "landcolor": "#E5ECF6",
           "showlakes": true,
           "showland": true,
           "subunitcolor": "white"
          },
          "hoverlabel": {
           "align": "left"
          },
          "hovermode": "closest",
          "mapbox": {
           "style": "light"
          },
          "paper_bgcolor": "white",
          "plot_bgcolor": "#E5ECF6",
          "polar": {
           "angularaxis": {
            "gridcolor": "white",
            "linecolor": "white",
            "ticks": ""
           },
           "bgcolor": "#E5ECF6",
           "radialaxis": {
            "gridcolor": "white",
            "linecolor": "white",
            "ticks": ""
           }
          },
          "scene": {
           "xaxis": {
            "backgroundcolor": "#E5ECF6",
            "gridcolor": "white",
            "gridwidth": 2,
            "linecolor": "white",
            "showbackground": true,
            "ticks": "",
            "zerolinecolor": "white"
           },
           "yaxis": {
            "backgroundcolor": "#E5ECF6",
            "gridcolor": "white",
            "gridwidth": 2,
            "linecolor": "white",
            "showbackground": true,
            "ticks": "",
            "zerolinecolor": "white"
           },
           "zaxis": {
            "backgroundcolor": "#E5ECF6",
            "gridcolor": "white",
            "gridwidth": 2,
            "linecolor": "white",
            "showbackground": true,
            "ticks": "",
            "zerolinecolor": "white"
           }
          },
          "shapedefaults": {
           "line": {
            "color": "#2a3f5f"
           }
          },
          "ternary": {
           "aaxis": {
            "gridcolor": "white",
            "linecolor": "white",
            "ticks": ""
           },
           "baxis": {
            "gridcolor": "white",
            "linecolor": "white",
            "ticks": ""
           },
           "bgcolor": "#E5ECF6",
           "caxis": {
            "gridcolor": "white",
            "linecolor": "white",
            "ticks": ""
           }
          },
          "title": {
           "x": 0.05
          },
          "xaxis": {
           "automargin": true,
           "gridcolor": "white",
           "linecolor": "white",
           "ticks": "",
           "title": {
            "standoff": 15
           },
           "zerolinecolor": "white",
           "zerolinewidth": 2
          },
          "yaxis": {
           "automargin": true,
           "gridcolor": "white",
           "linecolor": "white",
           "ticks": "",
           "title": {
            "standoff": 15
           },
           "zerolinecolor": "white",
           "zerolinewidth": 2
          }
         }
        },
        "title": {
         "text": "Global Distribution of Indo-Pacific Atolls"
        }
       }
      }
     },
     "metadata": {},
     "output_type": "display_data"
    }
   ],
   "source": [
    "# Set the Mapbox token provided by the user\n",
    "mapbox_token = \"pk.eyJ1IjoiY3Jpc2JldGg0NiIsImEiOiJjbWM0dG1jeGMwa3Y0MmpzYTRobjM3NHp3In0.kGGMStYgqzcNE-i5u9wUMw\"\n",
    "px.set_mapbox_access_token(mapbox_token)\n",
    "\n",
    "# FIX: The TypeError occurs because some string columns are loaded as bytes.\n",
    "# We need to decode them to strings before plotting.\n",
    "for col in ['atoll', 'region', 'country']:\n",
    "    if col in merged_df.columns:\n",
    "        # Apply a function to decode bytes to string, and leave other types as they are.\n",
    "        merged_df[col] = merged_df[col].apply(lambda x: x.decode('utf-8') if isinstance(x, bytes) else x)\n",
    "\n",
    "# Ensure numeric columns are properly typed for the plot, coercing errors\n",
    "for col in ['lat', 'long', 'human_population', 'total_atoll_area_sqkm']:\n",
    "    if col in merged_df.columns:\n",
    "        merged_df[col] = pd.to_numeric(merged_df[col], errors='coerce')\n",
    "\n",
    "# Drop rows where lat/lon are missing, as they can't be plotted.\n",
    "merged_df.dropna(subset=['lat', 'long'], inplace=True)\n",
    "        \n",
    "# Create the interactive map\n",
    "fig = px.scatter_mapbox(\n",
    "    merged_df,\n",
    "    lat=\"lat\",\n",
    "    lon=\"long\",\n",
    "    hover_name=\"atoll\",\n",
    "    hover_data=[\"region\", \"country\", \"human_population\"],\n",
    "    color=\"region\",\n",
    "    size=\"total_atoll_area_sqkm\",\n",
    "    color_continuous_scale=px.colors.cyclical.IceFire,\n",
    "    size_max=15,\n",
    "    zoom=1,\n",
    "    height=600,\n",
    "    title=\"Global Distribution of Indo-Pacific Atolls\"\n",
    ")\n",
    "\n",
    "fig.update_layout(mapbox_style=\"satellite-streets\")\n",
    "fig.update_layout(margin={\"r\":0,\"t\":40,\"l\":0,\"b\":0})\n",
    "fig.show()"
   ]
  },
  {
   "cell_type": "markdown",
   "metadata": {},
   "source": [
    "#### Species-Area Relationship Across Different Taxa"
   ]
  },
  {
   "cell_type": "code",
   "execution_count": 35,
   "metadata": {},
   "outputs": [
    {
     "data": {
      "image/png": "[encoded data removed]",
      "text/plain": [
       "<Figure size 1600x1200 with 4 Axes>"
      ]
     },
     "metadata": {},
     "output_type": "display_data"
    }
   ],
   "source": [
    "fig, axes = plt.subplots(2, 2, figsize=(16, 12))\n",
    "fig.suptitle('Species-Area Relationships Across Taxa', fontsize=16)\n",
    "\n",
    "sns.regplot(ax=axes[0, 0], data=merged_df, x='land_area_sqkm', y='plant_richness').set(xscale='log', title='Plants')\n",
    "sns.regplot(ax=axes[0, 1], data=merged_df, x='land_area_sqkm', y='bird_richness').set(xscale='log', title='Birds')\n",
    "sns.regplot(ax=axes[1, 0], data=merged_df, x='land_area_sqkm', y='reptile_richness').set(xscale='log', title='Reptiles')\n",
    "sns.regplot(ax=axes[1, 1], data=merged_df, x='land_area_sqkm', y='arthropod_richness').set(xscale='log', title='Arthropods')\n",
    "\n",
    "for ax in axes.flat:\n",
    "    ax.set_xlabel('Land Area (sq km)')\n",
    "    ax.set_ylabel('Species Richness')\n",
    "    ax.grid(True, which=\"both\", ls=\"--\")\n",
    "\n",
    "plt.tight_layout(rect=[0, 0.03, 1, 0.95])\n",
    "plt.show()"
   ]
  },
  {
   "cell_type": "markdown",
   "metadata": {},
   "source": [
    "#### Correlation Matrix of Integrated Data"
   ]
  },
  {
   "cell_type": "code",
   "execution_count": 36,
   "metadata": {},
   "outputs": [
    {
     "data": {
      "image/png": "[encoded data removed]",
      "text/plain": [
       "<Figure size 1400x1200 with 2 Axes>"
      ]
     },
     "metadata": {},
     "output_type": "display_data"
    }
   ],
   "source": [
    "plt.figure(figsize=(14, 12))\n",
    "corr_cols = ['land_area_sqkm', 'annual_precipitation_mm', 'temp', 'human_population', 'median_nbirds', 'plant_richness', 'bird_richness', 'reptile_richness', 'distance_continent_km']\n",
    "\n",
    "# Ensure columns for correlation are numeric, coercing errors to NaN\n",
    "for col in corr_cols:\n",
    "    if col in merged_df.columns:\n",
    "        merged_df[col] = pd.to_numeric(merged_df[col], errors='coerce')\n",
    "        \n",
    "corr_matrix = merged_df[corr_cols].corr()\n",
    "sns.heatmap(corr_matrix, annot=True, cmap='coolwarm', fmt='.2f')\n",
    "plt.title('Correlation Matrix of Key Atoll Indicators')\n",
    "plt.show()"
   ]
  },
  {
   "cell_type": "markdown",
   "metadata": {},
   "source": [
    "## 4. Conclusion\n",
    "This notebook provided a comprehensive exploratory data analysis by integrating all 21 files of the Indo-Pacific Atolls dataset.\n",
    "\n",
    "Our visualizations revealed:\n",
    "- **Geographic Distribution**: We mapped the global distribution of the atolls, observing their concentration in distinct regions of the Indo-Pacific.\n",
    "- **Species-Area Relationship**: A classic ecological pattern was consistently observed across multiple taxa, where atolls with larger land areas tend to support a higher number of species.\n",
    "- **Correlations**: The correlation matrix highlighted several important relationships. Land area is positively correlated with species richness across all taxa and with seabird populations. Human population shows a negative correlation with seabird populations, suggesting potential impacts of human presence on wildlife. Distance from the continent also shows a negative correlation with plant and reptile richness, indicating the role of isolation in biodiversity.\n",
    "\n",
    "This integrated analysis unlocks a deeper understanding of the complex interplay between physical, biological, and human factors across these unique atoll ecosystems, paving the way for more advanced modeling and conservation research."
   ]
  }
 ],
 "metadata": {
  "kernelspec": {
   "display_name": "Python 3",
   "language": "python",
   "name": "python3"
  },
  "language_info": {
   "codemirror_mode": {
    "name": "ipython",
    "version": 3
   },
   "file_extension": ".py",
   "mimetype": "text/x-python",
   "name": "python",
   "nbconvert_exporter": "python",
   "pygments_lexer": "ipython3",
   "version": "3.9.7"
  }
 },
 "nbformat": 4,
 "nbformat_minor": 2
}
