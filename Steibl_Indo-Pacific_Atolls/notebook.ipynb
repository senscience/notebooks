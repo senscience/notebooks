{
 "cells": [
  {
   "cell_type": "markdown",
   "metadata": {},
   "source": [
    "# Explore the Indo-Pacific Atolls Dataset (Comprehensive)\n",
    "\n",
    "## Introduction\n",
    "This notebook provides a comprehensive exploratory data analysis (EDA) of the \"A multi-layer dataset of Indo-Pacific atolls\" dataset. This dataset contains a rich collection of biogeographic, environmental, biodiversity, and human impact data for over 300 atolls across the Indo-Pacific basin, distributed across 21 files.\n",
    "\n",
    "Learn more:\n",
    "- Data Package doi: [10.71728/senscience.4f2j-8h1k](https://sen.science/doi/10.71728/senscience.4f2j-8h1k/)\n",
    "\n",
    "As a FAIR² Data Package, it ensures accessibility, interoperability, and AI-readiness, supporting research and policy aligned with European directives. FAIR² datasets follow the MLCommons **Croissant** 🥐 format for machine learning datasets. See the [MLCommons Croissant Format Specification](https://docs.mlcommons.org/croissant/docs/croissant-spec.html).\n",
    "\n",
    "This notebook will guide you through loading all the datasets, integrating them into a master DataFrame, and visualizing the combined data to uncover key trends and insights."
   ]
  },
  {
   "cell_type": "markdown",
   "metadata": {},
   "source": [
    "### Install and import required libraries"
   ]
  },
  {
   "cell_type": "code",
   "execution_count": null,
   "metadata": {},
   "outputs": [],
   "source": [
    "# Install mlcroissant from the source\n",
    "!sudo apt-get install python3-dev graphviz libgraphviz-dev pkg-config\n",
    "!pip install mlcroissant[dev]"
   ]
  },
  {
   "cell_type": "code",
   "execution_count": null,
   "metadata": {},
   "outputs": [],
   "source": [
    "import mlcroissant as mlc\n",
    "import pandas as pd\n",
    "import seaborn as sns\n",
    "import matplotlib.pyplot as plt\n",
    "import plotly.express as px\n",
    "from functools import reduce\n",
    "\n",
    "from IPython.display import Markdown, display"
   ]
  },
  {
   "cell_type": "markdown",
   "metadata": {},
   "source": [
    "## 1. Data Loading\n",
    "First, we'll use the `mlcroissant` library to load all 21 record sets defined in the `fair2.json` metadata file. The library reads the metadata and loads the corresponding data into pandas DataFrames."
   ]
  },
  {
   "cell_type": "code",
   "execution_count": null,
   "metadata": {},
   "outputs": [],
   "source": [
    "# Load the dataset from the Croissant metadata file\n",
    "ds = mlc.Dataset('https://sen.science/doi/10.71728/senscience.4f2j-8h1k/fair2.json')\n",
    "\n",
    "# Load all record sets into a dictionary of pandas DataFrames\n",
    "# The key is the record set name, and the value is the DataFrame\n",
    "dataframes = {}\n",
    "for rs in ds.metadata.record_sets:\n",
    "    print(f\"Loading record set: {rs.name}\")\n",
    "    records = ds.records(rs.id)\n",
    "    df = pd.DataFrame(list(records))\n",
    "    # FIX: mlcroissant creates columns with names like 'record_set/column'. We strip the prefix.\n",
    "    df.columns = [col.split('/')[-1] for col in df.columns]\n",
    "    dataframes[rs.name] = df\n",
    "\n",
    "# Assign dataframes to the variables used in the original notebook.\n",
    "main_df = dataframes['atoll_main_310_tidy']\n",
    "biogeography_df = dataframes['atoll_biogeography_310_tidy']\n",
    "environmental_df = dataframes['atoll_environmental_310_tidy']\n",
    "oceanographic_df = dataframes['atoll_oceanographic_310_tidy']\n",
    "landclass_df = dataframes['atoll_landclassification_310_tidy']\n",
    "populations_df = dataframes['atoll_populations_310_tidy']\n",
    "military_df = dataframes['atoll_military_use_tabelle1_tidy']\n",
    "reefscape_df = dataframes['atoll_reefscape_310_tidy']\n",
    "seabird_species_df = dataframes['atoll_seabird_population_by_species_tidy']\n",
    "seabird_totals_df = dataframes['atoll_seabird_population_totals_tidy']\n",
    "plants_df = dataframes['atoll_diversity_plants_sheet1_tidy']\n",
    "birds_df = dataframes['atoll_diversity_birds_tidy']\n",
    "reptiles_df = dataframes['atoll_diversity_reptiles_sheet1_tidy']\n",
    "arthropods_df = dataframes['atoll_diversity_arthropods_sheet1_tidy']\n",
    "landcrabs_df = dataframes['atoll_diversity_landcrabs_sheet1_tidy']\n",
    "mammals_df = dataframes['atoll_diversity_native-mammals_sheet1_tidy']\n",
    "\n",
    "# Load reference files (not used in the main merge but loaded for completeness)\n",
    "plants_refs_df = dataframes['atoll_diversity_plants_refs_sheet1_tidy']\n",
    "reptiles_refs_df = dataframes['atoll_diversity_reptiles_refs_sheet1_tidy']\n",
    "arthropods_refs_df = dataframes['atoll_diversity_arthropods_refs_sheet1_tidy']\n",
    "landcrabs_refs_df = dataframes['atoll_diversity_landcrabs_refs_sheet1_tidy']\n",
    "mammals_refs_df = dataframes['atoll_diversity_native-mammals_refs_sheet1_tidy']\n",
    "\n",
    "print(\"\\nAll 21 record sets loaded successfully using mlcroissant.\")"
   ]
  },
  {
   "cell_type": "markdown",
   "metadata": {},
   "source": [
    "### 1.1 Dataset Metadata\n",
    "Let's inspect the dataset's top-level metadata to understand its name and description."
   ]
  },
  {
   "cell_type": "code",
   "execution_count": null,
   "metadata": {},
   "outputs": [],
   "source": [
    "# Get the dataset's metadata as a JSON-like dictionary\n",
    "metadata = ds.metadata.to_json()\n",
    "\n",
    "# Print the name and description\n",
    "name = metadata.get('name', 'N/A')\n",
    "# The description is under 'description' for Croissant < 1.0, and a list in > 1.0\n",
    "description_obj = metadata.get('description', 'N/A')\n",
    "if isinstance(description_obj, list):\n",
    "    description = description_obj[0].get('@value', 'N/A')\n",
    "else:\n",
    "    description = description_obj\n",
    "    \n",
    "print(f\"{name}: {description}\")"
   ]
  },
  {
   "cell_type": "markdown",
   "metadata": {},
   "source": [
    "## 2. Data Preparation and Integration\n",
    "To perform a holistic analysis, we will process and merge these datasets into a single, comprehensive DataFrame using the 'atoll' column as the common key."
   ]
  },
  {
   "cell_type": "code",
   "execution_count": null,
   "metadata": {},
   "outputs": [],
   "source": [
    "# --- 1. Pre-process and summarize data --- #\n",
    "\n",
    "# In some CSVs, there are invalid rows that are repetitions of the header.\n",
    "# We will clean these by filtering out rows where the 'atoll' column has the value 'atoll'.\n",
    "# We apply this to all biodiversity dataframes to be safe.\n",
    "plants_df = plants_df[plants_df['atoll'] != 'atoll'].copy()\n",
    "birds_df = birds_df[birds_df['atoll'] != 'atoll'].copy()\n",
    "reptiles_df = reptiles_df[reptiles_df['atoll'] != 'atoll'].copy()\n",
    "arthropods_df = arthropods_df[arthropods_df['atoll'] != 'atoll'].copy()\n",
    "landcrabs_df = landcrabs_df[landcrabs_df['atoll'] != 'atoll'].copy()\n",
    "mammals_df = mammals_df[mammals_df['atoll'] != 'atoll'].copy()\n",
    "\n",
    "# This cleaning may cause some columns to be loaded as 'object' type. Let's fix presence columns.\n",
    "for df in [birds_df, reptiles_df, arthropods_df, landcrabs_df, mammals_df]:\n",
    "    if 'presence' in df.columns:\n",
    "        df['presence'] = pd.to_numeric(df['presence'], errors='coerce')\n",
    "\n",
    "# Pivot the reefscape data from long to wide format\n",
    "reefscape_wide_df = reefscape_df.pivot(index='atoll', columns='metric', values='value').reset_index()\n",
    "\n",
    "# Calculate species richness for each biodiversity group\n",
    "plant_richness = plants_df.groupby('atoll')['species'].nunique().reset_index().rename(columns={'species': 'plant_richness'})\n",
    "bird_richness = birds_df.groupby('atoll')['family_species'].nunique().reset_index().rename(columns={'family_species': 'bird_richness'})\n",
    "reptile_richness = reptiles_df.groupby('atoll')['species'].nunique().reset_index().rename(columns={'species': 'reptile_richness'})\n",
    "arthropod_richness = arthropods_df.groupby('atoll')['species'].nunique().reset_index().rename(columns={'species': 'arthropod_richness'})\n",
    "landcrab_richness = landcrabs_df.groupby('atoll')['species'].nunique().reset_index().rename(columns={'species': 'landcrab_richness'})\n",
    "mammal_richness = mammals_df.groupby('atoll')['species'].nunique().reset_index().rename(columns={'species': 'mammal_richness'})\n",
    "\n",
    "# --- 2. Merge all dataframes --- #\n",
    "\n",
    "# Some dataframes have a 'country' column, which would be duplicated from the main_df.\n",
    "# We drop it from the other dataframes before merging.\n",
    "if 'country' in populations_df.columns:\n",
    "    populations_df = populations_df.drop(columns=['country'])\n",
    "if 'country' in military_df.columns:\n",
    "    military_df = military_df.drop(columns=['country'])\n",
    "    \n",
    "data_frames = [\n",
    "    main_df.drop_duplicates(subset='atoll'),\n",
    "    biogeography_df,\n",
    "    environmental_df,\n",
    "    oceanographic_df,\n",
    "    landclass_df,\n",
    "    populations_df,\n",
    "    military_df,\n",
    "    seabird_totals_df,\n",
    "    reefscape_wide_df,\n",
    "    plant_richness, bird_richness, reptile_richness, arthropod_richness, landcrab_richness, mammal_richness\n",
    "]\n",
    "\n",
    "# Use reduce to iteratively merge all dataframes on 'atoll'\n",
    "merged_df = reduce(lambda left, right: pd.merge(left, right, on='atoll', how='left'), data_frames)\n",
    "\n",
    "display(Markdown(\"### Fully Integrated Atoll Data\"))\n",
    "display(merged_df.head())"
   ]
  },
  {
   "cell_type": "markdown",
   "metadata": {},
   "source": [
    "## 3. Exploratory Data Analysis (EDA)\n",
    "Now, let's explore the fully integrated dataset."
   ]
  },
  {
   "cell_type": "markdown",
   "metadata": {},
   "source": [
    "### 3.1 Overview of the Integrated Dataset"
   ]
  },
  {
   "cell_type": "code",
   "execution_count": null,
   "metadata": {},
   "outputs": [],
   "source": [
    "print(\"Integrated Data Info:\")\n",
    "print(f\"Shape of the merged dataframe: {merged_df.shape}\")\n",
    "merged_df.info(verbose=False, max_cols=0) # Get a concise summary"
   ]
  },
  {
   "cell_type": "markdown",
   "metadata": {},
   "source": [
    "### 3.2 Data Visualization"
   ]
  },
  {
   "cell_type": "markdown",
   "metadata": {},
   "source": [
    "#### Global Distribution of Atolls"
   ]
  },
  {
   "cell_type": "code",
   "execution_count": null,
   "metadata": {},
   "outputs": [],
   "source": [
    "# Set the Mapbox token provided by the user\n",
    "mapbox_token = \"pk.eyJ1IjoiY3Jpc2JldGg0NiIsImEiOiJjbWM0dG1jeGMwa3Y0MmpzYTRobjM3NHp3In0.kGGMStYgqzcNE-i5u9wUMw\"\n",
    "px.set_mapbox_access_token(mapbox_token)\n",
    "\n",
    "# FIX: The TypeError occurs because some string columns are loaded as bytes.\n",
    "# We need to decode them to strings before plotting.\n",
    "for col in ['atoll', 'region', 'country']:\n",
    "    if col in merged_df.columns:\n",
    "        # Apply a function to decode bytes to string, and leave other types as they are.\n",
    "        merged_df[col] = merged_df[col].apply(lambda x: x.decode('utf-8') if isinstance(x, bytes) else x)\n",
    "\n",
    "# Ensure numeric columns are properly typed for the plot, coercing errors\n",
    "for col in ['lat', 'long', 'human_population', 'total_atoll_area_sqkm']:\n",
    "    if col in merged_df.columns:\n",
    "        merged_df[col] = pd.to_numeric(merged_df[col], errors='coerce')\n",
    "\n",
    "# Drop rows where lat/lon are missing, as they can't be plotted.\n",
    "merged_df.dropna(subset=['lat', 'long'], inplace=True)\n",
    "        \n",
    "# Create the interactive map\n",
    "fig = px.scatter_mapbox(\n",
    "    merged_df,\n",
    "    lat=\"lat\",\n",
    "    lon=\"long\",\n",
    "    hover_name=\"atoll\",\n",
    "    hover_data=[\"region\", \"country\", \"human_population\"],\n",
    "    color=\"region\",\n",
    "    size=\"total_atoll_area_sqkm\",\n",
    "    color_continuous_scale=px.colors.cyclical.IceFire,\n",
    "    size_max=15,\n",
    "    zoom=1,\n",
    "    height=600,\n",
    "    title=\"Global Distribution of Indo-Pacific Atolls\"\n",
    ")\n",
    "\n",
    "fig.update_layout(mapbox_style=\"satellite-streets\")\n",
    "fig.update_layout(margin={\"r\":0,\"t\":40,\"l\":0,\"b\":0})\n",
    "fig.show()"
   ]
  },
  {
   "cell_type": "markdown",
   "metadata": {},
   "source": [
    "#### Species-Area Relationship Across Different Taxa"
   ]
  },
  {
   "cell_type": "code",
   "execution_count": null,
   "metadata": {},
   "outputs": [],
   "source": [
    "fig, axes = plt.subplots(2, 2, figsize=(16, 12))\n",
    "fig.suptitle('Species-Area Relationships Across Taxa', fontsize=16)\n",
    "\n",
    "sns.regplot(ax=axes[0, 0], data=merged_df, x='land_area_sqkm', y='plant_richness').set(xscale='log', title='Plants')\n",
    "sns.regplot(ax=axes[0, 1], data=merged_df, x='land_area_sqkm', y='bird_richness').set(xscale='log', title='Birds')\n",
    "sns.regplot(ax=axes[1, 0], data=merged_df, x='land_area_sqkm', y='reptile_richness').set(xscale='log', title='Reptiles')\n",
    "sns.regplot(ax=axes[1, 1], data=merged_df, x='land_area_sqkm', y='arthropod_richness').set(xscale='log', title='Arthropods')\n",
    "\n",
    "for ax in axes.flat:\n",
    "    ax.set_xlabel('Land Area (sq km)')\n",
    "    ax.set_ylabel('Species Richness')\n",
    "    ax.grid(True, which=\"both\", ls=\"--\")\n",
    "\n",
    "plt.tight_layout(rect=[0, 0.03, 1, 0.95])\n",
    "plt.show()"
   ]
  },
  {
   "cell_type": "markdown",
   "metadata": {},
   "source": [
    "#### Correlation Matrix of Integrated Data"
   ]
  },
  {
   "cell_type": "code",
   "execution_count": null,
   "metadata": {},
   "outputs": [],
   "source": [
    "plt.figure(figsize=(14, 12))\n",
    "corr_cols = ['land_area_sqkm', 'annual_precipitation_mm', 'temp', 'human_population', 'median_nbirds', 'plant_richness', 'bird_richness', 'reptile_richness', 'distance_continent_km']\n",
    "\n",
    "# Ensure columns for correlation are numeric, coercing errors to NaN\n",
    "for col in corr_cols:\n",
    "    if col in merged_df.columns:\n",
    "        merged_df[col] = pd.to_numeric(merged_df[col], errors='coerce')\n",
    "        \n",
    "corr_matrix = merged_df[corr_cols].corr()\n",
    "sns.heatmap(corr_matrix, annot=True, cmap='coolwarm', fmt='.2f')\n",
    "plt.title('Correlation Matrix of Key Atoll Indicators')\n",
    "plt.show()"
   ]
  },
  {
   "cell_type": "markdown",
   "metadata": {},
   "source": [
    "## 4. Conclusion\n",
    "This notebook provided a comprehensive exploratory data analysis by integrating all 21 files of the Indo-Pacific Atolls dataset.\n",
    "\n",
    "Our visualizations revealed:\n",
    "- **Geographic Distribution**: We mapped the global distribution of the atolls, observing their concentration in distinct regions of the Indo-Pacific.\n",
    "- **Species-Area Relationship**: A classic ecological pattern was consistently observed across multiple taxa, where atolls with larger land areas tend to support a higher number of species.\n",
    "- **Correlations**: The correlation matrix highlighted several important relationships. Land area is positively correlated with species richness across all taxa and with seabird populations. Human population shows a negative correlation with seabird populations, suggesting potential impacts of human presence on wildlife. Distance from the continent also shows a negative correlation with plant and reptile richness, indicating the role of isolation in biodiversity.\n",
    "\n",
    "This integrated analysis unlocks a deeper understanding of the complex interplay between physical, biological, and human factors across these unique atoll ecosystems, paving the way for more advanced modeling and conservation research."
   ]
  }
 ],
 "metadata": {
  "kernelspec": {
   "display_name": "Python 3",
   "language": "python",
   "name": "python3"
  },
  "language_info": {
   "codemirror_mode": {
    "name": "ipython",
    "version": 3
   },
   "file_extension": ".py",
   "mimetype": "text/x-python",
   "name": "python",
   "nbconvert_exporter": "python",
   "pygments_lexer": "ipython3",
   "version": "3.9.7"
  }
 },
 "nbformat": 4,
 "nbformat_minor": 2
}
