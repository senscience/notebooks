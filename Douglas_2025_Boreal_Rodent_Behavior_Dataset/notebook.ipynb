{
 "cells": [
  {
   "cell_type": "markdown",
   "metadata": {},
   "source": [
    "# Boreal Rodent Behavior Observational Data (2020) Exploration with `mlcroissant`\n",
    "This notebook provides a template for loading and exploring a dataset using the `mlcroissant` library.\n",
    "\n",
    "### Dataset Source\n",
    "The dataset source is provided via a Croissant schema URL."
   ]
  },
  {
   "cell_type": "code",
   "execution_count": null,
   "metadata": {},
   "outputs": [],
   "source": [
    "# Ensure `mlcroissant` library is installed\n",
    "!pip install mlcroissant"
   ]
  },
  {
   "cell_type": "markdown",
   "metadata": {},
   "source": [
    "## 1. Data Loading\n",
    "Load metadata and records from the dataset using `mlcroissant`."
   ]
  },
  {
   "cell_type": "code",
   "execution_count": null,
   "metadata": {},
   "outputs": [],
   "source": [
    "import mlcroissant as mlc\n",
    "import pandas as pd\n",
    "from pprint import pprint\n",
    "\n",
    "# Define the dataset URL\n",
    "url = 'https://sen.science/doi/10.71728/senscience.5zsz-gnaq/fair2.json'\n",
    "\n",
    "# Load the dataset metadata\n",
    "dataset = mlc.Dataset(url)\n",
    "dataset_metadata = dataset.metadata\n",
    "pprint(vars(dataset_metadata))"
   ]
  },
  {
   "cell_type": "markdown",
   "metadata": {},
   "source": [
    "## 2. Data Overview\n",
    "Review available record sets, fields, and their IDs."
   ]
  },
  {
   "cell_type": "code",
   "execution_count": null,
   "metadata": {},
   "outputs": [],
   "source": [
    "# Display information about each record set available in the dataset\n",
    "record_sets = dataset_metadata.record_sets\n",
    "for record_set in record_sets:\n",
    "    print(f\"Record set ID: {record_set['@id']}\")\n",
    "    print(\"Fields:\")\n",
    "    for field in record_set.get('fields', []):\n",
    "        print(f\"  - {field['@id']} : {field.get('description', 'No description')}\")\n",
    "    print(\"\")"
   ]
  },
  {
   "cell_type": "markdown",
   "metadata": {},
   "source": [
    "## 3. Data Extraction\n",
    "Load data from a specific record set into a DataFrame for analysis. Use the record set and field `@id`s from the overview."
   ]
  },
  {
   "cell_type": "code",
   "execution_count": null,
   "metadata": {},
   "outputs": [],
   "source": [
    "# Extract data from each record set\n",
    "record_set_id = 'https://api.app.sen.science/frontiers/165e6501-f85b-438d-8044-a63e68cd0f4e/c3f289a7-f59b-4b56-b9cd-fef41436eeda'\n",
    "records = list(dataset.records(record_set=record_set_id))\n",
    "df = pd.DataFrame(records)\n",
    "\n",
    "# Display the first few columns\n",
    "print(df.columns.tolist())\n",
    "df.head()"
   ]
  },
  {
   "cell_type": "markdown",
   "metadata": {},
   "source": [
    "## 4. Exploratory Data Analysis (EDA)\n",
    "Apply common data processing steps, such as filtering records based on specific criteria, normalizing numeric fields, and categorizing data."
   ]
  },
  {
   "cell_type": "code",
   "execution_count": null,
   "metadata": {},
   "outputs": [],
   "source": [
    "# Select a numeric field for analysis\n",
    "numeric_field = 'encounters_count'  # Hypothetical numeric field\n",
    "\n",
    "threshold = 10\n",
    "filtered_df = df[df[numeric_field] > threshold]\n",
    "print(f\"Filtered records with {numeric_field} > {threshold}:\")\n",
    "print(filtered_df.head())\n",
    "\n",
    "filtered_df[f\"{numeric_field}_normalized\"] = (filtered_df[numeric_field] - filtered_df[numeric_field].mean()) / filtered_df[numeric_field].std()\n",
    "print(f\"Normalized {numeric_field} for filtered records:\")\n",
    "print(filtered_df[[numeric_field, f\"{numeric_field}_normalized\"]].head())\n",
    "\n",
    "group_field = 'species_type'  # Hypothetical group field\n",
    "if group_field in df.columns:\n",
    "    grouped_df = filtered_df.groupby(group_field).mean()\n",
    "    print(f\"Grouped data by {group_field}:\")\n",
    "    print(grouped_df.head())"
   ]
  },
  {
   "cell_type": "markdown",
   "metadata": {},
   "source": [
    "## 5. Visualization\n",
    "Visualize data distributions or relationships between fields in the dataset."
   ]
  },
  {
   "cell_type": "code",
   "execution_count": null,
   "metadata": {},
   "outputs": [],
   "source": [
    "import matplotlib.pyplot as plt\n",
    "\n",
    "# Visualize normalized encounters count\n",
    "plt.figure(figsize=(10, 6))\n",
    "plt.hist(filtered_df[f\"{numeric_field}_normalized\"], bins=30, alpha=0.7, label=numeric_field)\n",
    "plt.title('Distribution of Normalized Encounters Count')\n",
    "plt.xlabel('Normalized Count')\n",
    "plt.ylabel('Frequency')\n",
    "plt.legend()\n",
    "plt.show()"
   ]
  },
  {
   "cell_type": "markdown",
   "metadata": {},
   "source": [
    "## 6. Conclusion\n",
    "Summarize key findings and observations from the dataset exploration."
   ]
  },
  {
   "cell_type": "markdown",
   "metadata": {},
   "source": [
    "In this notebook, we explored the `Boreal Rodent Behavior Observational Data (2020)` dataset, described its structure, and performed basic data manipulations and visualizations. We have seen how to filter records based on numeric values, normalize data, and visualize data distributions, which are essential steps in gaining insights from a dataset. By documenting specific field identifiers using `@id`, we ensure data integrity and reproducibility."
   ]
  }
 ],
 "metadata": {
  "kernelspec": {
   "display_name": "Python 3",
   "language": "python",
   "name": "python3"
  },
  "language_info": {
   "name": "python",
   "version": "3.8"
  }
 },
 "nbformat": 4,
 "nbformat_minor": 2
}